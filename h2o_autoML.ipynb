{
 "cells": [
  {
   "cell_type": "code",
   "execution_count": 1,
   "metadata": {},
   "outputs": [],
   "source": [
    "%load_ext autoreload"
   ]
  },
  {
   "cell_type": "code",
   "execution_count": 2,
   "metadata": {},
   "outputs": [],
   "source": [
    "import h2o\n",
    "import os\n",
    "import pandas as pd\n",
    "from h2o.estimators import *\n",
    "from h2o.grid import *\n",
    "from h2o.automl import H2OAutoML"
   ]
  },
  {
   "cell_type": "code",
   "execution_count": 3,
   "metadata": {},
   "outputs": [],
   "source": [
    "## Read data ##\n",
    "A_train_target = pd.read_parquet('data/A/parquet/train_targets.parquet')\n",
    "A_test = pd.read_parquet('data/A/parquet/X_test_estimated.parquet')\n",
    "A_train_estimated = pd.read_parquet('data/A/parquet/X_train_estimated.parquet')\n",
    "A_train_observed = pd.read_parquet('data/A/parquet/X_train_observed.parquet')\n",
    "\n",
    "B_train_target = pd.read_parquet('data/B/parquet/train_targets.parquet')\n",
    "B_test = pd.read_parquet('data/B/parquet/X_test_estimated.parquet')\n",
    "B_train_estimated = pd.read_parquet('data/B/parquet/X_train_estimated.parquet')\n",
    "B_train_observed = pd.read_parquet('data/B/parquet/X_train_observed.parquet')\n",
    "\n",
    "C_train_target = pd.read_parquet('data/C/parquet/train_targets.parquet')\n",
    "C_test = pd.read_parquet('data/C/parquet/X_test_estimated.parquet')\n",
    "C_train_estimated = pd.read_parquet('data/C/parquet/X_train_estimated.parquet')\n",
    "C_train_observed = pd.read_parquet('data/C/parquet/X_train_observed.parquet')\n",
    "###############\n",
    "\n",
    "## Concatinate train data ##\n",
    "A_train_concat = pd.concat([A_train_observed, A_train_estimated], axis=0)\n",
    "B_train_concat = pd.concat([B_train_observed, B_train_estimated], axis=0)\n",
    "C_train_concat = pd.concat([C_train_observed, C_train_estimated], axis=0)\n",
    "\n",
    "# Set index to date_forecast\n",
    "A_train_concat.set_index('date_forecast', inplace=True)\n",
    "B_train_concat.set_index('date_forecast', inplace=True)\n",
    "C_train_concat.set_index('date_forecast', inplace=True)\n",
    "\n",
    "# Drop date_calc column\n",
    "A_train_concat.drop(columns=['date_calc'], inplace=True)\n",
    "B_train_concat.drop(columns=['date_calc'], inplace=True)\n",
    "C_train_concat.drop(columns=['date_calc'], inplace=True)\n",
    "############################\n",
    "\n",
    "## Format test data to same as train data ##\n",
    "A_test.set_index('date_forecast', inplace=True)\n",
    "B_test.set_index('date_forecast', inplace=True)\n",
    "C_test.set_index('date_forecast', inplace=True)\n",
    "\n",
    "# Drop date_calc column\n",
    "A_test.drop(columns=['date_calc'], inplace=True)\n",
    "B_test.drop(columns=['date_calc'], inplace=True)\n",
    "C_test.drop(columns=['date_calc'], inplace=True)\n",
    "############################################\n",
    "\n",
    "## Cast train_target's RangeIndex to DatetimeIndex ##\n",
    "A_train_target.set_index('time', inplace=True)\n",
    "B_train_target.set_index('time', inplace=True)\n",
    "C_train_target.set_index('time', inplace=True)\n",
    "#####################################################\n",
    "\n",
    "## Add 'pv_measurement' column from train_target to train data ##\n",
    "A_train_concat['pv_measurement'] = A_train_target['pv_measurement']\n",
    "B_train_concat['pv_measurement'] = B_train_target['pv_measurement']\n",
    "C_train_concat['pv_measurement'] = C_train_target['pv_measurement']\n",
    "\n",
    "# Remove all rows with NaN values in 'pv_measurement' column in train_concat\n",
    "A_train_concat.dropna(subset=['pv_measurement'], inplace=True)\n",
    "B_train_concat.dropna(subset=['pv_measurement'], inplace=True)\n",
    "C_train_concat.dropna(subset=['pv_measurement'], inplace=True)\n",
    "###################################################################\n",
    "\n",
    "## Check that every index in train_concat is in train_target ##\n",
    "if len(A_train_concat.index) == len(A_train_target.index) or len(B_train_concat.index) == len(B_train_target.index) or len(C_train_concat.index) == len(C_train_target.index):\n",
    "    print('Same length')\n",
    "else:\n",
    "    # Remove indicies in A_train_target that are not in A_train_concat\n",
    "    A_train_target = A_train_target[A_train_target.index.isin(A_train_concat.index)]\n",
    "    B_train_target = B_train_target[B_train_target.index.isin(B_train_concat.index)]\n",
    "    C_train_target = C_train_target[C_train_target.index.isin(C_train_concat.index)]\n",
    "    \n",
    "    if len(A_train_concat.index) != len(A_train_target.index) or len(B_train_concat.index) != len(B_train_target.index) or len(C_train_concat.index) != len(C_train_target.index):\n",
    "        print('Not same length')\n",
    "################################################################"
   ]
  },
  {
   "cell_type": "code",
   "execution_count": 4,
   "metadata": {},
   "outputs": [
    {
     "name": "stdout",
     "output_type": "stream",
     "text": [
      "Checking whether there is an H2O instance running at http://localhost:54321. connected.\n"
     ]
    },
    {
     "data": {
      "text/html": [
       "\n",
       "<style>\n",
       "\n",
       "#h2o-table-1.h2o-container {\n",
       "  overflow-x: auto;\n",
       "}\n",
       "#h2o-table-1 .h2o-table {\n",
       "  /* width: 100%; */\n",
       "  margin-top: 1em;\n",
       "  margin-bottom: 1em;\n",
       "}\n",
       "#h2o-table-1 .h2o-table caption {\n",
       "  white-space: nowrap;\n",
       "  caption-side: top;\n",
       "  text-align: left;\n",
       "  /* margin-left: 1em; */\n",
       "  margin: 0;\n",
       "  font-size: larger;\n",
       "}\n",
       "#h2o-table-1 .h2o-table thead {\n",
       "  white-space: nowrap; \n",
       "  position: sticky;\n",
       "  top: 0;\n",
       "  box-shadow: 0 -1px inset;\n",
       "}\n",
       "#h2o-table-1 .h2o-table tbody {\n",
       "  overflow: auto;\n",
       "}\n",
       "#h2o-table-1 .h2o-table th,\n",
       "#h2o-table-1 .h2o-table td {\n",
       "  text-align: right;\n",
       "  /* border: 1px solid; */\n",
       "}\n",
       "#h2o-table-1 .h2o-table tr:nth-child(even) {\n",
       "  /* background: #F5F5F5 */\n",
       "}\n",
       "\n",
       "</style>      \n",
       "<div id=\"h2o-table-1\" class=\"h2o-container\">\n",
       "  <table class=\"h2o-table\">\n",
       "    <caption></caption>\n",
       "    <thead></thead>\n",
       "    <tbody><tr><td>H2O_cluster_uptime:</td>\n",
       "<td>3 hours 4 mins</td></tr>\n",
       "<tr><td>H2O_cluster_timezone:</td>\n",
       "<td>Europe/Oslo</td></tr>\n",
       "<tr><td>H2O_data_parsing_timezone:</td>\n",
       "<td>UTC</td></tr>\n",
       "<tr><td>H2O_cluster_version:</td>\n",
       "<td>3.42.0.4</td></tr>\n",
       "<tr><td>H2O_cluster_version_age:</td>\n",
       "<td>8 days</td></tr>\n",
       "<tr><td>H2O_cluster_name:</td>\n",
       "<td>H2O_from_python_stinky_ixpoqx</td></tr>\n",
       "<tr><td>H2O_cluster_total_nodes:</td>\n",
       "<td>1</td></tr>\n",
       "<tr><td>H2O_cluster_free_memory:</td>\n",
       "<td>1.806 Gb</td></tr>\n",
       "<tr><td>H2O_cluster_total_cores:</td>\n",
       "<td>4</td></tr>\n",
       "<tr><td>H2O_cluster_allowed_cores:</td>\n",
       "<td>4</td></tr>\n",
       "<tr><td>H2O_cluster_status:</td>\n",
       "<td>locked, healthy</td></tr>\n",
       "<tr><td>H2O_connection_url:</td>\n",
       "<td>http://localhost:54321</td></tr>\n",
       "<tr><td>H2O_connection_proxy:</td>\n",
       "<td>{\"http\": null, \"https\": null}</td></tr>\n",
       "<tr><td>H2O_internal_security:</td>\n",
       "<td>False</td></tr>\n",
       "<tr><td>Python_version:</td>\n",
       "<td>3.10.12 final</td></tr></tbody>\n",
       "  </table>\n",
       "</div>\n"
      ],
      "text/plain": [
       "--------------------------  -----------------------------\n",
       "H2O_cluster_uptime:         3 hours 4 mins\n",
       "H2O_cluster_timezone:       Europe/Oslo\n",
       "H2O_data_parsing_timezone:  UTC\n",
       "H2O_cluster_version:        3.42.0.4\n",
       "H2O_cluster_version_age:    8 days\n",
       "H2O_cluster_name:           H2O_from_python_stinky_ixpoqx\n",
       "H2O_cluster_total_nodes:    1\n",
       "H2O_cluster_free_memory:    1.806 Gb\n",
       "H2O_cluster_total_cores:    4\n",
       "H2O_cluster_allowed_cores:  4\n",
       "H2O_cluster_status:         locked, healthy\n",
       "H2O_connection_url:         http://localhost:54321\n",
       "H2O_connection_proxy:       {\"http\": null, \"https\": null}\n",
       "H2O_internal_security:      False\n",
       "Python_version:             3.10.12 final\n",
       "--------------------------  -----------------------------"
      ]
     },
     "metadata": {},
     "output_type": "display_data"
    }
   ],
   "source": [
    "h2o.init()"
   ]
  },
  {
   "cell_type": "code",
   "execution_count": 5,
   "metadata": {},
   "outputs": [
    {
     "name": "stderr",
     "output_type": "stream",
     "text": [
      "/usr/lib/python3/dist-packages/scipy/__init__.py:146: UserWarning: A NumPy version >=1.17.3 and <1.25.0 is required for this version of SciPy (detected version 1.25.1\n",
      "  warnings.warn(f\"A NumPy version >={np_minversion} and <{np_maxversion}\"\n"
     ]
    },
    {
     "name": "stdout",
     "output_type": "stream",
     "text": [
      "Parse progress: |████████████████████████████████████████████████████████████████| (done) 100%\n",
      "Parse progress: |████████████████████████████████████████████████████████████████| (done) 100%\n",
      "Parse progress: |████████████████████████████████████████████████████████████████| (done) 100%\n"
     ]
    }
   ],
   "source": [
    "X_train = A_train_concat\n",
    "y_train = A_train_target\n",
    "\n",
    "X_test = A_test\n",
    "\n",
    "# Convert to h2o frame\n",
    "X_train = h2o.H2OFrame(X_train)\n",
    "y_train = h2o.H2OFrame(y_train)\n",
    "X_test = h2o.H2OFrame(X_test)"
   ]
  },
  {
   "cell_type": "code",
   "execution_count": null,
   "metadata": {},
   "outputs": [],
   "source": [
    "automl = H2OAutoML(max_models=10, seed=1, stopping_metric='MAE')"
   ]
  }
 ],
 "metadata": {
  "kernelspec": {
   "display_name": "Python 3",
   "language": "python",
   "name": "python3"
  },
  "language_info": {
   "codemirror_mode": {
    "name": "ipython",
    "version": 3
   },
   "file_extension": ".py",
   "mimetype": "text/x-python",
   "name": "python",
   "nbconvert_exporter": "python",
   "pygments_lexer": "ipython3",
   "version": "3.10.12"
  }
 },
 "nbformat": 4,
 "nbformat_minor": 2
}
