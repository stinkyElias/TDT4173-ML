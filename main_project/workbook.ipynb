{
 "cells": [
  {
   "cell_type": "code",
   "execution_count": 12,
   "metadata": {},
   "outputs": [
    {
     "name": "stdout",
     "output_type": "stream",
     "text": [
      "The autoreload extension is already loaded. To reload it, use:\n",
      "  %reload_ext autoreload\n"
     ]
    }
   ],
   "source": [
    "%load_ext autoreload"
   ]
  },
  {
   "cell_type": "code",
   "execution_count": 13,
   "metadata": {},
   "outputs": [],
   "source": [
    "import os\n",
    "import pandas as pd\n",
    "import numpy as np\n",
    "import matplotlib.pyplot as plt\n",
    "from utilities import FeaturePlottingFromCSV\n",
    "%matplotlib inline\n"
   ]
  },
  {
   "cell_type": "markdown",
   "metadata": {},
   "source": []
  },
  {
   "cell_type": "code",
   "execution_count": 14,
   "metadata": {},
   "outputs": [
    {
     "ename": "TypeError",
     "evalue": "FeaturePlottingFromCSV.__init__() takes 2 positional arguments but 3 were given",
     "output_type": "error",
     "traceback": [
      "\u001b[0;31m---------------------------------------------------------------------------\u001b[0m",
      "\u001b[0;31mTypeError\u001b[0m                                 Traceback (most recent call last)",
      "\u001b[1;32m/home/stinky/Documents/TDT4173-ML/main_project/workbook.ipynb Cell 4\u001b[0m line \u001b[0;36m3\n\u001b[1;32m      <a href='vscode-notebook-cell:/home/stinky/Documents/TDT4173-ML/main_project/workbook.ipynb#W1sZmlsZQ%3D%3D?line=0'>1</a>\u001b[0m feature_names \u001b[39m=\u001b[39m [\u001b[39m'\u001b[39m\u001b[39mdiffuse_rad:W\u001b[39m\u001b[39m'\u001b[39m, \u001b[39m'\u001b[39m\u001b[39mdirect_rad:W\u001b[39m\u001b[39m'\u001b[39m]\n\u001b[1;32m      <a href='vscode-notebook-cell:/home/stinky/Documents/TDT4173-ML/main_project/workbook.ipynb#W1sZmlsZQ%3D%3D?line=1'>2</a>\u001b[0m data_path \u001b[39m=\u001b[39m \u001b[39m'\u001b[39m\u001b[39m../data/\u001b[39m\u001b[39m'\u001b[39m\n\u001b[0;32m----> <a href='vscode-notebook-cell:/home/stinky/Documents/TDT4173-ML/main_project/workbook.ipynb#W1sZmlsZQ%3D%3D?line=2'>3</a>\u001b[0m feature_plotter \u001b[39m=\u001b[39m FeaturePlottingFromCSV(feature_names, data_path)\n\u001b[1;32m      <a href='vscode-notebook-cell:/home/stinky/Documents/TDT4173-ML/main_project/workbook.ipynb#W1sZmlsZQ%3D%3D?line=3'>4</a>\u001b[0m feature_plotter\u001b[39m.\u001b[39mplot_data()\n",
      "\u001b[0;31mTypeError\u001b[0m: FeaturePlottingFromCSV.__init__() takes 2 positional arguments but 3 were given"
     ]
    }
   ],
   "source": [
    "feature_names = ['diffuse_rad:W', 'direct_rad:W']\n",
    "data_path = '../data/'\n",
    "feature_plotter = FeaturePlottingFromCSV(feature_names, data_path)\n",
    "feature_plotter.plot_data()"
   ]
  }
 ],
 "metadata": {
  "kernelspec": {
   "display_name": "Python 3",
   "language": "python",
   "name": "python3"
  },
  "language_info": {
   "codemirror_mode": {
    "name": "ipython",
    "version": 3
   },
   "file_extension": ".py",
   "mimetype": "text/x-python",
   "name": "python",
   "nbconvert_exporter": "python",
   "pygments_lexer": "ipython3",
   "version": "3.10.12"
  },
  "orig_nbformat": 4
 },
 "nbformat": 4,
 "nbformat_minor": 2
}
