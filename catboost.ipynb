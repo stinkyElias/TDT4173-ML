{
 "cells": [
  {
   "cell_type": "code",
   "execution_count": 84,
   "metadata": {},
   "outputs": [
    {
     "name": "stdout",
     "output_type": "stream",
     "text": [
      "The autoreload extension is already loaded. To reload it, use:\n",
      "  %reload_ext autoreload\n"
     ]
    }
   ],
   "source": [
    "%load_ext autoreload"
   ]
  },
  {
   "cell_type": "code",
   "execution_count": 85,
   "metadata": {},
   "outputs": [],
   "source": [
    "%autoreload\n",
    "\n",
    "import pandas as pd\n",
    "import utilities as utils\n",
    "import catboost as cb\n",
    "import numpy as np\n",
    "\n",
    "from catboost import CatBoostClassifier, Pool, metrics, cv\n",
    "from sklearn.model_selection import train_test_split"
   ]
  },
  {
   "cell_type": "code",
   "execution_count": 86,
   "metadata": {},
   "outputs": [
    {
     "name": "stderr",
     "output_type": "stream",
     "text": [
      "/home/stinky/Documents/ntnu/ml/TDT4173-ML/utilities.py:57: SettingWithCopyWarning: \n",
      "A value is trying to be set on a copy of a slice from a DataFrame\n",
      "\n",
      "See the caveats in the documentation: https://pandas.pydata.org/pandas-docs/stable/user_guide/indexing.html#returning-a-view-versus-a-copy\n",
      "  X_train.fillna(0, inplace=True)\n",
      "/home/stinky/Documents/ntnu/ml/TDT4173-ML/utilities.py:58: SettingWithCopyWarning: \n",
      "A value is trying to be set on a copy of a slice from a DataFrame\n",
      "\n",
      "See the caveats in the documentation: https://pandas.pydata.org/pandas-docs/stable/user_guide/indexing.html#returning-a-view-versus-a-copy\n",
      "  y_train.fillna(0, inplace=True)\n"
     ]
    }
   ],
   "source": [
    "data_list = utils.read_data()\n",
    "Data = utils.DataProcessor(data_list)\n",
    "df = Data.create_train_data() # NaNs are filled with 0\n",
    "df.sort_index(inplace=True)\n",
    "df = df.loc['2019-09-04 08:00:00':]"
   ]
  },
  {
   "cell_type": "code",
   "execution_count": 87,
   "metadata": {},
   "outputs": [
    {
     "data": {
      "text/plain": [
       "Series([], dtype: int64)"
      ]
     },
     "execution_count": 87,
     "metadata": {},
     "output_type": "execute_result"
    }
   ],
   "source": [
    "# Check absent values\n",
    "null_value_stats = df.isnull().sum(axis=0)\n",
    "null_value_stats[null_value_stats != 0]"
   ]
  },
  {
   "cell_type": "code",
   "execution_count": 88,
   "metadata": {},
   "outputs": [],
   "source": [
    "df.fillna(-9999, inplace=True)"
   ]
  },
  {
   "cell_type": "code",
   "execution_count": 89,
   "metadata": {},
   "outputs": [],
   "source": [
    "X = df.drop('pv_measurement', axis=1)\n",
    "y = df['pv_measurement']"
   ]
  },
  {
   "cell_type": "code",
   "execution_count": 90,
   "metadata": {},
   "outputs": [
    {
     "name": "stdout",
     "output_type": "stream",
     "text": [
      "absolute_humidity_2m:gm3          float32\n",
      "air_density_2m:kgm3               float32\n",
      "ceiling_height_agl:m              float32\n",
      "clear_sky_energy_1h:J             float32\n",
      "clear_sky_rad:W                   float32\n",
      "cloud_base_agl:m                  float32\n",
      "dew_or_rime:idx                   float32\n",
      "dew_point_2m:K                    float32\n",
      "diffuse_rad:W                     float32\n",
      "diffuse_rad_1h:J                  float32\n",
      "direct_rad:W                      float32\n",
      "direct_rad_1h:J                   float32\n",
      "effective_cloud_cover:p           float32\n",
      "elevation:m                       float32\n",
      "fresh_snow_12h:cm                 float32\n",
      "fresh_snow_1h:cm                  float32\n",
      "fresh_snow_24h:cm                 float32\n",
      "fresh_snow_3h:cm                  float32\n",
      "fresh_snow_6h:cm                  float32\n",
      "is_day:idx                        float32\n",
      "is_in_shadow:idx                  float32\n",
      "msl_pressure:hPa                  float32\n",
      "precip_5min:mm                    float32\n",
      "precip_type_5min:idx              float32\n",
      "pressure_100m:hPa                 float32\n",
      "pressure_50m:hPa                  float32\n",
      "prob_rime:p                       float32\n",
      "rain_water:kgm2                   float32\n",
      "relative_humidity_1000hPa:p       float32\n",
      "sfc_pressure:hPa                  float32\n",
      "snow_density:kgm3                 float32\n",
      "snow_depth:cm                     float32\n",
      "snow_drift:idx                    float32\n",
      "snow_melt_10min:mm                float32\n",
      "snow_water:kgm2                   float32\n",
      "sun_azimuth:d                     float32\n",
      "sun_elevation:d                   float32\n",
      "super_cooled_liquid_water:kgm2    float32\n",
      "t_1000hPa:K                       float32\n",
      "total_cloud_cover:p               float32\n",
      "visibility:m                      float32\n",
      "wind_speed_10m:ms                 float32\n",
      "wind_speed_u_10m:ms               float32\n",
      "wind_speed_v_10m:ms               float32\n",
      "wind_speed_w_1000hPa:ms           float32\n",
      "hour                                int64\n",
      "day_of_week                         int64\n",
      "quarter                             int64\n",
      "month                               int64\n",
      "year                                int64\n",
      "day_of_year                         int64\n",
      "day_of_month                        int64\n",
      "building                            int64\n",
      "dtype: object\n"
     ]
    }
   ],
   "source": [
    "print(X.dtypes)\n",
    "categorical_features_indices = np.where(X.dtypes != float)[0]"
   ]
  },
  {
   "cell_type": "code",
   "execution_count": 91,
   "metadata": {},
   "outputs": [
    {
     "data": {
      "text/plain": [
       "date_forecast\n",
       "2022-02-28 21:15:00    0.0\n",
       "2022-02-28 21:30:00    0.0\n",
       "2022-02-28 21:30:00    0.0\n",
       "2022-02-28 21:30:00    0.0\n",
       "2022-02-28 21:45:00    0.0\n",
       "Name: pv_measurement, dtype: float64"
      ]
     },
     "execution_count": 91,
     "metadata": {},
     "output_type": "execute_result"
    }
   ],
   "source": [
    "# Set X_train to 75% of df and X_validation to 25% without train_test_split\n",
    "X_train = X.iloc[:int(len(X)*0.75)]\n",
    "X_validation = X.iloc[int(len(X)*0.75):]\n",
    "y_train = y.iloc[:int(len(y)*0.75)]\n",
    "y_validation = y.iloc[int(len(y)*0.75):]\n",
    "\n",
    "X_test = Data.create_test_data()\n",
    "\n",
    "y_validation.head()"
   ]
  },
  {
   "cell_type": "code",
   "execution_count": 92,
   "metadata": {},
   "outputs": [],
   "source": [
    "model = CatBoostClassifier(\n",
    "            custom_loss=[metrics.Accuracy()],\n",
    "            random_seed=42,\n",
    "            logging_level='Silent',\n",
    ")"
   ]
  },
  {
   "cell_type": "code",
   "execution_count": 93,
   "metadata": {},
   "outputs": [
    {
     "ename": "CatBoostError",
     "evalue": "/src/catboost/catboost/private/libs/algo/data.cpp:196: Dataset test #0 contains class label \"2372.7\" that is not present in the learn dataset",
     "output_type": "error",
     "traceback": [
      "\u001b[0;31m---------------------------------------------------------------------------\u001b[0m",
      "\u001b[0;31mCatBoostError\u001b[0m                             Traceback (most recent call last)",
      "\u001b[1;32m/home/stinky/Documents/ntnu/ml/TDT4173-ML/catboost.ipynb Cell 10\u001b[0m line \u001b[0;36m1\n\u001b[0;32m----> <a href='vscode-notebook-cell:/home/stinky/Documents/ntnu/ml/TDT4173-ML/catboost.ipynb#X11sZmlsZQ%3D%3D?line=0'>1</a>\u001b[0m model\u001b[39m.\u001b[39;49mfit(\n\u001b[1;32m      <a href='vscode-notebook-cell:/home/stinky/Documents/ntnu/ml/TDT4173-ML/catboost.ipynb#X11sZmlsZQ%3D%3D?line=1'>2</a>\u001b[0m     X_train, y_train,\n\u001b[1;32m      <a href='vscode-notebook-cell:/home/stinky/Documents/ntnu/ml/TDT4173-ML/catboost.ipynb#X11sZmlsZQ%3D%3D?line=2'>3</a>\u001b[0m     \u001b[39m# cat_features=categorical_features_indices,\u001b[39;49;00m\n\u001b[1;32m      <a href='vscode-notebook-cell:/home/stinky/Documents/ntnu/ml/TDT4173-ML/catboost.ipynb#X11sZmlsZQ%3D%3D?line=3'>4</a>\u001b[0m     eval_set\u001b[39m=\u001b[39;49m(X_validation, y_validation)\n\u001b[1;32m      <a href='vscode-notebook-cell:/home/stinky/Documents/ntnu/ml/TDT4173-ML/catboost.ipynb#X11sZmlsZQ%3D%3D?line=4'>5</a>\u001b[0m     \u001b[39m# plot=True\u001b[39;49;00m\n\u001b[1;32m      <a href='vscode-notebook-cell:/home/stinky/Documents/ntnu/ml/TDT4173-ML/catboost.ipynb#X11sZmlsZQ%3D%3D?line=5'>6</a>\u001b[0m )\n",
      "File \u001b[0;32m~/.local/lib/python3.10/site-packages/catboost/core.py:5100\u001b[0m, in \u001b[0;36mCatBoostClassifier.fit\u001b[0;34m(self, X, y, cat_features, text_features, embedding_features, sample_weight, baseline, use_best_model, eval_set, verbose, logging_level, plot, plot_file, column_description, verbose_eval, metric_period, silent, early_stopping_rounds, save_snapshot, snapshot_file, snapshot_interval, init_model, callbacks, log_cout, log_cerr)\u001b[0m\n\u001b[1;32m   5097\u001b[0m \u001b[39mif\u001b[39;00m \u001b[39m'\u001b[39m\u001b[39mloss_function\u001b[39m\u001b[39m'\u001b[39m \u001b[39min\u001b[39;00m params:\n\u001b[1;32m   5098\u001b[0m     CatBoostClassifier\u001b[39m.\u001b[39m_check_is_compatible_loss(params[\u001b[39m'\u001b[39m\u001b[39mloss_function\u001b[39m\u001b[39m'\u001b[39m])\n\u001b[0;32m-> 5100\u001b[0m \u001b[39mself\u001b[39;49m\u001b[39m.\u001b[39;49m_fit(X, y, cat_features, text_features, embedding_features, \u001b[39mNone\u001b[39;49;00m, sample_weight, \u001b[39mNone\u001b[39;49;00m, \u001b[39mNone\u001b[39;49;00m, \u001b[39mNone\u001b[39;49;00m, \u001b[39mNone\u001b[39;49;00m, baseline, use_best_model,\n\u001b[1;32m   5101\u001b[0m           eval_set, verbose, logging_level, plot, plot_file, column_description, verbose_eval, metric_period,\n\u001b[1;32m   5102\u001b[0m           silent, early_stopping_rounds, save_snapshot, snapshot_file, snapshot_interval, init_model, callbacks, log_cout, log_cerr)\n\u001b[1;32m   5103\u001b[0m \u001b[39mreturn\u001b[39;00m \u001b[39mself\u001b[39m\n",
      "File \u001b[0;32m~/.local/lib/python3.10/site-packages/catboost/core.py:2319\u001b[0m, in \u001b[0;36mCatBoost._fit\u001b[0;34m(self, X, y, cat_features, text_features, embedding_features, pairs, sample_weight, group_id, group_weight, subgroup_id, pairs_weight, baseline, use_best_model, eval_set, verbose, logging_level, plot, plot_file, column_description, verbose_eval, metric_period, silent, early_stopping_rounds, save_snapshot, snapshot_file, snapshot_interval, init_model, callbacks, log_cout, log_cerr)\u001b[0m\n\u001b[1;32m   2315\u001b[0m allow_clear_pool \u001b[39m=\u001b[39m train_params[\u001b[39m\"\u001b[39m\u001b[39mallow_clear_pool\u001b[39m\u001b[39m\"\u001b[39m]\n\u001b[1;32m   2317\u001b[0m \u001b[39mwith\u001b[39;00m log_fixup(log_cout, log_cerr), \\\n\u001b[1;32m   2318\u001b[0m     plot_wrapper(plot, plot_file, \u001b[39m'\u001b[39m\u001b[39mTraining plots\u001b[39m\u001b[39m'\u001b[39m, [_get_train_dir(\u001b[39mself\u001b[39m\u001b[39m.\u001b[39mget_params())]):\n\u001b[0;32m-> 2319\u001b[0m     \u001b[39mself\u001b[39;49m\u001b[39m.\u001b[39;49m_train(\n\u001b[1;32m   2320\u001b[0m         train_pool,\n\u001b[1;32m   2321\u001b[0m         train_params[\u001b[39m\"\u001b[39;49m\u001b[39meval_sets\u001b[39;49m\u001b[39m\"\u001b[39;49m],\n\u001b[1;32m   2322\u001b[0m         params,\n\u001b[1;32m   2323\u001b[0m         allow_clear_pool,\n\u001b[1;32m   2324\u001b[0m         train_params[\u001b[39m\"\u001b[39;49m\u001b[39minit_model\u001b[39;49m\u001b[39m\"\u001b[39;49m]\n\u001b[1;32m   2325\u001b[0m     )\n\u001b[1;32m   2327\u001b[0m \u001b[39m# Have property feature_importance possibly set\u001b[39;00m\n\u001b[1;32m   2328\u001b[0m loss \u001b[39m=\u001b[39m \u001b[39mself\u001b[39m\u001b[39m.\u001b[39m_object\u001b[39m.\u001b[39m_get_loss_function_name()\n",
      "File \u001b[0;32m~/.local/lib/python3.10/site-packages/catboost/core.py:1723\u001b[0m, in \u001b[0;36m_CatBoostBase._train\u001b[0;34m(self, train_pool, test_pool, params, allow_clear_pool, init_model)\u001b[0m\n\u001b[1;32m   1722\u001b[0m \u001b[39mdef\u001b[39;00m \u001b[39m_train\u001b[39m(\u001b[39mself\u001b[39m, train_pool, test_pool, params, allow_clear_pool, init_model):\n\u001b[0;32m-> 1723\u001b[0m     \u001b[39mself\u001b[39;49m\u001b[39m.\u001b[39;49m_object\u001b[39m.\u001b[39;49m_train(train_pool, test_pool, params, allow_clear_pool, init_model\u001b[39m.\u001b[39;49m_object \u001b[39mif\u001b[39;49;00m init_model \u001b[39melse\u001b[39;49;00m \u001b[39mNone\u001b[39;49;00m)\n\u001b[1;32m   1724\u001b[0m     \u001b[39mself\u001b[39m\u001b[39m.\u001b[39m_set_trained_model_attributes()\n",
      "File \u001b[0;32m_catboost.pyx:4645\u001b[0m, in \u001b[0;36m_catboost._CatBoost._train\u001b[0;34m()\u001b[0m\n",
      "File \u001b[0;32m_catboost.pyx:4694\u001b[0m, in \u001b[0;36m_catboost._CatBoost._train\u001b[0;34m()\u001b[0m\n",
      "\u001b[0;31mCatBoostError\u001b[0m: /src/catboost/catboost/private/libs/algo/data.cpp:196: Dataset test #0 contains class label \"2372.7\" that is not present in the learn dataset"
     ]
    }
   ],
   "source": [
    "model.fit(\n",
    "    X_train, y_train,\n",
    "    # cat_features=categorical_features_indices,\n",
    "    eval_set=(X_validation, y_validation)\n",
    "    # plot=True\n",
    ");"
   ]
  }
 ],
 "metadata": {
  "kernelspec": {
   "display_name": "Python 3",
   "language": "python",
   "name": "python3"
  },
  "language_info": {
   "codemirror_mode": {
    "name": "ipython",
    "version": 3
   },
   "file_extension": ".py",
   "mimetype": "text/x-python",
   "name": "python",
   "nbconvert_exporter": "python",
   "pygments_lexer": "ipython3",
   "version": "3.10.12"
  }
 },
 "nbformat": 4,
 "nbformat_minor": 2
}
