{
 "cells": [
  {
   "cell_type": "code",
   "execution_count": 19,
   "metadata": {},
   "outputs": [
    {
     "name": "stdout",
     "output_type": "stream",
     "text": [
      "The autoreload extension is already loaded. To reload it, use:\n",
      "  %reload_ext autoreload\n"
     ]
    }
   ],
   "source": [
    "%load_ext autoreload"
   ]
  },
  {
   "cell_type": "code",
   "execution_count": 20,
   "metadata": {},
   "outputs": [],
   "source": [
    "%autoreload\n",
    "\n",
    "import h2o\n",
    "import pandas as pd\n",
    "import utilities as utils\n",
    "\n",
    "from h2o.automl import H2OAutoML"
   ]
  },
  {
   "cell_type": "code",
   "execution_count": 21,
   "metadata": {},
   "outputs": [],
   "source": [
    "data_list = utils.read_data()\n",
    "Data = utils.DataProcessor(data_list)\n",
    "df = Data.create_train_data()\n",
    "df.sort_index(inplace=True)\n",
    "df = df.loc['2019-09-04 08:00:00':]"
   ]
  },
  {
   "cell_type": "code",
   "execution_count": 22,
   "metadata": {},
   "outputs": [
    {
     "name": "stdout",
     "output_type": "stream",
     "text": [
      "Checking whether there is an H2O instance running at http://localhost:54321. connected.\n"
     ]
    },
    {
     "data": {
      "text/html": [
       "\n",
       "<style>\n",
       "\n",
       "#h2o-table-4.h2o-container {\n",
       "  overflow-x: auto;\n",
       "}\n",
       "#h2o-table-4 .h2o-table {\n",
       "  /* width: 100%; */\n",
       "  margin-top: 1em;\n",
       "  margin-bottom: 1em;\n",
       "}\n",
       "#h2o-table-4 .h2o-table caption {\n",
       "  white-space: nowrap;\n",
       "  caption-side: top;\n",
       "  text-align: left;\n",
       "  /* margin-left: 1em; */\n",
       "  margin: 0;\n",
       "  font-size: larger;\n",
       "}\n",
       "#h2o-table-4 .h2o-table thead {\n",
       "  white-space: nowrap; \n",
       "  position: sticky;\n",
       "  top: 0;\n",
       "  box-shadow: 0 -1px inset;\n",
       "}\n",
       "#h2o-table-4 .h2o-table tbody {\n",
       "  overflow: auto;\n",
       "}\n",
       "#h2o-table-4 .h2o-table th,\n",
       "#h2o-table-4 .h2o-table td {\n",
       "  text-align: right;\n",
       "  /* border: 1px solid; */\n",
       "}\n",
       "#h2o-table-4 .h2o-table tr:nth-child(even) {\n",
       "  /* background: #F5F5F5 */\n",
       "}\n",
       "\n",
       "</style>      \n",
       "<div id=\"h2o-table-4\" class=\"h2o-container\">\n",
       "  <table class=\"h2o-table\">\n",
       "    <caption></caption>\n",
       "    <thead></thead>\n",
       "    <tbody><tr><td>H2O_cluster_uptime:</td>\n",
       "<td>2 hours 12 mins</td></tr>\n",
       "<tr><td>H2O_cluster_timezone:</td>\n",
       "<td>Europe/Oslo</td></tr>\n",
       "<tr><td>H2O_data_parsing_timezone:</td>\n",
       "<td>UTC</td></tr>\n",
       "<tr><td>H2O_cluster_version:</td>\n",
       "<td>3.42.0.4</td></tr>\n",
       "<tr><td>H2O_cluster_version_age:</td>\n",
       "<td>8 days</td></tr>\n",
       "<tr><td>H2O_cluster_name:</td>\n",
       "<td>H2O_from_python_stinky_6f3ksy</td></tr>\n",
       "<tr><td>H2O_cluster_total_nodes:</td>\n",
       "<td>1</td></tr>\n",
       "<tr><td>H2O_cluster_free_memory:</td>\n",
       "<td>1.864 Gb</td></tr>\n",
       "<tr><td>H2O_cluster_total_cores:</td>\n",
       "<td>4</td></tr>\n",
       "<tr><td>H2O_cluster_allowed_cores:</td>\n",
       "<td>4</td></tr>\n",
       "<tr><td>H2O_cluster_status:</td>\n",
       "<td>locked, healthy</td></tr>\n",
       "<tr><td>H2O_connection_url:</td>\n",
       "<td>http://localhost:54321</td></tr>\n",
       "<tr><td>H2O_connection_proxy:</td>\n",
       "<td>{\"http\": null, \"https\": null}</td></tr>\n",
       "<tr><td>H2O_internal_security:</td>\n",
       "<td>False</td></tr>\n",
       "<tr><td>Python_version:</td>\n",
       "<td>3.10.12 final</td></tr></tbody>\n",
       "  </table>\n",
       "</div>\n"
      ],
      "text/plain": [
       "--------------------------  -----------------------------\n",
       "H2O_cluster_uptime:         2 hours 12 mins\n",
       "H2O_cluster_timezone:       Europe/Oslo\n",
       "H2O_data_parsing_timezone:  UTC\n",
       "H2O_cluster_version:        3.42.0.4\n",
       "H2O_cluster_version_age:    8 days\n",
       "H2O_cluster_name:           H2O_from_python_stinky_6f3ksy\n",
       "H2O_cluster_total_nodes:    1\n",
       "H2O_cluster_free_memory:    1.864 Gb\n",
       "H2O_cluster_total_cores:    4\n",
       "H2O_cluster_allowed_cores:  4\n",
       "H2O_cluster_status:         locked, healthy\n",
       "H2O_connection_url:         http://localhost:54321\n",
       "H2O_connection_proxy:       {\"http\": null, \"https\": null}\n",
       "H2O_internal_security:      False\n",
       "Python_version:             3.10.12 final\n",
       "--------------------------  -----------------------------"
      ]
     },
     "metadata": {},
     "output_type": "display_data"
    }
   ],
   "source": [
    "h2o.init()"
   ]
  },
  {
   "cell_type": "code",
   "execution_count": 23,
   "metadata": {},
   "outputs": [
    {
     "name": "stdout",
     "output_type": "stream",
     "text": [
      "Parse progress: |████████████████████████████████████████████████████████████████| (done) 100%\n",
      "Parse progress: |████████████████████████████████████████████████████████████████| (done) 100%\n",
      "Parse progress: |████████████████████████████████████████████████████████████████| (done) 100%\n",
      "Parse progress: |████████████████████████████████████████████████████████████████| (done) 100%\n"
     ]
    }
   ],
   "source": [
    "X_train_0 = df[utils.get_features(0)]\n",
    "X_train_1 = df[utils.get_features(1)]\n",
    "X_train_2 = df[utils.get_features(2)]\n",
    "X_train_3 = df[utils.get_features(3)]\n",
    "\n",
    "train_0 = h2o.H2OFrame(X_train_0)\n",
    "train_1 = h2o.H2OFrame(X_train_1)\n",
    "train_2 = h2o.H2OFrame(X_train_2)\n",
    "train_3 = h2o.H2OFrame(X_train_3)\n",
    "\n",
    "y = 'pv_measurement'\n",
    "\n",
    "X_0 = train_0.columns\n",
    "X_1 = train_1.columns\n",
    "X_2 = train_2.columns\n",
    "X_3 = train_3.columns\n",
    "\n",
    "X_0.remove(y)\n",
    "X_1.remove(y)\n",
    "X_2.remove(y)\n",
    "X_3.remove(y)"
   ]
  },
  {
   "cell_type": "code",
   "execution_count": 24,
   "metadata": {},
   "outputs": [
    {
     "name": "stdout",
     "output_type": "stream",
     "text": [
      "AutoML progress: |██ (cancelled)\n",
      "\n",
      "13:25:15.606: Empty leaderboard.\n",
      "AutoML was not able to build any model within a max runtime constraint of 0 seconds, you may want to increase this value before retrying.\n",
      "\n"
     ]
    },
    {
     "ename": "H2OJobCancelled",
     "evalue": "Job<$03017f00000132d4ffffffff$_afa6a24539383d087c986c538f164f1e> was cancelled by the user.",
     "output_type": "error",
     "traceback": [
      "\u001b[0;31m---------------------------------------------------------------------------\u001b[0m",
      "\u001b[0;31mH2OJobCancelled\u001b[0m                           Traceback (most recent call last)",
      "\u001b[1;32m/home/stinky/Documents/ntnu/ml/TDT4173-ML/autoML_features.ipynb Cell 6\u001b[0m line \u001b[0;36m2\n\u001b[1;32m      <a href='vscode-notebook-cell:/home/stinky/Documents/ntnu/ml/TDT4173-ML/autoML_features.ipynb#W6sZmlsZQ%3D%3D?line=0'>1</a>\u001b[0m aml_0 \u001b[39m=\u001b[39m H2OAutoML(max_models\u001b[39m=\u001b[39m\u001b[39m20\u001b[39m, seed\u001b[39m=\u001b[39m\u001b[39m0\u001b[39m)\n\u001b[0;32m----> <a href='vscode-notebook-cell:/home/stinky/Documents/ntnu/ml/TDT4173-ML/autoML_features.ipynb#W6sZmlsZQ%3D%3D?line=1'>2</a>\u001b[0m aml_0\u001b[39m.\u001b[39;49mtrain(x\u001b[39m=\u001b[39;49mX_0, y\u001b[39m=\u001b[39;49my, training_frame\u001b[39m=\u001b[39;49mtrain_0)\n",
      "File \u001b[0;32m~/.local/lib/python3.10/site-packages/h2o/automl/_estimator.py:676\u001b[0m, in \u001b[0;36mH2OAutoML.train\u001b[0;34m(self, x, y, training_frame, fold_column, weights_column, validation_frame, leaderboard_frame, blending_frame)\u001b[0m\n\u001b[1;32m    674\u001b[0m poll_updates \u001b[39m=\u001b[39m ft\u001b[39m.\u001b[39mpartial(\u001b[39mself\u001b[39m\u001b[39m.\u001b[39m_poll_training_updates, verbosity\u001b[39m=\u001b[39m\u001b[39mself\u001b[39m\u001b[39m.\u001b[39m_verbosity, state\u001b[39m=\u001b[39m{})\n\u001b[1;32m    675\u001b[0m \u001b[39mtry\u001b[39;00m:\n\u001b[0;32m--> 676\u001b[0m     \u001b[39mself\u001b[39;49m\u001b[39m.\u001b[39;49m_job\u001b[39m.\u001b[39;49mpoll(poll_updates\u001b[39m=\u001b[39;49mpoll_updates)\n\u001b[1;32m    677\u001b[0m \u001b[39mfinally\u001b[39;00m:\n\u001b[1;32m    678\u001b[0m     poll_updates(\u001b[39mself\u001b[39m\u001b[39m.\u001b[39m_job, \u001b[39m1\u001b[39m)\n",
      "File \u001b[0;32m~/.local/lib/python3.10/site-packages/h2o/job.py:85\u001b[0m, in \u001b[0;36mH2OJob.poll\u001b[0;34m(self, poll_updates)\u001b[0m\n\u001b[1;32m     83\u001b[0m \u001b[39m# check if failed... and politely print relevant message\u001b[39;00m\n\u001b[1;32m     84\u001b[0m \u001b[39mif\u001b[39;00m \u001b[39mself\u001b[39m\u001b[39m.\u001b[39mstatus \u001b[39m==\u001b[39m \u001b[39m\"\u001b[39m\u001b[39mCANCELLED\u001b[39m\u001b[39m\"\u001b[39m:\n\u001b[0;32m---> 85\u001b[0m     \u001b[39mraise\u001b[39;00m H2OJobCancelled(\u001b[39m\"\u001b[39m\u001b[39mJob<\u001b[39m\u001b[39m%s\u001b[39;00m\u001b[39m> was cancelled by the user.\u001b[39m\u001b[39m\"\u001b[39m \u001b[39m%\u001b[39m \u001b[39mself\u001b[39m\u001b[39m.\u001b[39mjob_key)\n\u001b[1;32m     86\u001b[0m \u001b[39mif\u001b[39;00m \u001b[39mself\u001b[39m\u001b[39m.\u001b[39mstatus \u001b[39m==\u001b[39m \u001b[39m\"\u001b[39m\u001b[39mFAILED\u001b[39m\u001b[39m\"\u001b[39m:\n\u001b[1;32m     87\u001b[0m     \u001b[39mif\u001b[39;00m (\u001b[39misinstance\u001b[39m(\u001b[39mself\u001b[39m\u001b[39m.\u001b[39mjob, \u001b[39mdict\u001b[39m)) \u001b[39mand\u001b[39;00m (\u001b[39m\"\u001b[39m\u001b[39mstacktrace\u001b[39m\u001b[39m\"\u001b[39m \u001b[39min\u001b[39;00m \u001b[39mlist\u001b[39m(\u001b[39mself\u001b[39m\u001b[39m.\u001b[39mjob)):\n",
      "\u001b[0;31mH2OJobCancelled\u001b[0m: Job<$03017f00000132d4ffffffff$_afa6a24539383d087c986c538f164f1e> was cancelled by the user."
     ]
    }
   ],
   "source": [
    "aml_0 = H2OAutoML(max_models=20, seed=0)\n",
    "aml_0.train(x=X_0, y=y, training_frame=train_0)"
   ]
  },
  {
   "cell_type": "code",
   "execution_count": null,
   "metadata": {},
   "outputs": [],
   "source": [
    "aml_1 = H2OAutoML(max_models=20, seed=1)\n",
    "aml_1.train(x=X_1, y=y, training_frame=train_1)"
   ]
  },
  {
   "cell_type": "code",
   "execution_count": null,
   "metadata": {},
   "outputs": [],
   "source": [
    "aml_2 = H2OAutoML(max_models=20, seed=2)\n",
    "aml_2.train(x=X_2, y=y, training_frame=train_2)"
   ]
  },
  {
   "cell_type": "code",
   "execution_count": null,
   "metadata": {},
   "outputs": [],
   "source": [
    "aml_3 = H2OAutoML(max_models=20, seed=3)\n",
    "aml_3.train(x=X_3, y=y, training_frame=train_3)"
   ]
  },
  {
   "cell_type": "code",
   "execution_count": null,
   "metadata": {},
   "outputs": [],
   "source": [
    "test_pd = Data.create_test_data()\n",
    "test = h2o.H2OFrame(test_pd)\n",
    "\n",
    "preds_0 = aml_0.predict(test)\n",
    "preds_1 = aml_1.predict(test)\n",
    "preds_2 = aml_2.predict(test)\n",
    "preds_3 = aml_3.predict(test)"
   ]
  },
  {
   "cell_type": "code",
   "execution_count": null,
   "metadata": {},
   "outputs": [],
   "source": [
    "preds_df = preds_0.as_data_frame()\n",
    "preds_df[preds_df < 0] = 0\n",
    "\n",
    "results = pd.concat([test_pd.reset_index(), preds_df], axis=1)\n",
    "results['date_forecast'] = pd.to_datetime(results['date_forecast'])\n",
    "results.set_index('date_forecast', inplace=True)\n",
    "results.rename(columns={'predict': 'pv_prediction'}, inplace=True)\n",
    "\n",
    "utils.save_to_csv(results, 'preds_0')"
   ]
  },
  {
   "cell_type": "code",
   "execution_count": null,
   "metadata": {},
   "outputs": [],
   "source": [
    "preds_df = preds_1.as_data_frame()\n",
    "preds_df[preds_df < 0] = 0\n",
    "\n",
    "results = pd.concat([test_pd.reset_index(), preds_df], axis=1)\n",
    "results['date_forecast'] = pd.to_datetime(results['date_forecast'])\n",
    "results.set_index('date_forecast', inplace=True)\n",
    "results.rename(columns={'predict': 'pv_prediction'}, inplace=True)\n",
    "\n",
    "utils.save_to_csv(results, 'preds_1')"
   ]
  },
  {
   "cell_type": "code",
   "execution_count": null,
   "metadata": {},
   "outputs": [],
   "source": [
    "preds_df = preds_2.as_data_frame()\n",
    "preds_df[preds_df < 0] = 0\n",
    "\n",
    "results = pd.concat([test_pd.reset_index(), preds_df], axis=1)\n",
    "results['date_forecast'] = pd.to_datetime(results['date_forecast'])\n",
    "results.set_index('date_forecast', inplace=True)\n",
    "results.rename(columns={'predict': 'pv_prediction'}, inplace=True)\n",
    "\n",
    "utils.save_to_csv(results, 'preds_2')"
   ]
  },
  {
   "cell_type": "code",
   "execution_count": null,
   "metadata": {},
   "outputs": [],
   "source": [
    "preds_df = preds_3.as_data_frame()\n",
    "preds_df[preds_df < 0] = 0\n",
    "\n",
    "results = pd.concat([test_pd.reset_index(), preds_df], axis=1)\n",
    "results['date_forecast'] = pd.to_datetime(results['date_forecast'])\n",
    "results.set_index('date_forecast', inplace=True)\n",
    "results.rename(columns={'predict': 'pv_prediction'}, inplace=True)\n",
    "\n",
    "utils.save_to_csv(results, 'preds_3')"
   ]
  }
 ],
 "metadata": {
  "kernelspec": {
   "display_name": "Python 3",
   "language": "python",
   "name": "python3"
  },
  "language_info": {
   "codemirror_mode": {
    "name": "ipython",
    "version": 3
   },
   "file_extension": ".py",
   "mimetype": "text/x-python",
   "name": "python",
   "nbconvert_exporter": "python",
   "pygments_lexer": "ipython3",
   "version": "3.10.12"
  }
 },
 "nbformat": 4,
 "nbformat_minor": 2
}
