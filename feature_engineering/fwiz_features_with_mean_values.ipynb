{
 "cells": [
  {
   "cell_type": "code",
   "execution_count": 9,
   "metadata": {},
   "outputs": [
    {
     "name": "stdout",
     "output_type": "stream",
     "text": [
      "The autoreload extension is already loaded. To reload it, use:\n",
      "  %reload_ext autoreload\n"
     ]
    }
   ],
   "source": [
    "%load_ext autoreload"
   ]
  },
  {
   "cell_type": "code",
   "execution_count": 10,
   "metadata": {},
   "outputs": [],
   "source": [
    "import sys\n",
    "import os\n",
    "\n",
    "import pandas as pd\n",
    "\n",
    "sys.path.append('../')\n",
    "home_dir = os.path.join(os.path.expanduser('~'), 'Documents/TDT4173-ML')\n",
    "data_path = os.path.join(home_dir, 'data_processed')\n",
    "saved_data_path = os.path.join(home_dir, 'data_feature_engineering')"
   ]
  },
  {
   "cell_type": "markdown",
   "metadata": {},
   "source": [
    "Read data sets with mean values and set correct index"
   ]
  },
  {
   "cell_type": "code",
   "execution_count": 11,
   "metadata": {},
   "outputs": [
    {
     "data": {
      "text/plain": [
       "Index(['date_forecast', 'absolute_humidity_2m:gm3', 'air_density_2m:kgm3',\n",
       "       'ceiling_height_agl:m', 'clear_sky_energy_1h:J', 'clear_sky_rad:W',\n",
       "       'cloud_base_agl:m', 'dew_or_rime:idx', 'dew_point_2m:K',\n",
       "       'diffuse_rad:W', 'diffuse_rad_1h:J', 'direct_rad:W', 'direct_rad_1h:J',\n",
       "       'effective_cloud_cover:p', 'elevation:m', 'fresh_snow_12h:cm',\n",
       "       'fresh_snow_1h:cm', 'fresh_snow_24h:cm', 'fresh_snow_3h:cm',\n",
       "       'fresh_snow_6h:cm', 'is_day:idx', 'is_in_shadow:idx',\n",
       "       'msl_pressure:hPa', 'precip_5min:mm', 'precip_type_5min:idx',\n",
       "       'pressure_100m:hPa', 'pressure_50m:hPa', 'prob_rime:p',\n",
       "       'rain_water:kgm2', 'relative_humidity_1000hPa:p', 'sfc_pressure:hPa',\n",
       "       'snow_density:kgm3', 'snow_depth:cm', 'snow_drift:idx',\n",
       "       'snow_melt_10min:mm', 'snow_water:kgm2', 'sun_azimuth:d',\n",
       "       'sun_elevation:d', 'super_cooled_liquid_water:kgm2', 't_1000hPa:K',\n",
       "       'total_cloud_cover:p', 'visibility:m', 'wind_speed_10m:ms',\n",
       "       'wind_speed_u_10m:ms', 'wind_speed_v_10m:ms', 'wind_speed_w_1000hPa:ms',\n",
       "       'pv_measurement'],\n",
       "      dtype='object')"
      ]
     },
     "execution_count": 11,
     "metadata": {},
     "output_type": "execute_result"
    }
   ],
   "source": [
    "train = pd.read_csv(os.path.join(data_path, 'mean_train.csv'))\n",
    "test = pd.read_csv(os.path.join(data_path, 'mean_test.csv'))"
   ]
  },
  {
   "cell_type": "markdown",
   "metadata": {},
   "source": [
    "Remove snow features and 'date_calc' from test set"
   ]
  },
  {
   "cell_type": "code",
   "execution_count": 12,
   "metadata": {},
   "outputs": [],
   "source": [
    "train = train[['date_forecast', 'direct_rad:W', 'sun_elevation:d', 'visibility:m', 'pressure_50m:hPa', 'relative_humidity_1000hPa:p',\n",
    "                'air_density_2m:kgm3', 'cloud_base_agl:m', 'ceiling_height_agl:m', 'wind_speed_u_10m:ms', 'sun_azimuth:d',\n",
    "                'wind_speed_v_10m:ms', 'wind_speed_10m:ms','total_cloud_cover:p', 'fresh_snow_24h:cm', 'fresh_snow_6h:cm',\n",
    "                'fresh_snow_1h:cm', 'elevation:m', 'pv_measurement']]\n",
    "\n",
    "test = test[['date_forecast', 'direct_rad:W', 'sun_elevation:d', 'visibility:m', 'pressure_50m:hPa', 'relative_humidity_1000hPa:p',\n",
    "                'air_density_2m:kgm3', 'cloud_base_agl:m', 'ceiling_height_agl:m', 'wind_speed_u_10m:ms', 'sun_azimuth:d',\n",
    "                'wind_speed_v_10m:ms', 'wind_speed_10m:ms','total_cloud_cover:p', 'fresh_snow_24h:cm', 'fresh_snow_6h:cm',\n",
    "                'fresh_snow_1h:cm', 'elevation:m', 'date_calc']]\n",
    "\n",
    "\n",
    "train.set_index('date_forecast', inplace=True)\n",
    "test.set_index('date_forecast', inplace=True)"
   ]
  },
  {
   "cell_type": "markdown",
   "metadata": {},
   "source": [
    "Save the data sets that have been feature engineered"
   ]
  },
  {
   "cell_type": "code",
   "execution_count": 13,
   "metadata": {},
   "outputs": [],
   "source": [
    "train.to_csv(os.path.join(saved_data_path, 'mean_fwiz_features_train.csv'), index=True)\n",
    "test.to_csv(os.path.join(saved_data_path, 'mean_fwiz_features_test.csv'), index=True)"
   ]
  }
 ],
 "metadata": {
  "kernelspec": {
   "display_name": "Python 3",
   "language": "python",
   "name": "python3"
  },
  "language_info": {
   "codemirror_mode": {
    "name": "ipython",
    "version": 3
   },
   "file_extension": ".py",
   "mimetype": "text/x-python",
   "name": "python",
   "nbconvert_exporter": "python",
   "pygments_lexer": "ipython3",
   "version": "3.10.12"
  }
 },
 "nbformat": 4,
 "nbformat_minor": 2
}
