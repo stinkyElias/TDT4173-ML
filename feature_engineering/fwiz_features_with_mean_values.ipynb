{
 "cells": [
  {
   "cell_type": "code",
   "execution_count": 1,
   "metadata": {},
   "outputs": [],
   "source": [
    "%load_ext autoreload"
   ]
  },
  {
   "cell_type": "code",
   "execution_count": 2,
   "metadata": {},
   "outputs": [],
   "source": [
    "import sys\n",
    "import os\n",
    "\n",
    "import pandas as pd\n",
    "\n",
    "sys.path.append('../')\n",
    "home_dir = os.path.join(os.path.expanduser('~'), 'Documents/TDT4173-ML')\n",
    "data_path = os.path.join(home_dir, 'data_processed')\n",
    "saved_data_path = os.path.join(home_dir, 'data_feature_engineering')"
   ]
  },
  {
   "cell_type": "markdown",
   "metadata": {},
   "source": [
    "Read data sets with mean values and set correct index"
   ]
  },
  {
   "cell_type": "code",
   "execution_count": 3,
   "metadata": {},
   "outputs": [],
   "source": [
    "train = pd.read_csv(os.path.join(data_path, 'mean_train.csv'))\n",
    "test = pd.read_csv(os.path.join(data_path, 'mean_test.csv'))"
   ]
  },
  {
   "cell_type": "markdown",
   "metadata": {},
   "source": [
    "Remove snow features and 'date_calc' from test set"
   ]
  },
  {
   "cell_type": "code",
   "execution_count": 4,
   "metadata": {},
   "outputs": [],
   "source": [
    "train = train[['date_forecast', 'direct_rad:W', 'sun_elevation:d', 'visibility:m', 'pressure_50m:hPa', 'relative_humidity_1000hPa:p',\n",
    "                'air_density_2m:kgm3', 'cloud_base_agl:m', 'ceiling_height_agl:m', 'wind_speed_u_10m:ms', 'sun_azimuth:d',\n",
    "                'wind_speed_v_10m:ms', 'wind_speed_10m:ms','total_cloud_cover:p', 'fresh_snow_24h:cm', 'fresh_snow_6h:cm',\n",
    "                'fresh_snow_1h:cm', 'elevation:m', 'pv_measurement']]\n",
    "\n",
    "test = test[['date_forecast', 'direct_rad:W', 'sun_elevation:d', 'visibility:m', 'pressure_50m:hPa', 'relative_humidity_1000hPa:p',\n",
    "                'air_density_2m:kgm3', 'cloud_base_agl:m', 'ceiling_height_agl:m', 'wind_speed_u_10m:ms', 'sun_azimuth:d',\n",
    "                'wind_speed_v_10m:ms', 'wind_speed_10m:ms','total_cloud_cover:p', 'fresh_snow_24h:cm', 'fresh_snow_6h:cm',\n",
    "                'fresh_snow_1h:cm', 'elevation:m', 'date_calc']]\n",
    "\n",
    "\n",
    "train.set_index('date_forecast', inplace=True)\n",
    "test.set_index('date_forecast', inplace=True)"
   ]
  },
  {
   "cell_type": "markdown",
   "metadata": {},
   "source": [
    "Save the data sets that have been feature engineered"
   ]
  },
  {
   "cell_type": "code",
   "execution_count": 5,
   "metadata": {},
   "outputs": [],
   "source": [
    "train.to_csv(os.path.join(saved_data_path, 'mean_fwiz_features_train.csv'), index=True)\n",
    "test.to_csv(os.path.join(saved_data_path, 'mean_fwiz_features_test.csv'), index=True)"
   ]
  }
 ],
 "metadata": {
  "kernelspec": {
   "display_name": "Python 3",
   "language": "python",
   "name": "python3"
  },
  "language_info": {
   "codemirror_mode": {
    "name": "ipython",
    "version": 3
   },
   "file_extension": ".py",
   "mimetype": "text/x-python",
   "name": "python",
   "nbconvert_exporter": "python",
   "pygments_lexer": "ipython3",
   "version": "3.10.12"
  }
 },
 "nbformat": 4,
 "nbformat_minor": 2
}
