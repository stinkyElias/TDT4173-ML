{
 "cells": [
  {
   "cell_type": "code",
   "execution_count": 84,
   "metadata": {},
   "outputs": [
    {
     "name": "stdout",
     "output_type": "stream",
     "text": [
      "The autoreload extension is already loaded. To reload it, use:\n",
      "  %reload_ext autoreload\n"
     ]
    }
   ],
   "source": [
    "%load_ext autoreload"
   ]
  },
  {
   "cell_type": "code",
   "execution_count": 85,
   "metadata": {},
   "outputs": [],
   "source": [
    "import sys\n",
    "import os\n",
    "\n",
    "import pandas as pd\n",
    "\n",
    "sys.path.append('../')\n",
    "home_dir = os.path.join(os.path.expanduser('~'), 'Documents/TDT4173-ML')\n",
    "data_path = os.path.join(home_dir, 'data_processed')\n",
    "saved_data_path = os.path.join(home_dir, 'data_feature_engineering')"
   ]
  },
  {
   "cell_type": "markdown",
   "metadata": {},
   "source": [
    "Read data sets with mean values and set correct index"
   ]
  },
  {
   "cell_type": "code",
   "execution_count": 86,
   "metadata": {},
   "outputs": [],
   "source": [
    "train = pd.read_csv(os.path.join(data_path, 'mean_train.csv'))\n",
    "test = pd.read_csv(os.path.join(data_path, 'mean_test.csv'))"
   ]
  },
  {
   "cell_type": "markdown",
   "metadata": {},
   "source": [
    "Remove snow features and 'date_calc' from test set"
   ]
  },
  {
   "cell_type": "code",
   "execution_count": 87,
   "metadata": {},
   "outputs": [],
   "source": [
    "train.drop(labels=['fresh_snow_12h:cm', 'fresh_snow_1h:cm', 'fresh_snow_24h:cm', 'fresh_snow_3h:cm','fresh_snow_6h:cm', 'snow_density:kgm3', 'snow_depth:cm', 'snow_drift:idx',\n",
    "                    'snow_melt_10min:mm', 'snow_water:kgm2'], axis=1, inplace=True)\n",
    "test.drop(labels=['fresh_snow_12h:cm', 'fresh_snow_1h:cm', 'fresh_snow_24h:cm', 'fresh_snow_3h:cm','fresh_snow_6h:cm', 'snow_density:kgm3', 'snow_depth:cm', 'snow_drift:idx',\n",
    "                    'snow_melt_10min:mm', 'snow_water:kgm2', 'date_calc'], axis=1, inplace=True)\n",
    "\n",
    "train.set_index('date_forecast', inplace=True)\n",
    "test.set_index('date_forecast', inplace=True)"
   ]
  },
  {
   "cell_type": "markdown",
   "metadata": {},
   "source": [
    "Save the data sets that have been feature engineered"
   ]
  },
  {
   "cell_type": "code",
   "execution_count": 88,
   "metadata": {},
   "outputs": [],
   "source": [
    "train.to_csv(os.path.join(saved_data_path, 'mean_no_snow_train.csv'), index=True)\n",
    "test.to_csv(os.path.join(saved_data_path, 'mean_no_snow_test.csv'), index=True)"
   ]
  }
 ],
 "metadata": {
  "kernelspec": {
   "display_name": "Python 3",
   "language": "python",
   "name": "python3"
  },
  "language_info": {
   "codemirror_mode": {
    "name": "ipython",
    "version": 3
   },
   "file_extension": ".py",
   "mimetype": "text/x-python",
   "name": "python",
   "nbconvert_exporter": "python",
   "pygments_lexer": "ipython3",
   "version": "3.10.12"
  }
 },
 "nbformat": 4,
 "nbformat_minor": 2
}
