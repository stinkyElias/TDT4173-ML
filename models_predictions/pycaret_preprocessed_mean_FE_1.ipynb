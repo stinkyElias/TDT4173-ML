{
 "cells": [
  {
   "cell_type": "code",
   "execution_count": 1,
   "metadata": {},
   "outputs": [],
   "source": [
    "%load_ext autoreload"
   ]
  },
  {
   "cell_type": "code",
   "execution_count": 4,
   "metadata": {},
   "outputs": [
    {
     "data": {
      "text/plain": [
       "'3.1.0'"
      ]
     },
     "execution_count": 4,
     "metadata": {},
     "output_type": "execute_result"
    }
   ],
   "source": [
    "# check installed version (must be >3.0)\n",
    "import pycaret\n",
    "pycaret.__version__"
   ]
  },
  {
   "cell_type": "code",
   "execution_count": 5,
   "metadata": {},
   "outputs": [],
   "source": [
    "%autoreload \n",
    "import sys\n",
    "sys.path.append('../')\n",
    "\n",
    "import numpy as np\n",
    "import pandas as pd\n",
    "\n",
    "from pycaret.regression import *"
   ]
  },
  {
   "cell_type": "markdown",
   "metadata": {},
   "source": [
    "# Import data"
   ]
  },
  {
   "cell_type": "code",
   "execution_count": 10,
   "metadata": {},
   "outputs": [
    {
     "data": {
      "text/html": [
       "<div>\n",
       "<style scoped>\n",
       "    .dataframe tbody tr th:only-of-type {\n",
       "        vertical-align: middle;\n",
       "    }\n",
       "\n",
       "    .dataframe tbody tr th {\n",
       "        vertical-align: top;\n",
       "    }\n",
       "\n",
       "    .dataframe thead th {\n",
       "        text-align: right;\n",
       "    }\n",
       "</style>\n",
       "<table border=\"1\" class=\"dataframe\">\n",
       "  <thead>\n",
       "    <tr style=\"text-align: right;\">\n",
       "      <th></th>\n",
       "      <th>date_forecast</th>\n",
       "      <th>direct_rad:W</th>\n",
       "      <th>sun_elevation:d</th>\n",
       "      <th>visibility:m</th>\n",
       "      <th>pressure_50m:hPa</th>\n",
       "      <th>relative_humidity_1000hPa:p</th>\n",
       "      <th>day_of_year</th>\n",
       "      <th>air_density_2m:kgm3</th>\n",
       "      <th>cloud_base_agl:m</th>\n",
       "      <th>ceiling_height_agl:m</th>\n",
       "      <th>wind_speed_u_10m:ms</th>\n",
       "      <th>sun_azimuth:d</th>\n",
       "      <th>wind_speed_v_10m:ms</th>\n",
       "      <th>day</th>\n",
       "      <th>wind_speed_10m:ms</th>\n",
       "      <th>total_cloud_cover:p</th>\n",
       "      <th>fresh_snow_24h:cm</th>\n",
       "      <th>fresh_snow_6h:cm</th>\n",
       "      <th>fresh_snow_1h:cm</th>\n",
       "      <th>building</th>\n",
       "    </tr>\n",
       "  </thead>\n",
       "  <tbody>\n",
       "    <tr>\n",
       "      <th>0</th>\n",
       "      <td>2023-05-01 00:00:00</td>\n",
       "      <td>0.00</td>\n",
       "      <td>-10.5410</td>\n",
       "      <td>29907.500</td>\n",
       "      <td>1006.800</td>\n",
       "      <td>80.275</td>\n",
       "      <td>121</td>\n",
       "      <td>1.28675</td>\n",
       "      <td>1061.5500</td>\n",
       "      <td>912.7000</td>\n",
       "      <td>2.100</td>\n",
       "      <td>16.02650</td>\n",
       "      <td>3.35</td>\n",
       "      <td>1</td>\n",
       "      <td>3.950</td>\n",
       "      <td>74.950</td>\n",
       "      <td>0.0</td>\n",
       "      <td>0.0</td>\n",
       "      <td>0.0</td>\n",
       "      <td>0</td>\n",
       "    </tr>\n",
       "    <tr>\n",
       "      <th>1</th>\n",
       "      <td>2023-05-01 01:00:00</td>\n",
       "      <td>0.00</td>\n",
       "      <td>-7.8945</td>\n",
       "      <td>29519.074</td>\n",
       "      <td>1006.300</td>\n",
       "      <td>79.825</td>\n",
       "      <td>121</td>\n",
       "      <td>1.28600</td>\n",
       "      <td>1075.1001</td>\n",
       "      <td>1482.1000</td>\n",
       "      <td>1.925</td>\n",
       "      <td>30.49725</td>\n",
       "      <td>3.30</td>\n",
       "      <td>1</td>\n",
       "      <td>3.825</td>\n",
       "      <td>77.475</td>\n",
       "      <td>0.0</td>\n",
       "      <td>0.0</td>\n",
       "      <td>0.0</td>\n",
       "      <td>0</td>\n",
       "    </tr>\n",
       "    <tr>\n",
       "      <th>2</th>\n",
       "      <td>2023-05-01 02:00:00</td>\n",
       "      <td>0.00</td>\n",
       "      <td>-3.8155</td>\n",
       "      <td>31009.125</td>\n",
       "      <td>1005.800</td>\n",
       "      <td>78.000</td>\n",
       "      <td>121</td>\n",
       "      <td>1.28375</td>\n",
       "      <td>1200.4000</td>\n",
       "      <td>1791.3000</td>\n",
       "      <td>1.750</td>\n",
       "      <td>44.51725</td>\n",
       "      <td>3.20</td>\n",
       "      <td>1</td>\n",
       "      <td>3.650</td>\n",
       "      <td>88.100</td>\n",
       "      <td>0.0</td>\n",
       "      <td>0.0</td>\n",
       "      <td>0.0</td>\n",
       "      <td>0</td>\n",
       "    </tr>\n",
       "    <tr>\n",
       "      <th>3</th>\n",
       "      <td>2023-05-01 03:00:00</td>\n",
       "      <td>2.10</td>\n",
       "      <td>1.4125</td>\n",
       "      <td>34552.500</td>\n",
       "      <td>1005.225</td>\n",
       "      <td>75.625</td>\n",
       "      <td>121</td>\n",
       "      <td>1.28200</td>\n",
       "      <td>1179.8500</td>\n",
       "      <td>2312.8750</td>\n",
       "      <td>1.450</td>\n",
       "      <td>58.08300</td>\n",
       "      <td>3.15</td>\n",
       "      <td>1</td>\n",
       "      <td>3.500</td>\n",
       "      <td>68.600</td>\n",
       "      <td>0.0</td>\n",
       "      <td>0.0</td>\n",
       "      <td>0.0</td>\n",
       "      <td>0</td>\n",
       "    </tr>\n",
       "    <tr>\n",
       "      <th>4</th>\n",
       "      <td>2023-05-01 04:00:00</td>\n",
       "      <td>25.45</td>\n",
       "      <td>7.4685</td>\n",
       "      <td>35483.875</td>\n",
       "      <td>1004.750</td>\n",
       "      <td>74.225</td>\n",
       "      <td>121</td>\n",
       "      <td>1.28100</td>\n",
       "      <td>920.0500</td>\n",
       "      <td>2198.2998</td>\n",
       "      <td>1.300</td>\n",
       "      <td>71.34100</td>\n",
       "      <td>3.05</td>\n",
       "      <td>1</td>\n",
       "      <td>3.325</td>\n",
       "      <td>66.300</td>\n",
       "      <td>0.0</td>\n",
       "      <td>0.0</td>\n",
       "      <td>0.0</td>\n",
       "      <td>0</td>\n",
       "    </tr>\n",
       "  </tbody>\n",
       "</table>\n",
       "</div>"
      ],
      "text/plain": [
       "         date_forecast  direct_rad:W  sun_elevation:d  visibility:m  \\\n",
       "0  2023-05-01 00:00:00          0.00         -10.5410     29907.500   \n",
       "1  2023-05-01 01:00:00          0.00          -7.8945     29519.074   \n",
       "2  2023-05-01 02:00:00          0.00          -3.8155     31009.125   \n",
       "3  2023-05-01 03:00:00          2.10           1.4125     34552.500   \n",
       "4  2023-05-01 04:00:00         25.45           7.4685     35483.875   \n",
       "\n",
       "   pressure_50m:hPa  relative_humidity_1000hPa:p  day_of_year  \\\n",
       "0          1006.800                       80.275          121   \n",
       "1          1006.300                       79.825          121   \n",
       "2          1005.800                       78.000          121   \n",
       "3          1005.225                       75.625          121   \n",
       "4          1004.750                       74.225          121   \n",
       "\n",
       "   air_density_2m:kgm3  cloud_base_agl:m  ceiling_height_agl:m  \\\n",
       "0              1.28675         1061.5500              912.7000   \n",
       "1              1.28600         1075.1001             1482.1000   \n",
       "2              1.28375         1200.4000             1791.3000   \n",
       "3              1.28200         1179.8500             2312.8750   \n",
       "4              1.28100          920.0500             2198.2998   \n",
       "\n",
       "   wind_speed_u_10m:ms  sun_azimuth:d  wind_speed_v_10m:ms  day  \\\n",
       "0                2.100       16.02650                 3.35    1   \n",
       "1                1.925       30.49725                 3.30    1   \n",
       "2                1.750       44.51725                 3.20    1   \n",
       "3                1.450       58.08300                 3.15    1   \n",
       "4                1.300       71.34100                 3.05    1   \n",
       "\n",
       "   wind_speed_10m:ms  total_cloud_cover:p  fresh_snow_24h:cm  \\\n",
       "0              3.950               74.950                0.0   \n",
       "1              3.825               77.475                0.0   \n",
       "2              3.650               88.100                0.0   \n",
       "3              3.500               68.600                0.0   \n",
       "4              3.325               66.300                0.0   \n",
       "\n",
       "   fresh_snow_6h:cm  fresh_snow_1h:cm  building  \n",
       "0               0.0               0.0         0  \n",
       "1               0.0               0.0         0  \n",
       "2               0.0               0.0         0  \n",
       "3               0.0               0.0         0  \n",
       "4               0.0               0.0         0  "
      ]
     },
     "execution_count": 10,
     "metadata": {},
     "output_type": "execute_result"
    }
   ],
   "source": [
    "test = pd.read_csv('../data_feature_enigineering/X_test_selected_preprocessed_mean.csv')\n",
    "test.head()"
   ]
  },
  {
   "cell_type": "markdown",
   "metadata": {},
   "source": [
    "# Load Model"
   ]
  },
  {
   "cell_type": "code",
   "execution_count": 11,
   "metadata": {},
   "outputs": [
    {
     "name": "stdout",
     "output_type": "stream",
     "text": [
      "Transformation Pipeline and Model Successfully Loaded\n"
     ]
    }
   ],
   "source": [
    "model = load_model('../models_training/01H_pycaret_lgbm_mean_with_feature_eng')"
   ]
  },
  {
   "cell_type": "code",
   "execution_count": 12,
   "metadata": {},
   "outputs": [
    {
     "data": {
      "text/html": [
       "<style>#sk-container-id-1 {color: black;background-color: white;}#sk-container-id-1 pre{padding: 0;}#sk-container-id-1 div.sk-toggleable {background-color: white;}#sk-container-id-1 label.sk-toggleable__label {cursor: pointer;display: block;width: 100%;margin-bottom: 0;padding: 0.3em;box-sizing: border-box;text-align: center;}#sk-container-id-1 label.sk-toggleable__label-arrow:before {content: \"▸\";float: left;margin-right: 0.25em;color: #696969;}#sk-container-id-1 label.sk-toggleable__label-arrow:hover:before {color: black;}#sk-container-id-1 div.sk-estimator:hover label.sk-toggleable__label-arrow:before {color: black;}#sk-container-id-1 div.sk-toggleable__content {max-height: 0;max-width: 0;overflow: hidden;text-align: left;background-color: #f0f8ff;}#sk-container-id-1 div.sk-toggleable__content pre {margin: 0.2em;color: black;border-radius: 0.25em;background-color: #f0f8ff;}#sk-container-id-1 input.sk-toggleable__control:checked~div.sk-toggleable__content {max-height: 200px;max-width: 100%;overflow: auto;}#sk-container-id-1 input.sk-toggleable__control:checked~label.sk-toggleable__label-arrow:before {content: \"▾\";}#sk-container-id-1 div.sk-estimator input.sk-toggleable__control:checked~label.sk-toggleable__label {background-color: #d4ebff;}#sk-container-id-1 div.sk-label input.sk-toggleable__control:checked~label.sk-toggleable__label {background-color: #d4ebff;}#sk-container-id-1 input.sk-hidden--visually {border: 0;clip: rect(1px 1px 1px 1px);clip: rect(1px, 1px, 1px, 1px);height: 1px;margin: -1px;overflow: hidden;padding: 0;position: absolute;width: 1px;}#sk-container-id-1 div.sk-estimator {font-family: monospace;background-color: #f0f8ff;border: 1px dotted black;border-radius: 0.25em;box-sizing: border-box;margin-bottom: 0.5em;}#sk-container-id-1 div.sk-estimator:hover {background-color: #d4ebff;}#sk-container-id-1 div.sk-parallel-item::after {content: \"\";width: 100%;border-bottom: 1px solid gray;flex-grow: 1;}#sk-container-id-1 div.sk-label:hover label.sk-toggleable__label {background-color: #d4ebff;}#sk-container-id-1 div.sk-serial::before {content: \"\";position: absolute;border-left: 1px solid gray;box-sizing: border-box;top: 0;bottom: 0;left: 50%;z-index: 0;}#sk-container-id-1 div.sk-serial {display: flex;flex-direction: column;align-items: center;background-color: white;padding-right: 0.2em;padding-left: 0.2em;position: relative;}#sk-container-id-1 div.sk-item {position: relative;z-index: 1;}#sk-container-id-1 div.sk-parallel {display: flex;align-items: stretch;justify-content: center;background-color: white;position: relative;}#sk-container-id-1 div.sk-item::before, #sk-container-id-1 div.sk-parallel-item::before {content: \"\";position: absolute;border-left: 1px solid gray;box-sizing: border-box;top: 0;bottom: 0;left: 50%;z-index: -1;}#sk-container-id-1 div.sk-parallel-item {display: flex;flex-direction: column;z-index: 1;position: relative;background-color: white;}#sk-container-id-1 div.sk-parallel-item:first-child::after {align-self: flex-end;width: 50%;}#sk-container-id-1 div.sk-parallel-item:last-child::after {align-self: flex-start;width: 50%;}#sk-container-id-1 div.sk-parallel-item:only-child::after {width: 0;}#sk-container-id-1 div.sk-dashed-wrapped {border: 1px dashed gray;margin: 0 0.4em 0.5em 0.4em;box-sizing: border-box;padding-bottom: 0.4em;background-color: white;}#sk-container-id-1 div.sk-label label {font-family: monospace;font-weight: bold;display: inline-block;line-height: 1.2em;}#sk-container-id-1 div.sk-label-container {text-align: center;}#sk-container-id-1 div.sk-container {/* jupyter's `normalize.less` sets `[hidden] { display: none; }` but bootstrap.min.css set `[hidden] { display: none !important; }` so we also need the `!important` here to be able to override the default hidden behavior on the sphinx rendered scikit-learn.org. See: https://github.com/scikit-learn/scikit-learn/issues/21755 */display: inline-block !important;position: relative;}#sk-container-id-1 div.sk-text-repr-fallback {display: none;}</style><div id=\"sk-container-id-1\" class=\"sk-top-container\"><div class=\"sk-text-repr-fallback\"><pre>Pipeline(memory=Memory(location=None),\n",
       "         steps=[(&#x27;clean_column_names&#x27;,\n",
       "                 TransformerWrapper(transformer=CleanColumnNames())),\n",
       "                (&#x27;trained_model&#x27;, LGBMRegressor(n_jobs=-1, random_state=1))])</pre><b>In a Jupyter environment, please rerun this cell to show the HTML representation or trust the notebook. <br />On GitHub, the HTML representation is unable to render, please try loading this page with nbviewer.org.</b></div><div class=\"sk-container\" hidden><div class=\"sk-item sk-dashed-wrapped\"><div class=\"sk-label-container\"><div class=\"sk-label sk-toggleable\"><input class=\"sk-toggleable__control sk-hidden--visually\" id=\"sk-estimator-id-1\" type=\"checkbox\" ><label for=\"sk-estimator-id-1\" class=\"sk-toggleable__label sk-toggleable__label-arrow\">Pipeline</label><div class=\"sk-toggleable__content\"><pre>Pipeline(memory=Memory(location=None),\n",
       "         steps=[(&#x27;clean_column_names&#x27;,\n",
       "                 TransformerWrapper(transformer=CleanColumnNames())),\n",
       "                (&#x27;trained_model&#x27;, LGBMRegressor(n_jobs=-1, random_state=1))])</pre></div></div></div><div class=\"sk-serial\"><div class=\"sk-item sk-dashed-wrapped\"><div class=\"sk-label-container\"><div class=\"sk-label sk-toggleable\"><input class=\"sk-toggleable__control sk-hidden--visually\" id=\"sk-estimator-id-2\" type=\"checkbox\" ><label for=\"sk-estimator-id-2\" class=\"sk-toggleable__label sk-toggleable__label-arrow\">clean_column_names: TransformerWrapper</label><div class=\"sk-toggleable__content\"><pre>TransformerWrapper(transformer=CleanColumnNames())</pre></div></div></div><div class=\"sk-parallel\"><div class=\"sk-parallel-item\"><div class=\"sk-item\"><div class=\"sk-label-container\"><div class=\"sk-label sk-toggleable\"><input class=\"sk-toggleable__control sk-hidden--visually\" id=\"sk-estimator-id-3\" type=\"checkbox\" ><label for=\"sk-estimator-id-3\" class=\"sk-toggleable__label sk-toggleable__label-arrow\">transformer: CleanColumnNames</label><div class=\"sk-toggleable__content\"><pre>CleanColumnNames()</pre></div></div></div><div class=\"sk-serial\"><div class=\"sk-item\"><div class=\"sk-estimator sk-toggleable\"><input class=\"sk-toggleable__control sk-hidden--visually\" id=\"sk-estimator-id-4\" type=\"checkbox\" ><label for=\"sk-estimator-id-4\" class=\"sk-toggleable__label sk-toggleable__label-arrow\">CleanColumnNames</label><div class=\"sk-toggleable__content\"><pre>CleanColumnNames()</pre></div></div></div></div></div></div></div></div><div class=\"sk-item\"><div class=\"sk-estimator sk-toggleable\"><input class=\"sk-toggleable__control sk-hidden--visually\" id=\"sk-estimator-id-5\" type=\"checkbox\" ><label for=\"sk-estimator-id-5\" class=\"sk-toggleable__label sk-toggleable__label-arrow\">LGBMRegressor</label><div class=\"sk-toggleable__content\"><pre>LGBMRegressor(n_jobs=-1, random_state=1)</pre></div></div></div></div></div></div></div>"
      ],
      "text/plain": [
       "Pipeline(memory=Memory(location=None),\n",
       "         steps=[('clean_column_names',\n",
       "                 TransformerWrapper(transformer=CleanColumnNames())),\n",
       "                ('trained_model', LGBMRegressor(n_jobs=-1, random_state=1))])"
      ]
     },
     "execution_count": 12,
     "metadata": {},
     "output_type": "execute_result"
    }
   ],
   "source": [
    "model"
   ]
  },
  {
   "cell_type": "code",
   "execution_count": 13,
   "metadata": {},
   "outputs": [],
   "source": [
    "predictions = predict_model(model, data=test)"
   ]
  },
  {
   "cell_type": "code",
   "execution_count": 14,
   "metadata": {},
   "outputs": [
    {
     "data": {
      "text/html": [
       "<div>\n",
       "<style scoped>\n",
       "    .dataframe tbody tr th:only-of-type {\n",
       "        vertical-align: middle;\n",
       "    }\n",
       "\n",
       "    .dataframe tbody tr th {\n",
       "        vertical-align: top;\n",
       "    }\n",
       "\n",
       "    .dataframe thead th {\n",
       "        text-align: right;\n",
       "    }\n",
       "</style>\n",
       "<table border=\"1\" class=\"dataframe\">\n",
       "  <thead>\n",
       "    <tr style=\"text-align: right;\">\n",
       "      <th></th>\n",
       "      <th>date_forecast</th>\n",
       "      <th>direct_rad:W</th>\n",
       "      <th>sun_elevation:d</th>\n",
       "      <th>visibility:m</th>\n",
       "      <th>pressure_50m:hPa</th>\n",
       "      <th>relative_humidity_1000hPa:p</th>\n",
       "      <th>day_of_year</th>\n",
       "      <th>air_density_2m:kgm3</th>\n",
       "      <th>cloud_base_agl:m</th>\n",
       "      <th>ceiling_height_agl:m</th>\n",
       "      <th>...</th>\n",
       "      <th>sun_azimuth:d</th>\n",
       "      <th>wind_speed_v_10m:ms</th>\n",
       "      <th>day</th>\n",
       "      <th>wind_speed_10m:ms</th>\n",
       "      <th>total_cloud_cover:p</th>\n",
       "      <th>fresh_snow_24h:cm</th>\n",
       "      <th>fresh_snow_6h:cm</th>\n",
       "      <th>fresh_snow_1h:cm</th>\n",
       "      <th>building</th>\n",
       "      <th>prediction_label</th>\n",
       "    </tr>\n",
       "  </thead>\n",
       "  <tbody>\n",
       "    <tr>\n",
       "      <th>0</th>\n",
       "      <td>2023-05-01 00:00:00</td>\n",
       "      <td>0.000000</td>\n",
       "      <td>-10.5410</td>\n",
       "      <td>29907.500000</td>\n",
       "      <td>1006.799988</td>\n",
       "      <td>80.275002</td>\n",
       "      <td>121</td>\n",
       "      <td>1.28675</td>\n",
       "      <td>1061.550049</td>\n",
       "      <td>912.700012</td>\n",
       "      <td>...</td>\n",
       "      <td>16.026501</td>\n",
       "      <td>3.35</td>\n",
       "      <td>1</td>\n",
       "      <td>3.950</td>\n",
       "      <td>74.949997</td>\n",
       "      <td>0.0</td>\n",
       "      <td>0.0</td>\n",
       "      <td>0.0</td>\n",
       "      <td>0</td>\n",
       "      <td>3.909937</td>\n",
       "    </tr>\n",
       "    <tr>\n",
       "      <th>1</th>\n",
       "      <td>2023-05-01 01:00:00</td>\n",
       "      <td>0.000000</td>\n",
       "      <td>-7.8945</td>\n",
       "      <td>29519.074219</td>\n",
       "      <td>1006.299988</td>\n",
       "      <td>79.824997</td>\n",
       "      <td>121</td>\n",
       "      <td>1.28600</td>\n",
       "      <td>1075.100098</td>\n",
       "      <td>1482.099976</td>\n",
       "      <td>...</td>\n",
       "      <td>30.497250</td>\n",
       "      <td>3.30</td>\n",
       "      <td>1</td>\n",
       "      <td>3.825</td>\n",
       "      <td>77.474998</td>\n",
       "      <td>0.0</td>\n",
       "      <td>0.0</td>\n",
       "      <td>0.0</td>\n",
       "      <td>0</td>\n",
       "      <td>3.909937</td>\n",
       "    </tr>\n",
       "    <tr>\n",
       "      <th>2</th>\n",
       "      <td>2023-05-01 02:00:00</td>\n",
       "      <td>0.000000</td>\n",
       "      <td>-3.8155</td>\n",
       "      <td>31009.125000</td>\n",
       "      <td>1005.799988</td>\n",
       "      <td>78.000000</td>\n",
       "      <td>121</td>\n",
       "      <td>1.28375</td>\n",
       "      <td>1200.400024</td>\n",
       "      <td>1791.300049</td>\n",
       "      <td>...</td>\n",
       "      <td>44.517250</td>\n",
       "      <td>3.20</td>\n",
       "      <td>1</td>\n",
       "      <td>3.650</td>\n",
       "      <td>88.099998</td>\n",
       "      <td>0.0</td>\n",
       "      <td>0.0</td>\n",
       "      <td>0.0</td>\n",
       "      <td>0</td>\n",
       "      <td>4.346683</td>\n",
       "    </tr>\n",
       "    <tr>\n",
       "      <th>3</th>\n",
       "      <td>2023-05-01 03:00:00</td>\n",
       "      <td>2.100000</td>\n",
       "      <td>1.4125</td>\n",
       "      <td>34552.500000</td>\n",
       "      <td>1005.224976</td>\n",
       "      <td>75.625000</td>\n",
       "      <td>121</td>\n",
       "      <td>1.28200</td>\n",
       "      <td>1179.849976</td>\n",
       "      <td>2312.875000</td>\n",
       "      <td>...</td>\n",
       "      <td>58.083000</td>\n",
       "      <td>3.15</td>\n",
       "      <td>1</td>\n",
       "      <td>3.500</td>\n",
       "      <td>68.599998</td>\n",
       "      <td>0.0</td>\n",
       "      <td>0.0</td>\n",
       "      <td>0.0</td>\n",
       "      <td>0</td>\n",
       "      <td>90.433406</td>\n",
       "    </tr>\n",
       "    <tr>\n",
       "      <th>4</th>\n",
       "      <td>2023-05-01 04:00:00</td>\n",
       "      <td>25.450001</td>\n",
       "      <td>7.4685</td>\n",
       "      <td>35483.875000</td>\n",
       "      <td>1004.750000</td>\n",
       "      <td>74.224998</td>\n",
       "      <td>121</td>\n",
       "      <td>1.28100</td>\n",
       "      <td>920.049988</td>\n",
       "      <td>2198.299805</td>\n",
       "      <td>...</td>\n",
       "      <td>71.341003</td>\n",
       "      <td>3.05</td>\n",
       "      <td>1</td>\n",
       "      <td>3.325</td>\n",
       "      <td>66.300003</td>\n",
       "      <td>0.0</td>\n",
       "      <td>0.0</td>\n",
       "      <td>0.0</td>\n",
       "      <td>0</td>\n",
       "      <td>314.710758</td>\n",
       "    </tr>\n",
       "  </tbody>\n",
       "</table>\n",
       "<p>5 rows × 21 columns</p>\n",
       "</div>"
      ],
      "text/plain": [
       "         date_forecast  direct_rad:W  sun_elevation:d  visibility:m  \\\n",
       "0  2023-05-01 00:00:00      0.000000         -10.5410  29907.500000   \n",
       "1  2023-05-01 01:00:00      0.000000          -7.8945  29519.074219   \n",
       "2  2023-05-01 02:00:00      0.000000          -3.8155  31009.125000   \n",
       "3  2023-05-01 03:00:00      2.100000           1.4125  34552.500000   \n",
       "4  2023-05-01 04:00:00     25.450001           7.4685  35483.875000   \n",
       "\n",
       "   pressure_50m:hPa  relative_humidity_1000hPa:p  day_of_year  \\\n",
       "0       1006.799988                    80.275002          121   \n",
       "1       1006.299988                    79.824997          121   \n",
       "2       1005.799988                    78.000000          121   \n",
       "3       1005.224976                    75.625000          121   \n",
       "4       1004.750000                    74.224998          121   \n",
       "\n",
       "   air_density_2m:kgm3  cloud_base_agl:m  ceiling_height_agl:m  ...  \\\n",
       "0              1.28675       1061.550049            912.700012  ...   \n",
       "1              1.28600       1075.100098           1482.099976  ...   \n",
       "2              1.28375       1200.400024           1791.300049  ...   \n",
       "3              1.28200       1179.849976           2312.875000  ...   \n",
       "4              1.28100        920.049988           2198.299805  ...   \n",
       "\n",
       "   sun_azimuth:d  wind_speed_v_10m:ms  day  wind_speed_10m:ms  \\\n",
       "0      16.026501                 3.35    1              3.950   \n",
       "1      30.497250                 3.30    1              3.825   \n",
       "2      44.517250                 3.20    1              3.650   \n",
       "3      58.083000                 3.15    1              3.500   \n",
       "4      71.341003                 3.05    1              3.325   \n",
       "\n",
       "   total_cloud_cover:p  fresh_snow_24h:cm  fresh_snow_6h:cm  fresh_snow_1h:cm  \\\n",
       "0            74.949997                0.0               0.0               0.0   \n",
       "1            77.474998                0.0               0.0               0.0   \n",
       "2            88.099998                0.0               0.0               0.0   \n",
       "3            68.599998                0.0               0.0               0.0   \n",
       "4            66.300003                0.0               0.0               0.0   \n",
       "\n",
       "   building  prediction_label  \n",
       "0         0          3.909937  \n",
       "1         0          3.909937  \n",
       "2         0          4.346683  \n",
       "3         0         90.433406  \n",
       "4         0        314.710758  \n",
       "\n",
       "[5 rows x 21 columns]"
      ]
     },
     "execution_count": 14,
     "metadata": {},
     "output_type": "execute_result"
    }
   ],
   "source": [
    "predictions.head()"
   ]
  },
  {
   "cell_type": "code",
   "execution_count": 15,
   "metadata": {},
   "outputs": [
    {
     "data": {
      "text/plain": [
       "0         3.909937\n",
       "1         3.909937\n",
       "2         4.346683\n",
       "3        90.433406\n",
       "4       314.710758\n",
       "           ...    \n",
       "2155     44.014600\n",
       "2156     14.262980\n",
       "2157      2.819209\n",
       "2158      3.215317\n",
       "2159      2.665111\n",
       "Name: prediction_label, Length: 2160, dtype: float64"
      ]
     },
     "execution_count": 15,
     "metadata": {},
     "output_type": "execute_result"
    }
   ],
   "source": [
    "predictions_kaggle = predictions['prediction_label']\n",
    "predictions_kaggle"
   ]
  },
  {
   "cell_type": "code",
   "execution_count": 17,
   "metadata": {},
   "outputs": [
    {
     "data": {
      "text/plain": [
       "13"
      ]
     },
     "execution_count": 17,
     "metadata": {},
     "output_type": "execute_result"
    }
   ],
   "source": [
    "# count negative predictions\n",
    "neg_count = 0\n",
    "for i in predictions_kaggle:\n",
    "    if i < 0:\n",
    "        neg_count += 1\n",
    "neg_count\n"
   ]
  },
  {
   "cell_type": "code",
   "execution_count": 18,
   "metadata": {},
   "outputs": [],
   "source": [
    "# set all negative predictions to 0\n",
    "predictions_kaggle[predictions_kaggle < 0] = 0"
   ]
  },
  {
   "cell_type": "code",
   "execution_count": 16,
   "metadata": {},
   "outputs": [],
   "source": [
    "predictions_kaggle.to_csv('../data_results/02H_pycaret_lgbm_mean_with_feature_eng.csv', index=True, header='predictions')"
   ]
  },
  {
   "cell_type": "code",
   "execution_count": 18,
   "metadata": {},
   "outputs": [
    {
     "ename": "ValueError",
     "evalue": "_CURRENT_EXPERIMENT global variable is not set. Please run setup() first.",
     "output_type": "error",
     "traceback": [
      "\u001b[0;31m---------------------------------------------------------------------------\u001b[0m",
      "\u001b[0;31mValueError\u001b[0m                                Traceback (most recent call last)",
      "\u001b[1;32m/home/henrikraa/git_repos/TDT4173-ML/models_predictions/pycaret_preprocessed_mean.ipynb Cell 14\u001b[0m line \u001b[0;36m1\n\u001b[0;32m----> <a href='vscode-notebook-cell://ssh-remote%2B7b22686f73744e616d65223a2231302e32342e3130362e313431222c2275736572223a2268656e72696b726161227d/home/henrikraa/git_repos/TDT4173-ML/models_predictions/pycaret_preprocessed_mean.ipynb#X31sdnNjb2RlLXJlbW90ZQ%3D%3D?line=0'>1</a>\u001b[0m tuned_model \u001b[39m=\u001b[39m tune_model(model, search_library\u001b[39m=\u001b[39;49m\u001b[39m'\u001b[39;49m\u001b[39moptuna\u001b[39;49m\u001b[39m'\u001b[39;49m, optimize\u001b[39m=\u001b[39;49m\u001b[39m'\u001b[39;49m\u001b[39mMAE\u001b[39;49m\u001b[39m'\u001b[39;49m)\n",
      "File \u001b[0;32m~/anaconda3/envs/pycaret/lib/python3.9/site-packages/pycaret/utils/generic.py:964\u001b[0m, in \u001b[0;36mcheck_if_global_is_not_none.<locals>.decorator.<locals>.wrapper\u001b[0;34m(*args, **kwargs)\u001b[0m\n\u001b[1;32m    962\u001b[0m \u001b[39mfor\u001b[39;00m name, message \u001b[39min\u001b[39;00m global_names\u001b[39m.\u001b[39mitems():\n\u001b[1;32m    963\u001b[0m     \u001b[39mif\u001b[39;00m globals_d[name] \u001b[39mis\u001b[39;00m \u001b[39mNone\u001b[39;00m:\n\u001b[0;32m--> 964\u001b[0m         \u001b[39mraise\u001b[39;00m \u001b[39mValueError\u001b[39;00m(message)\n\u001b[1;32m    965\u001b[0m \u001b[39mreturn\u001b[39;00m func(\u001b[39m*\u001b[39margs, \u001b[39m*\u001b[39m\u001b[39m*\u001b[39mkwargs)\n",
      "\u001b[0;31mValueError\u001b[0m: _CURRENT_EXPERIMENT global variable is not set. Please run setup() first."
     ]
    }
   ],
   "source": [
    "tuned_model = tune_model(model, search_library='optuna', optimize='MAE')"
   ]
  }
 ],
 "metadata": {
  "kernelspec": {
   "display_name": "base",
   "language": "python",
   "name": "python3"
  },
  "language_info": {
   "codemirror_mode": {
    "name": "ipython",
    "version": 3
   },
   "file_extension": ".py",
   "mimetype": "text/x-python",
   "name": "python",
   "nbconvert_exporter": "python",
   "pygments_lexer": "ipython3",
   "version": "3.9.18"
  }
 },
 "nbformat": 4,
 "nbformat_minor": 2
}
