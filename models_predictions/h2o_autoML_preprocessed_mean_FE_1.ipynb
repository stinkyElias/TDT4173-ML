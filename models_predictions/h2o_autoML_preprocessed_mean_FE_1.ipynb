{
 "cells": [
  {
   "cell_type": "code",
   "execution_count": 1,
   "metadata": {},
   "outputs": [],
   "source": [
    "%load_ext autoreload"
   ]
  },
  {
   "cell_type": "code",
   "execution_count": 3,
   "metadata": {},
   "outputs": [],
   "source": [
    "%autoreload \n",
    "import pandas as pd\n",
    "import numpy as np\n",
    "import h2o\n",
    "from h2o.automl import H2OAutoML\n",
    "import plotly.express as px"
   ]
  },
  {
   "cell_type": "code",
   "execution_count": 4,
   "metadata": {},
   "outputs": [
    {
     "name": "stdout",
     "output_type": "stream",
     "text": [
      "Checking whether there is an H2O instance running at http://localhost:54321. connected.\n"
     ]
    },
    {
     "data": {
      "text/html": [
       "\n",
       "<style>\n",
       "\n",
       "#h2o-table-1.h2o-container {\n",
       "  overflow-x: auto;\n",
       "}\n",
       "#h2o-table-1 .h2o-table {\n",
       "  /* width: 100%; */\n",
       "  margin-top: 1em;\n",
       "  margin-bottom: 1em;\n",
       "}\n",
       "#h2o-table-1 .h2o-table caption {\n",
       "  white-space: nowrap;\n",
       "  caption-side: top;\n",
       "  text-align: left;\n",
       "  /* margin-left: 1em; */\n",
       "  margin: 0;\n",
       "  font-size: larger;\n",
       "}\n",
       "#h2o-table-1 .h2o-table thead {\n",
       "  white-space: nowrap; \n",
       "  position: sticky;\n",
       "  top: 0;\n",
       "  box-shadow: 0 -1px inset;\n",
       "}\n",
       "#h2o-table-1 .h2o-table tbody {\n",
       "  overflow: auto;\n",
       "}\n",
       "#h2o-table-1 .h2o-table th,\n",
       "#h2o-table-1 .h2o-table td {\n",
       "  text-align: right;\n",
       "  /* border: 1px solid; */\n",
       "}\n",
       "#h2o-table-1 .h2o-table tr:nth-child(even) {\n",
       "  /* background: #F5F5F5 */\n",
       "}\n",
       "\n",
       "</style>      \n",
       "<div id=\"h2o-table-1\" class=\"h2o-container\">\n",
       "  <table class=\"h2o-table\">\n",
       "    <caption></caption>\n",
       "    <thead></thead>\n",
       "    <tbody><tr><td>H2O_cluster_uptime:</td>\n",
       "<td>1 hour 16 mins</td></tr>\n",
       "<tr><td>H2O_cluster_timezone:</td>\n",
       "<td>Europe/Oslo</td></tr>\n",
       "<tr><td>H2O_data_parsing_timezone:</td>\n",
       "<td>UTC</td></tr>\n",
       "<tr><td>H2O_cluster_version:</td>\n",
       "<td>3.44.0.1</td></tr>\n",
       "<tr><td>H2O_cluster_version_age:</td>\n",
       "<td>17 days</td></tr>\n",
       "<tr><td>H2O_cluster_name:</td>\n",
       "<td>H2O_from_python_henrikraa_nkrdm3</td></tr>\n",
       "<tr><td>H2O_cluster_total_nodes:</td>\n",
       "<td>1</td></tr>\n",
       "<tr><td>H2O_cluster_free_memory:</td>\n",
       "<td>8.27 Gb</td></tr>\n",
       "<tr><td>H2O_cluster_total_cores:</td>\n",
       "<td>12</td></tr>\n",
       "<tr><td>H2O_cluster_allowed_cores:</td>\n",
       "<td>12</td></tr>\n",
       "<tr><td>H2O_cluster_status:</td>\n",
       "<td>locked, healthy</td></tr>\n",
       "<tr><td>H2O_connection_url:</td>\n",
       "<td>http://localhost:54321</td></tr>\n",
       "<tr><td>H2O_connection_proxy:</td>\n",
       "<td>{\"http\": null, \"https\": null}</td></tr>\n",
       "<tr><td>H2O_internal_security:</td>\n",
       "<td>False</td></tr>\n",
       "<tr><td>Python_version:</td>\n",
       "<td>3.10.13 final</td></tr></tbody>\n",
       "  </table>\n",
       "</div>\n"
      ],
      "text/plain": [
       "--------------------------  --------------------------------\n",
       "H2O_cluster_uptime:         1 hour 16 mins\n",
       "H2O_cluster_timezone:       Europe/Oslo\n",
       "H2O_data_parsing_timezone:  UTC\n",
       "H2O_cluster_version:        3.44.0.1\n",
       "H2O_cluster_version_age:    17 days\n",
       "H2O_cluster_name:           H2O_from_python_henrikraa_nkrdm3\n",
       "H2O_cluster_total_nodes:    1\n",
       "H2O_cluster_free_memory:    8.27 Gb\n",
       "H2O_cluster_total_cores:    12\n",
       "H2O_cluster_allowed_cores:  12\n",
       "H2O_cluster_status:         locked, healthy\n",
       "H2O_connection_url:         http://localhost:54321\n",
       "H2O_connection_proxy:       {\"http\": null, \"https\": null}\n",
       "H2O_internal_security:      False\n",
       "Python_version:             3.10.13 final\n",
       "--------------------------  --------------------------------"
      ]
     },
     "metadata": {},
     "output_type": "display_data"
    }
   ],
   "source": [
    "h2o.init(max_mem_size='10G')"
   ]
  },
  {
   "cell_type": "markdown",
   "metadata": {},
   "source": [
    "## Load models"
   ]
  },
  {
   "cell_type": "code",
   "execution_count": 12,
   "metadata": {},
   "outputs": [],
   "source": [
    "stacked_model = h2o.load_model('/home/henrikraa/models/02H_h2o_ensaemble_preprocessed_means_basic_feng')\n",
    "xgb_model = h2o.load_model('/home/henrikraa/models/02H_h2o_xgboost_preprocessed_means_basic_feng')"
   ]
  },
  {
   "cell_type": "markdown",
   "metadata": {},
   "source": [
    "### Predict"
   ]
  },
  {
   "cell_type": "code",
   "execution_count": 13,
   "metadata": {},
   "outputs": [
    {
     "name": "stdout",
     "output_type": "stream",
     "text": [
      "Parse progress: |████████████████████████████████████████████████████████████████| (done) 100%\n"
     ]
    },
    {
     "data": {
      "text/html": [
       "<table class='dataframe'>\n",
       "<thead>\n",
       "<tr><th>date_forecast      </th><th style=\"text-align: right;\">  direct_rad:W</th><th style=\"text-align: right;\">  sun_elevation:d</th><th style=\"text-align: right;\">  visibility:m</th><th style=\"text-align: right;\">  pressure_50m:hPa</th><th style=\"text-align: right;\">  relative_humidity_1000hPa:p</th><th style=\"text-align: right;\">  day_of_year</th><th style=\"text-align: right;\">  air_density_2m:kgm3</th><th style=\"text-align: right;\">  cloud_base_agl:m</th><th style=\"text-align: right;\">  ceiling_height_agl:m</th><th style=\"text-align: right;\">  wind_speed_u_10m:ms</th><th style=\"text-align: right;\">  sun_azimuth:d</th><th style=\"text-align: right;\">  wind_speed_v_10m:ms</th><th style=\"text-align: right;\">  day</th><th style=\"text-align: right;\">  wind_speed_10m:ms</th><th style=\"text-align: right;\">  total_cloud_cover:p</th><th style=\"text-align: right;\">  fresh_snow_24h:cm</th><th style=\"text-align: right;\">  fresh_snow_6h:cm</th><th style=\"text-align: right;\">  fresh_snow_1h:cm</th><th style=\"text-align: right;\">  building</th></tr>\n",
       "</thead>\n",
       "<tbody>\n",
       "<tr><td>2023-05-01 00:00:00</td><td style=\"text-align: right;\">         0    </td><td style=\"text-align: right;\">         -10.541 </td><td style=\"text-align: right;\">       29907.5</td><td style=\"text-align: right;\">           1006.8 </td><td style=\"text-align: right;\">                       80.275</td><td style=\"text-align: right;\">          121</td><td style=\"text-align: right;\">              1.28675</td><td style=\"text-align: right;\">          1061.55 </td><td style=\"text-align: right;\">                912.7 </td><td style=\"text-align: right;\">                2.1  </td><td style=\"text-align: right;\">        16.0265</td><td style=\"text-align: right;\">                3.35 </td><td style=\"text-align: right;\">    1</td><td style=\"text-align: right;\">              3.95 </td><td style=\"text-align: right;\">               74.95 </td><td style=\"text-align: right;\">                  0</td><td style=\"text-align: right;\">                 0</td><td style=\"text-align: right;\">                 0</td><td style=\"text-align: right;\">         0</td></tr>\n",
       "<tr><td>2023-05-01 01:00:00</td><td style=\"text-align: right;\">         0    </td><td style=\"text-align: right;\">          -7.8945</td><td style=\"text-align: right;\">       29519.1</td><td style=\"text-align: right;\">           1006.3 </td><td style=\"text-align: right;\">                       79.825</td><td style=\"text-align: right;\">          121</td><td style=\"text-align: right;\">              1.286  </td><td style=\"text-align: right;\">          1075.1  </td><td style=\"text-align: right;\">               1482.1 </td><td style=\"text-align: right;\">                1.925</td><td style=\"text-align: right;\">        30.4973</td><td style=\"text-align: right;\">                3.3  </td><td style=\"text-align: right;\">    1</td><td style=\"text-align: right;\">              3.825</td><td style=\"text-align: right;\">               77.475</td><td style=\"text-align: right;\">                  0</td><td style=\"text-align: right;\">                 0</td><td style=\"text-align: right;\">                 0</td><td style=\"text-align: right;\">         0</td></tr>\n",
       "<tr><td>2023-05-01 02:00:00</td><td style=\"text-align: right;\">         0    </td><td style=\"text-align: right;\">          -3.8155</td><td style=\"text-align: right;\">       31009.1</td><td style=\"text-align: right;\">           1005.8 </td><td style=\"text-align: right;\">                       78    </td><td style=\"text-align: right;\">          121</td><td style=\"text-align: right;\">              1.28375</td><td style=\"text-align: right;\">          1200.4  </td><td style=\"text-align: right;\">               1791.3 </td><td style=\"text-align: right;\">                1.75 </td><td style=\"text-align: right;\">        44.5172</td><td style=\"text-align: right;\">                3.2  </td><td style=\"text-align: right;\">    1</td><td style=\"text-align: right;\">              3.65 </td><td style=\"text-align: right;\">               88.1  </td><td style=\"text-align: right;\">                  0</td><td style=\"text-align: right;\">                 0</td><td style=\"text-align: right;\">                 0</td><td style=\"text-align: right;\">         0</td></tr>\n",
       "<tr><td>2023-05-01 03:00:00</td><td style=\"text-align: right;\">         2.1  </td><td style=\"text-align: right;\">           1.4125</td><td style=\"text-align: right;\">       34552.5</td><td style=\"text-align: right;\">           1005.23</td><td style=\"text-align: right;\">                       75.625</td><td style=\"text-align: right;\">          121</td><td style=\"text-align: right;\">              1.282  </td><td style=\"text-align: right;\">          1179.85 </td><td style=\"text-align: right;\">               2312.88</td><td style=\"text-align: right;\">                1.45 </td><td style=\"text-align: right;\">        58.083 </td><td style=\"text-align: right;\">                3.15 </td><td style=\"text-align: right;\">    1</td><td style=\"text-align: right;\">              3.5  </td><td style=\"text-align: right;\">               68.6  </td><td style=\"text-align: right;\">                  0</td><td style=\"text-align: right;\">                 0</td><td style=\"text-align: right;\">                 0</td><td style=\"text-align: right;\">         0</td></tr>\n",
       "<tr><td>2023-05-01 04:00:00</td><td style=\"text-align: right;\">        25.45 </td><td style=\"text-align: right;\">           7.4685</td><td style=\"text-align: right;\">       35483.9</td><td style=\"text-align: right;\">           1004.75</td><td style=\"text-align: right;\">                       74.225</td><td style=\"text-align: right;\">          121</td><td style=\"text-align: right;\">              1.281  </td><td style=\"text-align: right;\">           920.05 </td><td style=\"text-align: right;\">               2198.3 </td><td style=\"text-align: right;\">                1.3  </td><td style=\"text-align: right;\">        71.341 </td><td style=\"text-align: right;\">                3.05 </td><td style=\"text-align: right;\">    1</td><td style=\"text-align: right;\">              3.325</td><td style=\"text-align: right;\">               66.3  </td><td style=\"text-align: right;\">                  0</td><td style=\"text-align: right;\">                 0</td><td style=\"text-align: right;\">                 0</td><td style=\"text-align: right;\">         0</td></tr>\n",
       "<tr><td>2023-05-01 05:00:00</td><td style=\"text-align: right;\">        88.225</td><td style=\"text-align: right;\">          14.0177</td><td style=\"text-align: right;\">       35425.4</td><td style=\"text-align: right;\">           1004.35</td><td style=\"text-align: right;\">                       71.1  </td><td style=\"text-align: right;\">          121</td><td style=\"text-align: right;\">              1.276  </td><td style=\"text-align: right;\">          1419.3  </td><td style=\"text-align: right;\">               1957.62</td><td style=\"text-align: right;\">                1.4  </td><td style=\"text-align: right;\">        84.5578</td><td style=\"text-align: right;\">                2.875</td><td style=\"text-align: right;\">    1</td><td style=\"text-align: right;\">              3.2  </td><td style=\"text-align: right;\">               74.075</td><td style=\"text-align: right;\">                  0</td><td style=\"text-align: right;\">                 0</td><td style=\"text-align: right;\">                 0</td><td style=\"text-align: right;\">         0</td></tr>\n",
       "<tr><td>2023-05-01 06:00:00</td><td style=\"text-align: right;\">       181.5  </td><td style=\"text-align: right;\">          20.7117</td><td style=\"text-align: right;\">       33709.8</td><td style=\"text-align: right;\">           1003.95</td><td style=\"text-align: right;\">                       66.6  </td><td style=\"text-align: right;\">          121</td><td style=\"text-align: right;\">              1.26825</td><td style=\"text-align: right;\">          1299.4  </td><td style=\"text-align: right;\">               1903.3 </td><td style=\"text-align: right;\">                2.275</td><td style=\"text-align: right;\">        98.0913</td><td style=\"text-align: right;\">                2.675</td><td style=\"text-align: right;\">    1</td><td style=\"text-align: right;\">              3.55 </td><td style=\"text-align: right;\">               58.55 </td><td style=\"text-align: right;\">                  0</td><td style=\"text-align: right;\">                 0</td><td style=\"text-align: right;\">                 0</td><td style=\"text-align: right;\">         0</td></tr>\n",
       "<tr><td>2023-05-01 07:00:00</td><td style=\"text-align: right;\">       266.75 </td><td style=\"text-align: right;\">          27.1717</td><td style=\"text-align: right;\">       26871  </td><td style=\"text-align: right;\">           1003.62</td><td style=\"text-align: right;\">                       63.375</td><td style=\"text-align: right;\">          121</td><td style=\"text-align: right;\">              1.2625 </td><td style=\"text-align: right;\">           743.3  </td><td style=\"text-align: right;\">                nan   </td><td style=\"text-align: right;\">                3.475</td><td style=\"text-align: right;\">       112.359 </td><td style=\"text-align: right;\">                2.35 </td><td style=\"text-align: right;\">    1</td><td style=\"text-align: right;\">              4.2  </td><td style=\"text-align: right;\">               48.55 </td><td style=\"text-align: right;\">                  0</td><td style=\"text-align: right;\">                 0</td><td style=\"text-align: right;\">                 0</td><td style=\"text-align: right;\">         0</td></tr>\n",
       "<tr><td>2023-05-01 08:00:00</td><td style=\"text-align: right;\">       315.2  </td><td style=\"text-align: right;\">          32.9648</td><td style=\"text-align: right;\">       20572.6</td><td style=\"text-align: right;\">           1003.35</td><td style=\"text-align: right;\">                       61.525</td><td style=\"text-align: right;\">          121</td><td style=\"text-align: right;\">              1.25975</td><td style=\"text-align: right;\">           805.375</td><td style=\"text-align: right;\">               1381.2 </td><td style=\"text-align: right;\">                3.55 </td><td style=\"text-align: right;\">       127.79  </td><td style=\"text-align: right;\">                1.6  </td><td style=\"text-align: right;\">    1</td><td style=\"text-align: right;\">              3.9  </td><td style=\"text-align: right;\">               61.075</td><td style=\"text-align: right;\">                  0</td><td style=\"text-align: right;\">                 0</td><td style=\"text-align: right;\">                 0</td><td style=\"text-align: right;\">         0</td></tr>\n",
       "<tr><td>2023-05-01 09:00:00</td><td style=\"text-align: right;\">       334.375</td><td style=\"text-align: right;\">          37.5947</td><td style=\"text-align: right;\">       15324.5</td><td style=\"text-align: right;\">           1003.2 </td><td style=\"text-align: right;\">                       59.725</td><td style=\"text-align: right;\">          121</td><td style=\"text-align: right;\">              1.2585 </td><td style=\"text-align: right;\">           884.95 </td><td style=\"text-align: right;\">               1429.83</td><td style=\"text-align: right;\">                3.35 </td><td style=\"text-align: right;\">       144.697 </td><td style=\"text-align: right;\">                0.8  </td><td style=\"text-align: right;\">    1</td><td style=\"text-align: right;\">              3.45 </td><td style=\"text-align: right;\">               80.125</td><td style=\"text-align: right;\">                  0</td><td style=\"text-align: right;\">                 0</td><td style=\"text-align: right;\">                 0</td><td style=\"text-align: right;\">         0</td></tr>\n",
       "</tbody>\n",
       "</table><pre style='font-size: smaller; margin-bottom: 1em;'>[10 rows x 20 columns]</pre>"
      ],
      "text/plain": [
       "date_forecast          direct_rad:W    sun_elevation:d    visibility:m    pressure_50m:hPa    relative_humidity_1000hPa:p    day_of_year    air_density_2m:kgm3    cloud_base_agl:m    ceiling_height_agl:m    wind_speed_u_10m:ms    sun_azimuth:d    wind_speed_v_10m:ms    day    wind_speed_10m:ms    total_cloud_cover:p    fresh_snow_24h:cm    fresh_snow_6h:cm    fresh_snow_1h:cm    building\n",
       "-------------------  --------------  -----------------  --------------  ------------------  -----------------------------  -------------  ---------------------  ------------------  ----------------------  ---------------------  ---------------  ---------------------  -----  -------------------  ---------------------  -------------------  ------------------  ------------------  ----------\n",
       "2023-05-01 00:00:00           0               -10.541          29907.5             1006.8                          80.275            121                1.28675            1061.55                   912.7                   2.1            16.0265                  3.35       1                3.95                  74.95                     0                   0                   0           0\n",
       "2023-05-01 01:00:00           0                -7.8945         29519.1             1006.3                          79.825            121                1.286              1075.1                   1482.1                   1.925          30.4973                  3.3        1                3.825                 77.475                    0                   0                   0           0\n",
       "2023-05-01 02:00:00           0                -3.8155         31009.1             1005.8                          78                121                1.28375            1200.4                   1791.3                   1.75           44.5172                  3.2        1                3.65                  88.1                      0                   0                   0           0\n",
       "2023-05-01 03:00:00           2.1               1.4125         34552.5             1005.23                         75.625            121                1.282              1179.85                  2312.88                  1.45           58.083                   3.15       1                3.5                   68.6                      0                   0                   0           0\n",
       "2023-05-01 04:00:00          25.45              7.4685         35483.9             1004.75                         74.225            121                1.281               920.05                  2198.3                   1.3            71.341                   3.05       1                3.325                 66.3                      0                   0                   0           0\n",
       "2023-05-01 05:00:00          88.225            14.0177         35425.4             1004.35                         71.1              121                1.276              1419.3                   1957.62                  1.4            84.5578                  2.875      1                3.2                   74.075                    0                   0                   0           0\n",
       "2023-05-01 06:00:00         181.5              20.7117         33709.8             1003.95                         66.6              121                1.26825            1299.4                   1903.3                   2.275          98.0913                  2.675      1                3.55                  58.55                     0                   0                   0           0\n",
       "2023-05-01 07:00:00         266.75             27.1717         26871               1003.62                         63.375            121                1.2625              743.3                    nan                     3.475         112.359                   2.35       1                4.2                   48.55                     0                   0                   0           0\n",
       "2023-05-01 08:00:00         315.2              32.9648         20572.6             1003.35                         61.525            121                1.25975             805.375                 1381.2                   3.55          127.79                    1.6        1                3.9                   61.075                    0                   0                   0           0\n",
       "2023-05-01 09:00:00         334.375            37.5947         15324.5             1003.2                          59.725            121                1.2585              884.95                  1429.83                  3.35          144.697                   0.8        1                3.45                  80.125                    0                   0                   0           0\n",
       "[10 rows x 20 columns]\n"
      ]
     },
     "execution_count": 13,
     "metadata": {},
     "output_type": "execute_result"
    }
   ],
   "source": [
    "X_test = pd.read_csv('../data_feature_enigineering/X_test_selected_preprocessed_mean.csv')\n",
    "X_test_h2o = h2o.H2OFrame(X_test)\n",
    "X_test_h2o.head()"
   ]
  },
  {
   "cell_type": "code",
   "execution_count": 15,
   "metadata": {},
   "outputs": [
    {
     "name": "stdout",
     "output_type": "stream",
     "text": [
      "stackedensemble prediction progress: |███████████████████████████████████████████| (done) 100%\n",
      "xgboost prediction progress: |███████████████████████████████████████████████████| (done) 100%\n"
     ]
    }
   ],
   "source": [
    "# predict using the two models\n",
    "preds_stacked = stacked_model.predict(X_test_h2o)\n",
    "preds_xgb = xgb_model.predict(X_test_h2o)"
   ]
  },
  {
   "cell_type": "code",
   "execution_count": 18,
   "metadata": {},
   "outputs": [
    {
     "data": {
      "text/plain": [
       "((2160, 1), (2160, 1))"
      ]
     },
     "execution_count": 18,
     "metadata": {},
     "output_type": "execute_result"
    }
   ],
   "source": [
    "preds_stacked.shape, preds_xgb.shape"
   ]
  },
  {
   "cell_type": "code",
   "execution_count": 16,
   "metadata": {},
   "outputs": [
    {
     "data": {
      "text/html": [
       "<table class='dataframe'>\n",
       "<thead>\n",
       "<tr><th style=\"text-align: right;\">   predict</th></tr>\n",
       "</thead>\n",
       "<tbody>\n",
       "<tr><td style=\"text-align: right;\">  -2.8245 </td></tr>\n",
       "<tr><td style=\"text-align: right;\">  -4.57066</td></tr>\n",
       "<tr><td style=\"text-align: right;\">  -2.49529</td></tr>\n",
       "<tr><td style=\"text-align: right;\">  39.2437 </td></tr>\n",
       "<tr><td style=\"text-align: right;\"> 282.006  </td></tr>\n",
       "<tr><td style=\"text-align: right;\"> 887.839  </td></tr>\n",
       "<tr><td style=\"text-align: right;\">1783.21   </td></tr>\n",
       "<tr><td style=\"text-align: right;\">2778.61   </td></tr>\n",
       "<tr><td style=\"text-align: right;\">2505.57   </td></tr>\n",
       "<tr><td style=\"text-align: right;\">2507.64   </td></tr>\n",
       "</tbody>\n",
       "</table><pre style='font-size: smaller; margin-bottom: 1em;'>[10 rows x 1 column]</pre>"
      ],
      "text/plain": [
       "   predict\n",
       "----------\n",
       "  -2.8245\n",
       "  -4.57066\n",
       "  -2.49529\n",
       "  39.2437\n",
       " 282.006\n",
       " 887.839\n",
       "1783.21\n",
       "2778.61\n",
       "2505.57\n",
       "2507.64\n",
       "[10 rows x 1 column]\n"
      ]
     },
     "execution_count": 16,
     "metadata": {},
     "output_type": "execute_result"
    }
   ],
   "source": [
    "preds_stacked.head()"
   ]
  },
  {
   "cell_type": "code",
   "execution_count": 17,
   "metadata": {},
   "outputs": [
    {
     "data": {
      "text/html": [
       "<table class='dataframe'>\n",
       "<thead>\n",
       "<tr><th style=\"text-align: right;\">   predict</th></tr>\n",
       "</thead>\n",
       "<tbody>\n",
       "<tr><td style=\"text-align: right;\">   3.2186 </td></tr>\n",
       "<tr><td style=\"text-align: right;\">   3.23126</td></tr>\n",
       "<tr><td style=\"text-align: right;\">   6.36366</td></tr>\n",
       "<tr><td style=\"text-align: right;\">   4.65412</td></tr>\n",
       "<tr><td style=\"text-align: right;\"> 123.521  </td></tr>\n",
       "<tr><td style=\"text-align: right;\"> 785.278  </td></tr>\n",
       "<tr><td style=\"text-align: right;\">1416.82   </td></tr>\n",
       "<tr><td style=\"text-align: right;\">2631      </td></tr>\n",
       "<tr><td style=\"text-align: right;\">2421.82   </td></tr>\n",
       "<tr><td style=\"text-align: right;\">2393.36   </td></tr>\n",
       "</tbody>\n",
       "</table><pre style='font-size: smaller; margin-bottom: 1em;'>[10 rows x 1 column]</pre>"
      ],
      "text/plain": [
       "   predict\n",
       "----------\n",
       "   3.2186\n",
       "   3.23126\n",
       "   6.36366\n",
       "   4.65412\n",
       " 123.521\n",
       " 785.278\n",
       "1416.82\n",
       "2631\n",
       "2421.82\n",
       "2393.36\n",
       "[10 rows x 1 column]\n"
      ]
     },
     "execution_count": 17,
     "metadata": {},
     "output_type": "execute_result"
    }
   ],
   "source": [
    "preds_xgb.head()"
   ]
  },
  {
   "cell_type": "code",
   "execution_count": 19,
   "metadata": {},
   "outputs": [],
   "source": [
    "# remove all the negative values in the predictions and replace them with 0\n",
    "preds_stacked[preds_stacked < 0] = 0\n",
    "\n",
    "# remove all the negative values in the predictions and replace them with 0\n",
    "preds_xgb[preds_xgb < 0] = 0"
   ]
  },
  {
   "cell_type": "code",
   "execution_count": 22,
   "metadata": {},
   "outputs": [
    {
     "data": {
      "text/plain": [
       "((2160, 1), (2160, 1))"
      ]
     },
     "execution_count": 22,
     "metadata": {},
     "output_type": "execute_result"
    }
   ],
   "source": [
    "preds_stacked.shape, preds_xgb.shape"
   ]
  },
  {
   "cell_type": "code",
   "execution_count": 25,
   "metadata": {},
   "outputs": [],
   "source": [
    "# convert the predictions to pandas dataframe\n",
    "preds_stacked_df = preds_stacked.as_data_frame()\n",
    "preds_xgb_df = preds_xgb.as_data_frame()"
   ]
  },
  {
   "cell_type": "code",
   "execution_count": 28,
   "metadata": {},
   "outputs": [],
   "source": [
    "preds_stacked_df.to_csv('../data_results/02H_h2o_ensemble_preprocessed_means_basic_feng.csv', index=True)\n",
    "preds_xgb_df.to_csv('../data_results/02H_h2o_xgboost_preprocessed_means_basic_feng.csv', index=True)"
   ]
  }
 ],
 "metadata": {
  "kernelspec": {
   "display_name": "h2o",
   "language": "python",
   "name": "python3"
  },
  "language_info": {
   "codemirror_mode": {
    "name": "ipython",
    "version": 3
   },
   "file_extension": ".py",
   "mimetype": "text/x-python",
   "name": "python",
   "nbconvert_exporter": "python",
   "pygments_lexer": "ipython3",
   "version": "3.10.13"
  }
 },
 "nbformat": 4,
 "nbformat_minor": 2
}
