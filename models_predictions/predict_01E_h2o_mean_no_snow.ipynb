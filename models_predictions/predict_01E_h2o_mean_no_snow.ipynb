{
 "cells": [
  {
   "cell_type": "code",
   "execution_count": 15,
   "metadata": {},
   "outputs": [
    {
     "name": "stdout",
     "output_type": "stream",
     "text": [
      "The autoreload extension is already loaded. To reload it, use:\n",
      "  %reload_ext autoreload\n"
     ]
    }
   ],
   "source": [
    "%load_ext autoreload"
   ]
  },
  {
   "cell_type": "code",
   "execution_count": 16,
   "metadata": {},
   "outputs": [],
   "source": [
    "import sys\n",
    "sys.path.append('../')"
   ]
  },
  {
   "cell_type": "code",
   "execution_count": 17,
   "metadata": {},
   "outputs": [],
   "source": [
    "import os\n",
    "import h2o\n",
    "import pandas as pd\n",
    "\n",
    "from h2o.automl import H2OAutoML\n",
    "from utilities import create_delivery_file as delivery\n",
    "\n",
    "home_dir = os.path.join(os.path.expanduser('~'), 'Documents')\n",
    "model_path = os.path.join(home_dir, 'models')\n",
    "test_data_path = os.path.join(home_dir, 'TDT4173-ML/data_feature_engineering')"
   ]
  },
  {
   "cell_type": "code",
   "execution_count": 18,
   "metadata": {},
   "outputs": [
    {
     "name": "stdout",
     "output_type": "stream",
     "text": [
      "Checking whether there is an H2O instance running at http://localhost:54321. connected.\n"
     ]
    },
    {
     "data": {
      "text/html": [
       "\n",
       "<style>\n",
       "\n",
       "#h2o-table-1.h2o-container {\n",
       "  overflow-x: auto;\n",
       "}\n",
       "#h2o-table-1 .h2o-table {\n",
       "  /* width: 100%; */\n",
       "  margin-top: 1em;\n",
       "  margin-bottom: 1em;\n",
       "}\n",
       "#h2o-table-1 .h2o-table caption {\n",
       "  white-space: nowrap;\n",
       "  caption-side: top;\n",
       "  text-align: left;\n",
       "  /* margin-left: 1em; */\n",
       "  margin: 0;\n",
       "  font-size: larger;\n",
       "}\n",
       "#h2o-table-1 .h2o-table thead {\n",
       "  white-space: nowrap; \n",
       "  position: sticky;\n",
       "  top: 0;\n",
       "  box-shadow: 0 -1px inset;\n",
       "}\n",
       "#h2o-table-1 .h2o-table tbody {\n",
       "  overflow: auto;\n",
       "}\n",
       "#h2o-table-1 .h2o-table th,\n",
       "#h2o-table-1 .h2o-table td {\n",
       "  text-align: right;\n",
       "  /* border: 1px solid; */\n",
       "}\n",
       "#h2o-table-1 .h2o-table tr:nth-child(even) {\n",
       "  /* background: #F5F5F5 */\n",
       "}\n",
       "\n",
       "</style>      \n",
       "<div id=\"h2o-table-1\" class=\"h2o-container\">\n",
       "  <table class=\"h2o-table\">\n",
       "    <caption></caption>\n",
       "    <thead></thead>\n",
       "    <tbody><tr><td>H2O_cluster_uptime:</td>\n",
       "<td>43 mins 42 secs</td></tr>\n",
       "<tr><td>H2O_cluster_timezone:</td>\n",
       "<td>Europe/Oslo</td></tr>\n",
       "<tr><td>H2O_data_parsing_timezone:</td>\n",
       "<td>UTC</td></tr>\n",
       "<tr><td>H2O_cluster_version:</td>\n",
       "<td>3.42.0.4</td></tr>\n",
       "<tr><td>H2O_cluster_version_age:</td>\n",
       "<td>29 days</td></tr>\n",
       "<tr><td>H2O_cluster_name:</td>\n",
       "<td>H2O_from_python_stinky_4ol8fc</td></tr>\n",
       "<tr><td>H2O_cluster_total_nodes:</td>\n",
       "<td>1</td></tr>\n",
       "<tr><td>H2O_cluster_free_memory:</td>\n",
       "<td>1.870 Gb</td></tr>\n",
       "<tr><td>H2O_cluster_total_cores:</td>\n",
       "<td>4</td></tr>\n",
       "<tr><td>H2O_cluster_allowed_cores:</td>\n",
       "<td>4</td></tr>\n",
       "<tr><td>H2O_cluster_status:</td>\n",
       "<td>locked, healthy</td></tr>\n",
       "<tr><td>H2O_connection_url:</td>\n",
       "<td>http://localhost:54321</td></tr>\n",
       "<tr><td>H2O_connection_proxy:</td>\n",
       "<td>{\"http\": null, \"https\": null}</td></tr>\n",
       "<tr><td>H2O_internal_security:</td>\n",
       "<td>False</td></tr>\n",
       "<tr><td>Python_version:</td>\n",
       "<td>3.10.12 final</td></tr></tbody>\n",
       "  </table>\n",
       "</div>\n"
      ],
      "text/plain": [
       "--------------------------  -----------------------------\n",
       "H2O_cluster_uptime:         43 mins 42 secs\n",
       "H2O_cluster_timezone:       Europe/Oslo\n",
       "H2O_data_parsing_timezone:  UTC\n",
       "H2O_cluster_version:        3.42.0.4\n",
       "H2O_cluster_version_age:    29 days\n",
       "H2O_cluster_name:           H2O_from_python_stinky_4ol8fc\n",
       "H2O_cluster_total_nodes:    1\n",
       "H2O_cluster_free_memory:    1.870 Gb\n",
       "H2O_cluster_total_cores:    4\n",
       "H2O_cluster_allowed_cores:  4\n",
       "H2O_cluster_status:         locked, healthy\n",
       "H2O_connection_url:         http://localhost:54321\n",
       "H2O_connection_proxy:       {\"http\": null, \"https\": null}\n",
       "H2O_internal_security:      False\n",
       "Python_version:             3.10.12 final\n",
       "--------------------------  -----------------------------"
      ]
     },
     "metadata": {},
     "output_type": "display_data"
    }
   ],
   "source": [
    "h2o.init()"
   ]
  },
  {
   "cell_type": "markdown",
   "metadata": {},
   "source": [
    "Load H2O model"
   ]
  },
  {
   "cell_type": "code",
   "execution_count": null,
   "metadata": {},
   "outputs": [],
   "source": [
    "model_name = '01E_h2o_mean_no_snow'\n",
    "autoML = h2o.load_model(os.path.join(model_path, model_name))"
   ]
  },
  {
   "cell_type": "markdown",
   "metadata": {},
   "source": [
    "Prepare data and prediction"
   ]
  },
  {
   "cell_type": "code",
   "execution_count": 30,
   "metadata": {},
   "outputs": [
    {
     "name": "stdout",
     "output_type": "stream",
     "text": [
      "Parse progress: |████████████████████████████████████████████████████████████████| (done) 100%\n"
     ]
    },
    {
     "data": {
      "text/html": [
       "<table class='dataframe'>\n",
       "<thead>\n",
       "<tr><th>date_forecast      </th><th style=\"text-align: right;\">  absolute_humidity_2m:gm3</th><th style=\"text-align: right;\">  air_density_2m:kgm3</th><th style=\"text-align: right;\">  ceiling_height_agl:m</th><th style=\"text-align: right;\">  clear_sky_energy_1h:J</th><th style=\"text-align: right;\">  clear_sky_rad:W</th><th style=\"text-align: right;\">  cloud_base_agl:m</th><th style=\"text-align: right;\">  dew_or_rime:idx</th><th style=\"text-align: right;\">  dew_point_2m:K</th><th style=\"text-align: right;\">  diffuse_rad:W</th><th style=\"text-align: right;\">  diffuse_rad_1h:J</th><th style=\"text-align: right;\">  direct_rad:W</th><th style=\"text-align: right;\">  direct_rad_1h:J</th><th style=\"text-align: right;\">  effective_cloud_cover:p</th><th style=\"text-align: right;\">  elevation:m</th><th style=\"text-align: right;\">  is_day:idx</th><th style=\"text-align: right;\">  is_in_shadow:idx</th><th style=\"text-align: right;\">  msl_pressure:hPa</th><th style=\"text-align: right;\">  precip_5min:mm</th><th style=\"text-align: right;\">  precip_type_5min:idx</th><th style=\"text-align: right;\">  pressure_100m:hPa</th><th style=\"text-align: right;\">  pressure_50m:hPa</th><th style=\"text-align: right;\">  prob_rime:p</th><th style=\"text-align: right;\">  rain_water:kgm2</th><th style=\"text-align: right;\">  relative_humidity_1000hPa:p</th><th style=\"text-align: right;\">  sfc_pressure:hPa</th><th style=\"text-align: right;\">  sun_azimuth:d</th><th style=\"text-align: right;\">  sun_elevation:d</th><th style=\"text-align: right;\">  super_cooled_liquid_water:kgm2</th><th style=\"text-align: right;\">  t_1000hPa:K</th><th style=\"text-align: right;\">  total_cloud_cover:p</th><th style=\"text-align: right;\">  visibility:m</th><th style=\"text-align: right;\">  wind_speed_10m:ms</th><th style=\"text-align: right;\">  wind_speed_u_10m:ms</th><th style=\"text-align: right;\">  wind_speed_v_10m:ms</th><th style=\"text-align: right;\">  wind_speed_w_1000hPa:ms</th></tr>\n",
       "</thead>\n",
       "<tbody>\n",
       "<tr><td>2023-05-01 00:00:00</td><td style=\"text-align: right;\">                     4.325</td><td style=\"text-align: right;\">              1.28675</td><td style=\"text-align: right;\">                912.7 </td><td style=\"text-align: right;\">            0          </td><td style=\"text-align: right;\">            0    </td><td style=\"text-align: right;\">          1061.55 </td><td style=\"text-align: right;\">                0</td><td style=\"text-align: right;\">         271.65 </td><td style=\"text-align: right;\">          0    </td><td style=\"text-align: right;\">               0  </td><td style=\"text-align: right;\">         0    </td><td style=\"text-align: right;\">      0          </td><td style=\"text-align: right;\">                   74.95 </td><td style=\"text-align: right;\">            6</td><td style=\"text-align: right;\">        0   </td><td style=\"text-align: right;\">               1  </td><td style=\"text-align: right;\">           1013.67</td><td style=\"text-align: right;\">               0</td><td style=\"text-align: right;\">                     0</td><td style=\"text-align: right;\">           1000.55 </td><td style=\"text-align: right;\">           1006.8 </td><td style=\"text-align: right;\">            0</td><td style=\"text-align: right;\">                0</td><td style=\"text-align: right;\">                       80.275</td><td style=\"text-align: right;\">           1013.1 </td><td style=\"text-align: right;\">        16.0265</td><td style=\"text-align: right;\">         -10.541 </td><td style=\"text-align: right;\">                               0</td><td style=\"text-align: right;\">      273.8  </td><td style=\"text-align: right;\">               74.95 </td><td style=\"text-align: right;\">       29907.5</td><td style=\"text-align: right;\">              3.95 </td><td style=\"text-align: right;\">                2.1  </td><td style=\"text-align: right;\">                3.35 </td><td style=\"text-align: right;\">                        0</td></tr>\n",
       "<tr><td>2023-05-01 01:00:00</td><td style=\"text-align: right;\">                     4.275</td><td style=\"text-align: right;\">              1.286  </td><td style=\"text-align: right;\">               1482.1 </td><td style=\"text-align: right;\">            0          </td><td style=\"text-align: right;\">            0    </td><td style=\"text-align: right;\">          1075.1  </td><td style=\"text-align: right;\">                0</td><td style=\"text-align: right;\">         271.45 </td><td style=\"text-align: right;\">          0    </td><td style=\"text-align: right;\">               0  </td><td style=\"text-align: right;\">         0    </td><td style=\"text-align: right;\">      0          </td><td style=\"text-align: right;\">                   77.475</td><td style=\"text-align: right;\">            6</td><td style=\"text-align: right;\">        0   </td><td style=\"text-align: right;\">               1  </td><td style=\"text-align: right;\">           1013.15</td><td style=\"text-align: right;\">               0</td><td style=\"text-align: right;\">                     0</td><td style=\"text-align: right;\">           1000.05 </td><td style=\"text-align: right;\">           1006.3 </td><td style=\"text-align: right;\">            0</td><td style=\"text-align: right;\">                0</td><td style=\"text-align: right;\">                       79.825</td><td style=\"text-align: right;\">           1012.6 </td><td style=\"text-align: right;\">        30.4973</td><td style=\"text-align: right;\">          -7.8945</td><td style=\"text-align: right;\">                               0</td><td style=\"text-align: right;\">      273.8  </td><td style=\"text-align: right;\">               77.475</td><td style=\"text-align: right;\">       29519.1</td><td style=\"text-align: right;\">              3.825</td><td style=\"text-align: right;\">                1.925</td><td style=\"text-align: right;\">                3.3  </td><td style=\"text-align: right;\">                        0</td></tr>\n",
       "<tr><td>2023-05-01 02:00:00</td><td style=\"text-align: right;\">                     4.15 </td><td style=\"text-align: right;\">              1.28375</td><td style=\"text-align: right;\">               1791.3 </td><td style=\"text-align: right;\">            0          </td><td style=\"text-align: right;\">            0    </td><td style=\"text-align: right;\">          1200.4  </td><td style=\"text-align: right;\">                0</td><td style=\"text-align: right;\">         271.05 </td><td style=\"text-align: right;\">          0    </td><td style=\"text-align: right;\">               0  </td><td style=\"text-align: right;\">         0    </td><td style=\"text-align: right;\">      0          </td><td style=\"text-align: right;\">                   88.1  </td><td style=\"text-align: right;\">            6</td><td style=\"text-align: right;\">        0   </td><td style=\"text-align: right;\">               1  </td><td style=\"text-align: right;\">           1012.67</td><td style=\"text-align: right;\">               0</td><td style=\"text-align: right;\">                     0</td><td style=\"text-align: right;\">            999.5  </td><td style=\"text-align: right;\">           1005.8 </td><td style=\"text-align: right;\">            0</td><td style=\"text-align: right;\">                0</td><td style=\"text-align: right;\">                       78    </td><td style=\"text-align: right;\">           1012.05</td><td style=\"text-align: right;\">        44.5172</td><td style=\"text-align: right;\">          -3.8155</td><td style=\"text-align: right;\">                               0</td><td style=\"text-align: right;\">      273.85 </td><td style=\"text-align: right;\">               88.1  </td><td style=\"text-align: right;\">       31009.1</td><td style=\"text-align: right;\">              3.65 </td><td style=\"text-align: right;\">                1.75 </td><td style=\"text-align: right;\">                3.2  </td><td style=\"text-align: right;\">                        0</td></tr>\n",
       "<tr><td>2023-05-01 03:00:00</td><td style=\"text-align: right;\">                     4.025</td><td style=\"text-align: right;\">              1.282  </td><td style=\"text-align: right;\">               2312.88</td><td style=\"text-align: right;\">        10124.4        </td><td style=\"text-align: right;\">           11.675</td><td style=\"text-align: right;\">          1179.85 </td><td style=\"text-align: right;\">                0</td><td style=\"text-align: right;\">         270.65 </td><td style=\"text-align: right;\">          9.375</td><td style=\"text-align: right;\">           16845.2</td><td style=\"text-align: right;\">         2.1  </td><td style=\"text-align: right;\">   3765.35       </td><td style=\"text-align: right;\">                   68.6  </td><td style=\"text-align: right;\">            6</td><td style=\"text-align: right;\">        0.75</td><td style=\"text-align: right;\">               0.5</td><td style=\"text-align: right;\">           1012.17</td><td style=\"text-align: right;\">               0</td><td style=\"text-align: right;\">                     0</td><td style=\"text-align: right;\">            998.975</td><td style=\"text-align: right;\">           1005.23</td><td style=\"text-align: right;\">            0</td><td style=\"text-align: right;\">                0</td><td style=\"text-align: right;\">                       75.625</td><td style=\"text-align: right;\">           1011.52</td><td style=\"text-align: right;\">        58.083 </td><td style=\"text-align: right;\">           1.4125</td><td style=\"text-align: right;\">                               0</td><td style=\"text-align: right;\">      273.9  </td><td style=\"text-align: right;\">               68.6  </td><td style=\"text-align: right;\">       34552.5</td><td style=\"text-align: right;\">              3.5  </td><td style=\"text-align: right;\">                1.45 </td><td style=\"text-align: right;\">                3.15 </td><td style=\"text-align: right;\">                        0</td></tr>\n",
       "<tr><td>2023-05-01 04:00:00</td><td style=\"text-align: right;\">                     3.9  </td><td style=\"text-align: right;\">              1.281  </td><td style=\"text-align: right;\">               2198.3 </td><td style=\"text-align: right;\">       141749          </td><td style=\"text-align: right;\">           76.875</td><td style=\"text-align: right;\">           920.05 </td><td style=\"text-align: right;\">                0</td><td style=\"text-align: right;\">         270.375</td><td style=\"text-align: right;\">         47.4  </td><td style=\"text-align: right;\">          102210  </td><td style=\"text-align: right;\">        25.45 </td><td style=\"text-align: right;\">  49571.2        </td><td style=\"text-align: right;\">                   66.3  </td><td style=\"text-align: right;\">            6</td><td style=\"text-align: right;\">        1   </td><td style=\"text-align: right;\">               0  </td><td style=\"text-align: right;\">           1011.73</td><td style=\"text-align: right;\">               0</td><td style=\"text-align: right;\">                     0</td><td style=\"text-align: right;\">            998.55 </td><td style=\"text-align: right;\">           1004.75</td><td style=\"text-align: right;\">            0</td><td style=\"text-align: right;\">                0</td><td style=\"text-align: right;\">                       74.225</td><td style=\"text-align: right;\">           1011.05</td><td style=\"text-align: right;\">        71.341 </td><td style=\"text-align: right;\">           7.4685</td><td style=\"text-align: right;\">                               0</td><td style=\"text-align: right;\">      273.925</td><td style=\"text-align: right;\">               66.3  </td><td style=\"text-align: right;\">       35483.9</td><td style=\"text-align: right;\">              3.325</td><td style=\"text-align: right;\">                1.3  </td><td style=\"text-align: right;\">                3.05 </td><td style=\"text-align: right;\">                        0</td></tr>\n",
       "<tr><td>2023-05-01 05:00:00</td><td style=\"text-align: right;\">                     4    </td><td style=\"text-align: right;\">              1.276  </td><td style=\"text-align: right;\">               1957.62</td><td style=\"text-align: right;\">       471607          </td><td style=\"text-align: right;\">          190.575</td><td style=\"text-align: right;\">          1419.3  </td><td style=\"text-align: right;\">                0</td><td style=\"text-align: right;\">         270.55 </td><td style=\"text-align: right;\">         86.425</td><td style=\"text-align: right;\">          240972  </td><td style=\"text-align: right;\">        88.225</td><td style=\"text-align: right;\"> 204641          </td><td style=\"text-align: right;\">                   74.075</td><td style=\"text-align: right;\">            6</td><td style=\"text-align: right;\">        1   </td><td style=\"text-align: right;\">               0  </td><td style=\"text-align: right;\">           1011.35</td><td style=\"text-align: right;\">               0</td><td style=\"text-align: right;\">                     0</td><td style=\"text-align: right;\">            998.125</td><td style=\"text-align: right;\">           1004.35</td><td style=\"text-align: right;\">            0</td><td style=\"text-align: right;\">                0</td><td style=\"text-align: right;\">                       71.1  </td><td style=\"text-align: right;\">           1010.6 </td><td style=\"text-align: right;\">        84.5578</td><td style=\"text-align: right;\">          14.0177</td><td style=\"text-align: right;\">                               0</td><td style=\"text-align: right;\">      274.25 </td><td style=\"text-align: right;\">               74.075</td><td style=\"text-align: right;\">       35425.4</td><td style=\"text-align: right;\">              3.2  </td><td style=\"text-align: right;\">                1.4  </td><td style=\"text-align: right;\">                2.875</td><td style=\"text-align: right;\">                        0</td></tr>\n",
       "<tr><td>2023-05-01 06:00:00</td><td style=\"text-align: right;\">                     4    </td><td style=\"text-align: right;\">              1.26825</td><td style=\"text-align: right;\">               1903.3 </td><td style=\"text-align: right;\">       921249          </td><td style=\"text-align: right;\">          322.15 </td><td style=\"text-align: right;\">          1299.4  </td><td style=\"text-align: right;\">                0</td><td style=\"text-align: right;\">         270.825</td><td style=\"text-align: right;\">        111.075</td><td style=\"text-align: right;\">          355523  </td><td style=\"text-align: right;\">       181.5  </td><td style=\"text-align: right;\"> 485558          </td><td style=\"text-align: right;\">                   58.55 </td><td style=\"text-align: right;\">            6</td><td style=\"text-align: right;\">        1   </td><td style=\"text-align: right;\">               0  </td><td style=\"text-align: right;\">           1011   </td><td style=\"text-align: right;\">               0</td><td style=\"text-align: right;\">                     0</td><td style=\"text-align: right;\">            997.75 </td><td style=\"text-align: right;\">           1003.95</td><td style=\"text-align: right;\">            0</td><td style=\"text-align: right;\">                0</td><td style=\"text-align: right;\">                       66.6  </td><td style=\"text-align: right;\">           1010.17</td><td style=\"text-align: right;\">        98.0913</td><td style=\"text-align: right;\">          20.7117</td><td style=\"text-align: right;\">                               0</td><td style=\"text-align: right;\">      274.95 </td><td style=\"text-align: right;\">               58.55 </td><td style=\"text-align: right;\">       33709.8</td><td style=\"text-align: right;\">              3.55 </td><td style=\"text-align: right;\">                2.275</td><td style=\"text-align: right;\">                2.675</td><td style=\"text-align: right;\">                        0</td></tr>\n",
       "<tr><td>2023-05-01 07:00:00</td><td style=\"text-align: right;\">                     4    </td><td style=\"text-align: right;\">              1.2625 </td><td style=\"text-align: right;\">                nan   </td><td style=\"text-align: right;\">            1.39414e+06</td><td style=\"text-align: right;\">          450.575</td><td style=\"text-align: right;\">           743.3  </td><td style=\"text-align: right;\">                0</td><td style=\"text-align: right;\">         270.9  </td><td style=\"text-align: right;\">        130.1  </td><td style=\"text-align: right;\">          434118  </td><td style=\"text-align: right;\">       266.75 </td><td style=\"text-align: right;\"> 806886          </td><td style=\"text-align: right;\">                   48.55 </td><td style=\"text-align: right;\">            6</td><td style=\"text-align: right;\">        1   </td><td style=\"text-align: right;\">               0  </td><td style=\"text-align: right;\">           1010.73</td><td style=\"text-align: right;\">               0</td><td style=\"text-align: right;\">                     0</td><td style=\"text-align: right;\">            997.45 </td><td style=\"text-align: right;\">           1003.62</td><td style=\"text-align: right;\">            0</td><td style=\"text-align: right;\">                0</td><td style=\"text-align: right;\">                       63.375</td><td style=\"text-align: right;\">           1009.85</td><td style=\"text-align: right;\">       112.359 </td><td style=\"text-align: right;\">          27.1717</td><td style=\"text-align: right;\">                               0</td><td style=\"text-align: right;\">      275.575</td><td style=\"text-align: right;\">               48.55 </td><td style=\"text-align: right;\">       26871  </td><td style=\"text-align: right;\">              4.2  </td><td style=\"text-align: right;\">                3.475</td><td style=\"text-align: right;\">                2.35 </td><td style=\"text-align: right;\">                        0</td></tr>\n",
       "<tr><td>2023-05-01 08:00:00</td><td style=\"text-align: right;\">                     4.1  </td><td style=\"text-align: right;\">              1.25975</td><td style=\"text-align: right;\">               1381.2 </td><td style=\"text-align: right;\">            1.83013e+06</td><td style=\"text-align: right;\">          562.45 </td><td style=\"text-align: right;\">           805.375</td><td style=\"text-align: right;\">                0</td><td style=\"text-align: right;\">         271.025</td><td style=\"text-align: right;\">        159.225</td><td style=\"text-align: right;\">          520811  </td><td style=\"text-align: right;\">       315.2  </td><td style=\"text-align: right;\">      1.04756e+06</td><td style=\"text-align: right;\">                   61.075</td><td style=\"text-align: right;\">            6</td><td style=\"text-align: right;\">        1   </td><td style=\"text-align: right;\">               0  </td><td style=\"text-align: right;\">           1010.45</td><td style=\"text-align: right;\">               0</td><td style=\"text-align: right;\">                     0</td><td style=\"text-align: right;\">            997.2  </td><td style=\"text-align: right;\">           1003.35</td><td style=\"text-align: right;\">            0</td><td style=\"text-align: right;\">                0</td><td style=\"text-align: right;\">                       61.525</td><td style=\"text-align: right;\">           1009.55</td><td style=\"text-align: right;\">       127.79  </td><td style=\"text-align: right;\">          32.9648</td><td style=\"text-align: right;\">                               0</td><td style=\"text-align: right;\">      275.95 </td><td style=\"text-align: right;\">               61.075</td><td style=\"text-align: right;\">       20572.6</td><td style=\"text-align: right;\">              3.9  </td><td style=\"text-align: right;\">                3.55 </td><td style=\"text-align: right;\">                1.6  </td><td style=\"text-align: right;\">                        0</td></tr>\n",
       "<tr><td>2023-05-01 09:00:00</td><td style=\"text-align: right;\">                     4.1  </td><td style=\"text-align: right;\">              1.2585 </td><td style=\"text-align: right;\">               1429.83</td><td style=\"text-align: right;\">            2.18772e+06</td><td style=\"text-align: right;\">          647.9  </td><td style=\"text-align: right;\">           884.95 </td><td style=\"text-align: right;\">                0</td><td style=\"text-align: right;\">         271.05 </td><td style=\"text-align: right;\">        187.6  </td><td style=\"text-align: right;\">          624288  </td><td style=\"text-align: right;\">       334.375</td><td style=\"text-align: right;\">      1.16927e+06</td><td style=\"text-align: right;\">                   80.125</td><td style=\"text-align: right;\">            6</td><td style=\"text-align: right;\">        1   </td><td style=\"text-align: right;\">               0  </td><td style=\"text-align: right;\">           1010.2 </td><td style=\"text-align: right;\">               0</td><td style=\"text-align: right;\">                     0</td><td style=\"text-align: right;\">            997.05 </td><td style=\"text-align: right;\">           1003.2 </td><td style=\"text-align: right;\">            0</td><td style=\"text-align: right;\">                0</td><td style=\"text-align: right;\">                       59.725</td><td style=\"text-align: right;\">           1009.38</td><td style=\"text-align: right;\">       144.697 </td><td style=\"text-align: right;\">          37.5947</td><td style=\"text-align: right;\">                               0</td><td style=\"text-align: right;\">      276.25 </td><td style=\"text-align: right;\">               80.125</td><td style=\"text-align: right;\">       15324.5</td><td style=\"text-align: right;\">              3.45 </td><td style=\"text-align: right;\">                3.35 </td><td style=\"text-align: right;\">                0.8  </td><td style=\"text-align: right;\">                        0</td></tr>\n",
       "</tbody>\n",
       "</table><pre style='font-size: smaller; margin-bottom: 1em;'>[10 rows x 36 columns]</pre>"
      ],
      "text/plain": [
       "date_forecast          absolute_humidity_2m:gm3    air_density_2m:kgm3    ceiling_height_agl:m    clear_sky_energy_1h:J    clear_sky_rad:W    cloud_base_agl:m    dew_or_rime:idx    dew_point_2m:K    diffuse_rad:W    diffuse_rad_1h:J    direct_rad:W    direct_rad_1h:J    effective_cloud_cover:p    elevation:m    is_day:idx    is_in_shadow:idx    msl_pressure:hPa    precip_5min:mm    precip_type_5min:idx    pressure_100m:hPa    pressure_50m:hPa    prob_rime:p    rain_water:kgm2    relative_humidity_1000hPa:p    sfc_pressure:hPa    sun_azimuth:d    sun_elevation:d    super_cooled_liquid_water:kgm2    t_1000hPa:K    total_cloud_cover:p    visibility:m    wind_speed_10m:ms    wind_speed_u_10m:ms    wind_speed_v_10m:ms    wind_speed_w_1000hPa:ms\n",
       "-------------------  --------------------------  ---------------------  ----------------------  -----------------------  -----------------  ------------------  -----------------  ----------------  ---------------  ------------------  --------------  -----------------  -------------------------  -------------  ------------  ------------------  ------------------  ----------------  ----------------------  -------------------  ------------------  -------------  -----------------  -----------------------------  ------------------  ---------------  -----------------  --------------------------------  -------------  ---------------------  --------------  -------------------  ---------------------  ---------------------  -------------------------\n",
       "2023-05-01 00:00:00                       4.325                1.28675                  912.7               0                        0                1061.55                   0           271.65             0                     0             0            0                               74.95               6          0                    1               1013.67                 0                       0             1000.55              1006.8               0                  0                         80.275             1013.1           16.0265           -10.541                                  0        273.8                   74.95          29907.5                3.95                   2.1                    3.35                           0\n",
       "2023-05-01 01:00:00                       4.275                1.286                   1482.1               0                        0                1075.1                    0           271.45             0                     0             0            0                               77.475              6          0                    1               1013.15                 0                       0             1000.05              1006.3               0                  0                         79.825             1012.6           30.4973            -7.8945                                 0        273.8                   77.475         29519.1                3.825                  1.925                  3.3                            0\n",
       "2023-05-01 02:00:00                       4.15                 1.28375                 1791.3               0                        0                1200.4                    0           271.05             0                     0             0            0                               88.1                6          0                    1               1012.67                 0                       0              999.5               1005.8               0                  0                         78                 1012.05          44.5172            -3.8155                                 0        273.85                  88.1           31009.1                3.65                   1.75                   3.2                            0\n",
       "2023-05-01 03:00:00                       4.025                1.282                   2312.88          10124.4                     11.675            1179.85                   0           270.65             9.375             16845.2           2.1       3765.35                            68.6                6          0.75                 0.5             1012.17                 0                       0              998.975             1005.23              0                  0                         75.625             1011.52          58.083              1.4125                                 0        273.9                   68.6           34552.5                3.5                    1.45                   3.15                           0\n",
       "2023-05-01 04:00:00                       3.9                  1.281                   2198.3          141749                       76.875             920.05                   0           270.375           47.4              102210            25.45     49571.2                             66.3                6          1                    0               1011.73                 0                       0              998.55              1004.75              0                  0                         74.225             1011.05          71.341              7.4685                                 0        273.925                 66.3           35483.9                3.325                  1.3                    3.05                           0\n",
       "2023-05-01 05:00:00                       4                    1.276                   1957.62         471607                      190.575            1419.3                    0           270.55            86.425            240972            88.225   204641                               74.075              6          1                    0               1011.35                 0                       0              998.125             1004.35              0                  0                         71.1               1010.6           84.5578            14.0177                                 0        274.25                  74.075         35425.4                3.2                    1.4                    2.875                          0\n",
       "2023-05-01 06:00:00                       4                    1.26825                 1903.3          921249                      322.15             1299.4                    0           270.825          111.075            355523           181.5     485558                               58.55               6          1                    0               1011                    0                       0              997.75              1003.95              0                  0                         66.6               1010.17          98.0913            20.7117                                 0        274.95                  58.55          33709.8                3.55                   2.275                  2.675                          0\n",
       "2023-05-01 07:00:00                       4                    1.2625                   nan                 1.39414e+06            450.575             743.3                    0           270.9            130.1              434118           266.75    806886                               48.55               6          1                    0               1010.73                 0                       0              997.45              1003.62              0                  0                         63.375             1009.85         112.359             27.1717                                 0        275.575                 48.55          26871                  4.2                    3.475                  2.35                           0\n",
       "2023-05-01 08:00:00                       4.1                  1.25975                 1381.2               1.83013e+06            562.45              805.375                  0           271.025          159.225            520811           315.2          1.04756e+06                     61.075              6          1                    0               1010.45                 0                       0              997.2               1003.35              0                  0                         61.525             1009.55         127.79              32.9648                                 0        275.95                  61.075         20572.6                3.9                    3.55                   1.6                            0\n",
       "2023-05-01 09:00:00                       4.1                  1.2585                  1429.83              2.18772e+06            647.9               884.95                   0           271.05           187.6              624288           334.375        1.16927e+06                     80.125              6          1                    0               1010.2                  0                       0              997.05              1003.2               0                  0                         59.725             1009.38         144.697             37.5947                                 0        276.25                  80.125         15324.5                3.45                   3.35                   0.8                            0\n",
       "[10 rows x 36 columns]\n"
      ]
     },
     "execution_count": 30,
     "metadata": {},
     "output_type": "execute_result"
    }
   ],
   "source": [
    "test_pd = pd.read_csv(os.path.join(test_data_path, 'mean_no_snow_test.csv'))\n",
    "X_test = h2o.H2OFrame(test_pd)\n",
    "\n",
    "prediction = autoML.predict(X_test)"
   ]
  },
  {
   "cell_type": "markdown",
   "metadata": {},
   "source": [
    "Create delivery file"
   ]
  },
  {
   "cell_type": "code",
   "execution_count": null,
   "metadata": {},
   "outputs": [],
   "source": [
    "file = delivery.CreateDelivery(prediction, '01E_h2o_mean_no_snow')\n",
    "file.create_delivery_file(use_mean_values=True)"
   ]
  }
 ],
 "metadata": {
  "kernelspec": {
   "display_name": "Python 3",
   "language": "python",
   "name": "python3"
  },
  "language_info": {
   "codemirror_mode": {
    "name": "ipython",
    "version": 3
   },
   "file_extension": ".py",
   "mimetype": "text/x-python",
   "name": "python",
   "nbconvert_exporter": "python",
   "pygments_lexer": "ipython3",
   "version": "3.10.12"
  }
 },
 "nbformat": 4,
 "nbformat_minor": 2
}
