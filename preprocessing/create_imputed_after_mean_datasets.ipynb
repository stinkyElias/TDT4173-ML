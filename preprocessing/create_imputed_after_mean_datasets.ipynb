{
 "cells": [
  {
   "cell_type": "code",
   "execution_count": 11,
   "metadata": {},
   "outputs": [
    {
     "name": "stdout",
     "output_type": "stream",
     "text": [
      "The autoreload extension is already loaded. To reload it, use:\n",
      "  %reload_ext autoreload\n"
     ]
    }
   ],
   "source": [
    "%load_ext autoreload"
   ]
  },
  {
   "cell_type": "code",
   "execution_count": 12,
   "metadata": {},
   "outputs": [],
   "source": [
    "%autoreload\n",
    "\n",
    "import sys\n",
    "import os\n",
    "\n",
    "sys.path.append('../')\n",
    "\n",
    "import pandas as pd\n",
    "from utilities import create_data as create\n",
    "\n",
    "home_dir = os.path.join(os.path.expanduser('~'), 'Documents/TDT4173-ML')\n",
    "saved_data_path = os.path.join(home_dir, 'data_processed')"
   ]
  },
  {
   "cell_type": "code",
   "execution_count": 13,
   "metadata": {},
   "outputs": [
    {
     "name": "stdout",
     "output_type": "stream",
     "text": [
      "Impute successfull\n"
     ]
    }
   ],
   "source": [
    "data = create.CreateData()\n",
    "\n",
    "train = data.create_training_data(use_mean_values=True, impute_data_after=True)\n",
    "test = data.create_test_data(use_mean_values=True, impute_data_after=True)\n"
   ]
  },
  {
   "cell_type": "code",
   "execution_count": 14,
   "metadata": {},
   "outputs": [],
   "source": [
    "train.to_csv(os.path.join(saved_data_path, 'imputed_after_2n_mean_train.csv'), index=True)\n",
    "test.to_csv(os.path.join(saved_data_path, 'imputed_after_2n_mean_test.csv'), index=True)"
   ]
  }
 ],
 "metadata": {
  "kernelspec": {
   "display_name": "Python 3",
   "language": "python",
   "name": "python3"
  },
  "language_info": {
   "codemirror_mode": {
    "name": "ipython",
    "version": 3
   },
   "file_extension": ".py",
   "mimetype": "text/x-python",
   "name": "python",
   "nbconvert_exporter": "python",
   "pygments_lexer": "ipython3",
   "version": "3.10.12"
  }
 },
 "nbformat": 4,
 "nbformat_minor": 2
}
