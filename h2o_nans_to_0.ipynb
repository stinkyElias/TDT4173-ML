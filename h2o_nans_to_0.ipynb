{
 "cells": [
  {
   "cell_type": "code",
   "execution_count": null,
   "metadata": {},
   "outputs": [],
   "source": [
    "%load_ext autoreload"
   ]
  },
  {
   "cell_type": "code",
   "execution_count": null,
   "metadata": {},
   "outputs": [],
   "source": [
    "%autoreload\n",
    "\n",
    "import h2o\n",
    "import create_data as create\n",
    "import pandas as pd\n",
    "import utilities as utils\n",
    "\n",
    "from h2o.automl import H2OAutoML"
   ]
  },
  {
   "cell_type": "code",
   "execution_count": null,
   "metadata": {},
   "outputs": [],
   "source": [
    "data = create.CreateTrainingData()\n",
    "train = data.create_training_data()\n",
    "test = create.create_test_data()\n",
    "target = create.create_target_data()"
   ]
  },
  {
   "cell_type": "code",
   "execution_count": null,
   "metadata": {},
   "outputs": [],
   "source": [
    "h2o.init()"
   ]
  },
  {
   "cell_type": "code",
   "execution_count": null,
   "metadata": {},
   "outputs": [],
   "source": [
    "train.head()"
   ]
  },
  {
   "cell_type": "code",
   "execution_count": null,
   "metadata": {},
   "outputs": [],
   "source": [
    "# Fill nans with 0 in training data\n",
    "train.fillna(0, inplace=True)\n",
    "\n",
    "X_train = h2o.H2OFrame(train)\n",
    "y = 'pv_measurement'\n",
    "\n",
    "X = X_train.columns\n",
    "X.remove(y)"
   ]
  },
  {
   "cell_type": "code",
   "execution_count": null,
   "metadata": {},
   "outputs": [],
   "source": [
    "autoML = H2OAutoML(max_models=30, seed=1, nfolds=5)\n",
    "autoML.train(x=X, y=y, training_frame=X_train)"
   ]
  },
  {
   "cell_type": "code",
   "execution_count": null,
   "metadata": {},
   "outputs": [],
   "source": [
    "# Remove features that are not in the training set\n",
    "test_pd = test[X]\n",
    "\n",
    "# Set nans to 0 in test_pd\n",
    "# test_pd.fillna(0, inplace=True)\n",
    "\n",
    "test = h2o.H2OFrame(test_pd)\n",
    "\n",
    "prediction = autoML.predict(test)"
   ]
  },
  {
   "cell_type": "code",
   "execution_count": null,
   "metadata": {},
   "outputs": [],
   "source": [
    "preds_df = prediction.as_data_frame()\n",
    "preds_df[preds_df < 0] = 0\n",
    "\n",
    "results = pd.concat([test_pd.reset_index(), preds_df], axis=1)\n",
    "results['date_forecast'] = pd.to_datetime(results['date_forecast'])\n",
    "results.set_index('date_forecast', inplace=True)\n",
    "results.rename(columns={'predict': 'pv_prediction'}, inplace=True)\n",
    "\n",
    "utils.save_to_csv(results, 'h2o_nans_to_0')"
   ]
  }
 ],
 "metadata": {
  "kernelspec": {
   "display_name": "Python 3",
   "language": "python",
   "name": "python3"
  },
  "language_info": {
   "codemirror_mode": {
    "name": "ipython",
    "version": 3
   },
   "file_extension": ".py",
   "mimetype": "text/x-python",
   "name": "python",
   "nbconvert_exporter": "python",
   "pygments_lexer": "ipython3",
   "version": "3.10.12"
  }
 },
 "nbformat": 4,
 "nbformat_minor": 2
}
