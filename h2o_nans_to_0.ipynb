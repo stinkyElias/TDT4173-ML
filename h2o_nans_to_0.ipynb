{
 "cells": [
  {
   "cell_type": "code",
   "execution_count": null,
   "metadata": {},
   "outputs": [],
   "source": [
    "%load_ext autoreload"
   ]
  },
  {
   "cell_type": "code",
   "execution_count": null,
   "metadata": {},
   "outputs": [],
   "source": [
    "%autoreload\n",
    "\n",
    "import h2o\n",
    "import create_data as create\n",
    "import pandas as pd\n",
    "import utilities as utils\n",
    "\n",
    "from h2o.automl import H2OAutoML"
   ]
  },
  {
   "cell_type": "code",
   "execution_count": null,
   "metadata": {},
   "outputs": [],
   "source": [
    "data = create.CreateTrainingData()\n",
    "train = data.create_training_data()\n",
    "test = create.create_test_data()\n",
    "target = create.create_target_data()"
   ]
  },
  {
   "cell_type": "code",
   "execution_count": null,
   "metadata": {},
   "outputs": [],
   "source": [
    "h2o.init()"
   ]
  },
  {
   "cell_type": "code",
   "execution_count": null,
   "metadata": {},
   "outputs": [],
   "source": [
    "train.head()"
   ]
  },
  {
   "cell_type": "code",
   "execution_count": null,
   "metadata": {},
   "outputs": [],
   "source": [
    "# Fill nans with 0 in training data\n",
    "train.fillna(0, inplace=True)\n",
    "\n",
    "X_train = h2o.H2OFrame(train)\n",
    "y = 'pv_measurement'\n",
    "\n",
    "X = X_train.columns\n",
    "X.remove(y)"
   ]
  },
  {
   "cell_type": "code",
   "execution_count": null,
   "metadata": {},
   "outputs": [],
   "source": [
    "autoML = H2OAutoML(max_models=30, seed=1, nfolds=5)\n",
    "autoML.train(x=X, y=y, training_frame=X_train)"
   ]
  },
  {
   "cell_type": "code",
   "execution_count": 11,
   "metadata": {},
   "outputs": [
    {
     "name": "stdout",
     "output_type": "stream",
     "text": [
      "Parse progress: |████████████████████████████████████████████████████████████████| (done) 100%\n"
     ]
    },
    {
     "ename": "H2OValueError",
     "evalue": "No AutoML instance with id None.",
     "output_type": "error",
     "traceback": [
      "\u001b[0;31m---------------------------------------------------------------------------\u001b[0m",
      "\u001b[0;31mH2OValueError\u001b[0m                             Traceback (most recent call last)",
      "\u001b[1;32m/home/stinky/Documents/ntnu/ml/TDT4173-ML/h2o_nans_to_0.ipynb Cell 8\u001b[0m line \u001b[0;36m6\n\u001b[1;32m      <a href='vscode-notebook-cell:/home/stinky/Documents/ntnu/ml/TDT4173-ML/h2o_nans_to_0.ipynb#X10sZmlsZQ%3D%3D?line=2'>3</a>\u001b[0m test_pd \u001b[39m=\u001b[39m test[X]\n\u001b[1;32m      <a href='vscode-notebook-cell:/home/stinky/Documents/ntnu/ml/TDT4173-ML/h2o_nans_to_0.ipynb#X10sZmlsZQ%3D%3D?line=3'>4</a>\u001b[0m test_h2o \u001b[39m=\u001b[39m h2o\u001b[39m.\u001b[39mH2OFrame(test_pd)\n\u001b[0;32m----> <a href='vscode-notebook-cell:/home/stinky/Documents/ntnu/ml/TDT4173-ML/h2o_nans_to_0.ipynb#X10sZmlsZQ%3D%3D?line=5'>6</a>\u001b[0m pred \u001b[39m=\u001b[39m autoML\u001b[39m.\u001b[39;49mpredict(test_h2o)\n",
      "File \u001b[0;32m~/.local/lib/python3.10/site-packages/h2o/automl/_estimator.py:689\u001b[0m, in \u001b[0;36mH2OAutoML.predict\u001b[0;34m(self, test_data)\u001b[0m\n\u001b[1;32m    687\u001b[0m leader \u001b[39m=\u001b[39m \u001b[39mself\u001b[39m\u001b[39m.\u001b[39mleader\n\u001b[1;32m    688\u001b[0m \u001b[39mif\u001b[39;00m leader \u001b[39mis\u001b[39;00m \u001b[39mNone\u001b[39;00m:\n\u001b[0;32m--> 689\u001b[0m     \u001b[39mself\u001b[39;49m\u001b[39m.\u001b[39;49m_fetch()\n\u001b[1;32m    690\u001b[0m     leader \u001b[39m=\u001b[39m \u001b[39mself\u001b[39m\u001b[39m.\u001b[39mleader\n\u001b[1;32m    691\u001b[0m \u001b[39mif\u001b[39;00m leader \u001b[39mis\u001b[39;00m \u001b[39mnot\u001b[39;00m \u001b[39mNone\u001b[39;00m:\n",
      "File \u001b[0;32m~/.local/lib/python3.10/site-packages/h2o/automl/_estimator.py:709\u001b[0m, in \u001b[0;36mH2OAutoML._fetch\u001b[0;34m(self)\u001b[0m\n\u001b[1;32m    708\u001b[0m \u001b[39mdef\u001b[39;00m \u001b[39m_fetch\u001b[39m(\u001b[39mself\u001b[39m):\n\u001b[0;32m--> 709\u001b[0m     state \u001b[39m=\u001b[39m _fetch_state(\u001b[39mself\u001b[39;49m\u001b[39m.\u001b[39;49mkey)\n\u001b[1;32m    710\u001b[0m     \u001b[39mself\u001b[39m\u001b[39m.\u001b[39m_leader_id \u001b[39m=\u001b[39m state[\u001b[39m'\u001b[39m\u001b[39mleader_id\u001b[39m\u001b[39m'\u001b[39m]\n\u001b[1;32m    711\u001b[0m     \u001b[39mself\u001b[39m\u001b[39m.\u001b[39m_leaderboard \u001b[39m=\u001b[39m state[\u001b[39m'\u001b[39m\u001b[39mleaderboard\u001b[39m\u001b[39m'\u001b[39m]\n",
      "File \u001b[0;32m~/.local/lib/python3.10/site-packages/h2o/automl/_base.py:335\u001b[0m, in \u001b[0;36m_fetch_state\u001b[0;34m(aml_id, properties, verbosity)\u001b[0m\n\u001b[1;32m    333\u001b[0m project_name \u001b[39m=\u001b[39m state_json[\u001b[39m\"\u001b[39m\u001b[39mproject_name\u001b[39m\u001b[39m\"\u001b[39m]\n\u001b[1;32m    334\u001b[0m \u001b[39mif\u001b[39;00m project_name \u001b[39mis\u001b[39;00m \u001b[39mNone\u001b[39;00m:\n\u001b[0;32m--> 335\u001b[0m     \u001b[39mraise\u001b[39;00m H2OValueError(\u001b[39m\"\u001b[39m\u001b[39mNo AutoML instance with id \u001b[39m\u001b[39m{}\u001b[39;00m\u001b[39m.\u001b[39m\u001b[39m\"\u001b[39m\u001b[39m.\u001b[39mformat(aml_id))\n\u001b[1;32m    337\u001b[0m leaderboard_list \u001b[39m=\u001b[39m [key[\u001b[39m\"\u001b[39m\u001b[39mname\u001b[39m\u001b[39m\"\u001b[39m] \u001b[39mfor\u001b[39;00m key \u001b[39min\u001b[39;00m state_json[\u001b[39m'\u001b[39m\u001b[39mleaderboard\u001b[39m\u001b[39m'\u001b[39m][\u001b[39m'\u001b[39m\u001b[39mmodels\u001b[39m\u001b[39m'\u001b[39m]]\n\u001b[1;32m    338\u001b[0m leader_id \u001b[39m=\u001b[39m leaderboard_list[\u001b[39m0\u001b[39m] \u001b[39mif\u001b[39;00m (leaderboard_list \u001b[39mis\u001b[39;00m \u001b[39mnot\u001b[39;00m \u001b[39mNone\u001b[39;00m \u001b[39mand\u001b[39;00m \u001b[39mlen\u001b[39m(leaderboard_list) \u001b[39m>\u001b[39m \u001b[39m0\u001b[39m) \u001b[39melse\u001b[39;00m \u001b[39mNone\u001b[39;00m\n",
      "\u001b[0;31mH2OValueError\u001b[0m: No AutoML instance with id None."
     ]
    }
   ],
   "source": [
    "# Remove features that are not in the training set\n",
    "test.fillna(0, inplace=True)\n",
    "test_pd = test[X]\n",
    "test_h2o = h2o.H2OFrame(test_pd)\n",
    "\n",
    "pred = autoML.predict(test_h2o)"
   ]
  },
  {
   "cell_type": "code",
   "execution_count": null,
   "metadata": {},
   "outputs": [],
   "source": [
    "prediction_no_edit = pred.as_data_frame()\n",
    "prediction_with_filter = pred.as_data_frame()\n",
    "\n",
    "prediction_with_filter[prediction_with_filter < 0] = 0\n",
    "\n",
    "# Add index to predictions in column left of predictions\n",
    "prediction_no_edit.insert(0, 'id', range(0, len(prediction_no_edit)))\n",
    "prediction_with_filter.insert(0, 'id', range(0, len(prediction_with_filter)))    \n",
    "\n",
    "# Remove column 'date_forecast'\n",
    "prediction_no_edit.drop(columns=['date_forecast'], inplace=True)\n",
    "prediction_with_filter.drop(columns=['date_forecast'], inplace=True)\n",
    "\n",
    "# Save predictions to csv in folder 'results'\n",
    "prediction_no_edit.to_csv('results/prediction_basic_nans_to_0.csv', index=False)\n",
    "prediction_with_filter.to_csv('results/prediction_with_filter_basic_nans_to_0.csv', index=False)"
   ]
  }
 ],
 "metadata": {
  "kernelspec": {
   "display_name": "Python 3",
   "language": "python",
   "name": "python3"
  },
  "language_info": {
   "codemirror_mode": {
    "name": "ipython",
    "version": 3
   },
   "file_extension": ".py",
   "mimetype": "text/x-python",
   "name": "python",
   "nbconvert_exporter": "python",
   "pygments_lexer": "ipython3",
   "version": "3.10.12"
  }
 },
 "nbformat": 4,
 "nbformat_minor": 2
}
