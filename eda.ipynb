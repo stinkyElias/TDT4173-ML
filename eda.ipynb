{
 "cells": [
  {
   "cell_type": "code",
   "execution_count": 1,
   "metadata": {},
   "outputs": [],
   "source": [
    "import sweetviz as sv\n",
    "import numpy as np\n",
    "import pandas as pd"
   ]
  },
  {
   "cell_type": "markdown",
   "metadata": {},
   "source": [
    "## Exploratory Data Analysis (EDA) using sweetViz and datapre.eda\n",
    "### To compare observed and predicted"
   ]
  },
  {
   "cell_type": "code",
   "execution_count": 8,
   "metadata": {},
   "outputs": [
    {
     "data": {
      "application/vnd.jupyter.widget-view+json": {
       "model_id": "c3dce6ba10d547efa272a5a362bb2ee5",
       "version_major": 2,
       "version_minor": 0
      },
      "text/plain": [
       "                                             |          | [  0%]   00:00 -> (? left)"
      ]
     },
     "metadata": {},
     "output_type": "display_data"
    },
    {
     "data": {
      "application/vnd.jupyter.widget-view+json": {
       "model_id": "f36d0119f41a4a0495eeba412cf092ae",
       "version_major": 2,
       "version_minor": 0
      },
      "text/plain": [
       "                                             |          | [  0%]   00:00 -> (? left)"
      ]
     },
     "metadata": {},
     "output_type": "display_data"
    },
    {
     "data": {
      "application/vnd.jupyter.widget-view+json": {
       "model_id": "7b71dbbfdbd442478ffbc49f330fc8fe",
       "version_major": 2,
       "version_minor": 0
      },
      "text/plain": [
       "                                             |          | [  0%]   00:00 -> (? left)"
      ]
     },
     "metadata": {},
     "output_type": "display_data"
    }
   ],
   "source": [
    "A_est = pd.read_parquet('data/A/parquet/X_train_estimated.parquet', engine='pyarrow')\n",
    "A_obs = pd.read_parquet('data/A/parquet/X_train_observed.parquet', engine='pyarrow')\n",
    "B_est = pd.read_parquet('data/B/parquet/X_train_estimated.parquet', engine='pyarrow')\n",
    "B_obs = pd.read_parquet('data/B/parquet/X_train_observed.parquet', engine='pyarrow')\n",
    "C_est = pd.read_parquet('data/C/parquet/X_train_estimated.parquet', engine='pyarrow')\n",
    "C_obs = pd.read_parquet('data/C/parquet/X_train_observed.parquet', engine='pyarrow')\n",
    "\n",
    "# Generate comparison reports\n",
    "A_report = sv.compare(A_est, A_obs)\n",
    "B_report = sv.compare(B_est, B_obs)\n",
    "C_report = sv.compare(C_est, C_obs)"
   ]
  },
  {
   "cell_type": "code",
   "execution_count": null,
   "metadata": {},
   "outputs": [],
   "source": [
    "# Show reports"
   ]
  }
 ],
 "metadata": {
  "kernelspec": {
   "display_name": "base",
   "language": "python",
   "name": "python3"
  },
  "language_info": {
   "codemirror_mode": {
    "name": "ipython",
    "version": 3
   },
   "file_extension": ".py",
   "mimetype": "text/x-python",
   "name": "python",
   "nbconvert_exporter": "python",
   "pygments_lexer": "ipython3",
   "version": "3.10.9"
  },
  "orig_nbformat": 4
 },
 "nbformat": 4,
 "nbformat_minor": 2
}
