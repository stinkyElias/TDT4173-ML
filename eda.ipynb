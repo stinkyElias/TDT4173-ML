{
 "cells": [
  {
   "cell_type": "code",
   "execution_count": 74,
   "metadata": {},
   "outputs": [],
   "source": [
    "import sweetviz as sv\n",
    "import pandas as pd\n",
    "import seaborn as sns\n",
    "import dataprep.eda as eda\n",
    "import matplotlib.pyplot as plt\n",
    "from datetime import datetime"
   ]
  },
  {
   "cell_type": "markdown",
   "metadata": {},
   "source": [
    "# Read data"
   ]
  },
  {
   "cell_type": "code",
   "execution_count": 122,
   "metadata": {},
   "outputs": [],
   "source": [
    "A_est = pd.read_parquet('data/A/parquet/X_train_estimated.parquet', engine='pyarrow')\n",
    "A_obs = pd.read_parquet('data/A/parquet/X_train_observed.parquet', engine='pyarrow')\n",
    "B_est = pd.read_parquet('data/B/parquet/X_train_estimated.parquet', engine='pyarrow')\n",
    "B_obs = pd.read_parquet('data/B/parquet/X_train_observed.parquet', engine='pyarrow')\n",
    "C_est = pd.read_parquet('data/C/parquet/X_train_estimated.parquet', engine='pyarrow')\n",
    "C_obs = pd.read_parquet('data/C/parquet/X_train_observed.parquet', engine='pyarrow')\n",
    "\n",
    "A_target = pd.read_parquet('data/A/parquet/train_targets.parquet', engine='pyarrow')\n",
    "B_target = pd.read_parquet('data/B/parquet/train_targets.parquet', engine='pyarrow')\n",
    "C_target = pd.read_parquet('data/C/parquet/train_targets.parquet', engine='pyarrow')"
   ]
  },
  {
   "cell_type": "markdown",
   "metadata": {},
   "source": [
    "### Create test data"
   ]
  },
  {
   "cell_type": "code",
   "execution_count": 123,
   "metadata": {},
   "outputs": [],
   "source": [
    "# merge X_train_observed and X_train_estimated (without its first column) into one dataframe\n",
    "A_train = pd.concat([A_obs, A_est.iloc[:,1:]], axis=0)\n",
    "B_train = pd.concat([B_obs, B_est.iloc[:,1:]], axis=0)\n",
    "C_train = pd.concat([C_obs, C_est.iloc[:,1:]], axis=0)"
   ]
  },
  {
   "cell_type": "markdown",
   "metadata": {},
   "source": [
    "#### Convert index to datetime"
   ]
  },
  {
   "cell_type": "code",
   "execution_count": 124,
   "metadata": {},
   "outputs": [],
   "source": [
    "def convert_timestamp_to_datetime(timestamp):\n",
    "    try:\n",
    "        # Convert Timestamp to Python datetime\n",
    "        datetime_object = timestamp.to_pydatetime()\n",
    "        return datetime_object\n",
    "    except AttributeError as e:\n",
    "        print(f\"Error: {e}\")\n",
    "        return None"
   ]
  },
  {
   "cell_type": "code",
   "execution_count": 125,
   "metadata": {},
   "outputs": [],
   "source": [
    "A_train['date_forecast'] = A_train['date_forecast'].apply(convert_timestamp_to_datetime)\n",
    "A_train.set_index('date_forecast', inplace=True)\n",
    "B_train['date_forecast'] = B_train['date_forecast'].apply(convert_timestamp_to_datetime)\n",
    "B_train.set_index('date_forecast', inplace=True)\n",
    "C_train['date_forecast'] = C_train['date_forecast'].apply(convert_timestamp_to_datetime)\n",
    "C_train.set_index('date_forecast', inplace=True)"
   ]
  },
  {
   "cell_type": "code",
   "execution_count": 126,
   "metadata": {},
   "outputs": [],
   "source": [
    "A_target['time'] = A_target['time'].apply(convert_timestamp_to_datetime)\n",
    "A_target.set_index('time', inplace=True)\n",
    "B_target['time'] = B_target['time'].apply(convert_timestamp_to_datetime)\n",
    "B_target.set_index('time', inplace=True)\n",
    "C_target['time'] = C_target['time'].apply(convert_timestamp_to_datetime)\n",
    "C_target.set_index('time', inplace=True)"
   ]
  },
  {
   "cell_type": "markdown",
   "metadata": {},
   "source": [
    "## Exploratory Data Analysis (EDA) using sweetViz and datapre.eda\n",
    "### To compare observed and predicted"
   ]
  },
  {
   "cell_type": "code",
   "execution_count": null,
   "metadata": {},
   "outputs": [],
   "source": [
    "# Generate comparison reports using Sweetviz\n",
    "SV_A_report = sv.compare([A_est, \"A: X train estimated\"], [A_obs, \"A: X train observed\"])\n",
    "SV_B_report = sv.compare([B_est, \"B: X train estimated\"], [B_obs, \"B: X train observed\"])\n",
    "SV_C_report = sv.compare([C_est, \"C: X train estimated\"], [C_obs, \"C: X train observed\"])"
   ]
  },
  {
   "cell_type": "markdown",
   "metadata": {},
   "source": [
    "## Dataprep EDA\n",
    "\n",
    "### Plot correlation"
   ]
  },
  {
   "cell_type": "code",
   "execution_count": null,
   "metadata": {},
   "outputs": [],
   "source": [
    "# Genereate EDA reports using dataprep\n",
    "DP_A_report_est = eda.create_report(A_est)\n",
    "DP_B_report_est = eda.create_report(B_est)\n",
    "DP_C_report_est = eda.create_report(C_est)\n",
    "DP_A_report_obs = eda.create_report(A_obs)\n",
    "DP_B_report_obs = eda.create_report(B_obs)\n",
    "DP_C_report_obs = eda.create_report(C_obs)"
   ]
  },
  {
   "cell_type": "code",
   "execution_count": null,
   "metadata": {},
   "outputs": [],
   "source": [
    "# Save reports\n",
    "DP_A_report_est.save('DP_A_report_est.html')\n",
    "DP_B_report_est.save('DP_B_report_est.html')\n",
    "DP_C_report_est.save('DP_C_report_est.html')\n",
    "DP_A_report_obs.save('DP_A_report_obs.html')\n",
    "DP_B_report_obs.save('DP_B_report_obs.html')\n",
    "DP_C_report_obs.save('DP_C_report_obs.html')"
   ]
  }
 ],
 "metadata": {
  "kernelspec": {
   "display_name": "base",
   "language": "python",
   "name": "python3"
  },
  "language_info": {
   "codemirror_mode": {
    "name": "ipython",
    "version": 3
   },
   "file_extension": ".py",
   "mimetype": "text/x-python",
   "name": "python",
   "nbconvert_exporter": "python",
   "pygments_lexer": "ipython3",
   "version": "3.10.9"
  },
  "orig_nbformat": 4
 },
 "nbformat": 4,
 "nbformat_minor": 2
}
