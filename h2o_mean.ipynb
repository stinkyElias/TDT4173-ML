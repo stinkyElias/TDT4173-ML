{
 "cells": [
  {
   "cell_type": "code",
   "execution_count": null,
   "metadata": {},
   "outputs": [],
   "source": [
    "%load_ext autoreload"
   ]
  },
  {
   "cell_type": "code",
   "execution_count": null,
   "metadata": {},
   "outputs": [],
   "source": [
    "%autoreload\n",
    "\n",
    "import h2o\n",
    "import create_data as create\n",
    "import pandas as pd\n",
    "import create_delivery_file as delivery\n",
    "import save_model as save\n",
    "\n",
    "from h2o.automl import H2OAutoML"
   ]
  },
  {
   "cell_type": "code",
   "execution_count": null,
   "metadata": {},
   "outputs": [],
   "source": [
    "data = create.CreateTrainingData()\n",
    "train = data.create_training_data_with_mean_features()\n",
    "test = create.create_test_data()\n",
    "target = create.create_target_data()"
   ]
  },
  {
   "cell_type": "code",
   "execution_count": null,
   "metadata": {},
   "outputs": [],
   "source": [
    "h2o.init()"
   ]
  },
  {
   "cell_type": "code",
   "execution_count": null,
   "metadata": {},
   "outputs": [],
   "source": [
    "# Delete all rows with nans in pv_measurement column in train\n",
    "# train = train[train['pv_measurement'].isna() == False]\n",
    "\n",
    "X_train = h2o.H2OFrame(train)\n",
    "y = 'pv_measurement'\n",
    "\n",
    "X = X_train.columns\n",
    "X.remove(y)"
   ]
  },
  {
   "cell_type": "code",
   "execution_count": null,
   "metadata": {},
   "outputs": [],
   "source": [
    "autoML = H2OAutoML(max_models=30, seed=4, nfolds=5)\n",
    "autoML.train(x=X, y=y, training_frame=X_train)"
   ]
  },
  {
   "cell_type": "code",
   "execution_count": null,
   "metadata": {},
   "outputs": [],
   "source": [
    "best_model = autoML.leader\n",
    "save.save_model(best_model, 'h2o_mean')"
   ]
  },
  {
   "cell_type": "code",
   "execution_count": null,
   "metadata": {},
   "outputs": [],
   "source": [
    "# Remove features that are not in the training set\n",
    "# test.fillna(0, inplace=True)\n",
    "test_pd = test[X]\n",
    "test_h2o = h2o.H2OFrame(test_pd)\n",
    "\n",
    "pred = autoML.predict(test_h2o)"
   ]
  },
  {
   "cell_type": "code",
   "execution_count": null,
   "metadata": {},
   "outputs": [],
   "source": [
    "file = delivery.CreateDelivery(pred, 'mean_features_in_training_no_feature_engineering')\n",
    "file.create_delivery_file()"
   ]
  }
 ],
 "metadata": {
  "kernelspec": {
   "display_name": "Python 3",
   "language": "python",
   "name": "python3"
  },
  "language_info": {
   "codemirror_mode": {
    "name": "ipython",
    "version": 3
   },
   "file_extension": ".py",
   "mimetype": "text/x-python",
   "name": "python",
   "nbconvert_exporter": "python",
   "pygments_lexer": "ipython3",
   "version": "3.10.12"
  }
 },
 "nbformat": 4,
 "nbformat_minor": 2
}
