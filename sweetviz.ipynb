{
 "cells": [
  {
   "cell_type": "code",
   "execution_count": 1,
   "metadata": {},
   "outputs": [],
   "source": [
    "import sys\n",
    "sys.path.append('../')"
   ]
  },
  {
   "cell_type": "code",
   "execution_count": 2,
   "metadata": {},
   "outputs": [],
   "source": [
    "%load_ext autoreload"
   ]
  },
  {
   "cell_type": "code",
   "execution_count": 3,
   "metadata": {},
   "outputs": [],
   "source": [
    "%autoreload 2\n",
    "\n",
    "import os\n",
    "import sweetviz as sv\n",
    "import pandas as pd\n",
    "import matplotlib.pyplot as plt\n",
    "\n",
    "home_dir = os.path.join(os.path.expanduser('~'), 'Documents/TDT4173-ML')\n",
    "load_data_path = os.path.join(home_dir, 'data_feature_engineering')\n",
    "# save_data_path = os.path.join(home_dir, 'data_feature_engineering')"
   ]
  },
  {
   "cell_type": "code",
   "execution_count": 17,
   "metadata": {},
   "outputs": [],
   "source": [
    "train = pd.read_csv(os.path.join(load_data_path, 'mean_estimated_feature_train.csv'))\n",
    "train.set_index('date_forecast', inplace=True)"
   ]
  },
  {
   "cell_type": "code",
   "execution_count": 18,
   "metadata": {},
   "outputs": [],
   "source": [
    "keep_features = ['clear_sky_energy_1h:J','clear_sky_rad:W','diffuse_rad:W','diffuse_rad_1h:J','direct_rad:W','direct_rad_1h:J', 'pv_measurement']\n",
    "\n",
    "# Keep only keep_features in train\n",
    "train = train[keep_features]"
   ]
  },
  {
   "cell_type": "code",
   "execution_count": 19,
   "metadata": {},
   "outputs": [
    {
     "name": "stdout",
     "output_type": "stream",
     "text": [
      "                     clear_sky_energy_1h:J  clear_sky_rad:W  diffuse_rad:W  \\\n",
      "date_forecast                                                                \n",
      "2019-06-02 22:00:00                    0.0              0.0            0.0   \n",
      "2019-06-02 23:00:00                    0.0              0.0            0.0   \n",
      "2019-06-03 00:00:00                    0.0              0.0            0.0   \n",
      "2019-06-03 22:00:00                    0.0              0.0            0.0   \n",
      "2019-06-03 23:00:00                    0.0              0.0            0.0   \n",
      "...                                    ...              ...            ...   \n",
      "2023-04-30 01:00:00                    0.0              0.0            0.0   \n",
      "2023-04-30 02:00:00                    0.0              0.0            0.0   \n",
      "2023-04-30 21:00:00                    0.0              0.0            0.0   \n",
      "2023-04-30 22:00:00                    0.0              0.0            0.0   \n",
      "2023-04-30 23:00:00                    0.0              0.0            0.0   \n",
      "\n",
      "                     diffuse_rad_1h:J  direct_rad:W  direct_rad_1h:J  \\\n",
      "date_forecast                                                          \n",
      "2019-06-02 22:00:00               0.0           0.0              0.0   \n",
      "2019-06-02 23:00:00               0.0           0.0              0.0   \n",
      "2019-06-03 00:00:00               0.0           0.0              0.0   \n",
      "2019-06-03 22:00:00               0.0           0.0              0.0   \n",
      "2019-06-03 23:00:00               0.0           0.0              0.0   \n",
      "...                               ...           ...              ...   \n",
      "2023-04-30 01:00:00               0.0           0.0              0.0   \n",
      "2023-04-30 02:00:00               0.0           0.0              0.0   \n",
      "2023-04-30 21:00:00               0.0           0.0              0.0   \n",
      "2023-04-30 22:00:00               0.0           0.0              0.0   \n",
      "2023-04-30 23:00:00               0.0           0.0              0.0   \n",
      "\n",
      "                     pv_measurement  \n",
      "date_forecast                        \n",
      "2019-06-02 22:00:00             0.0  \n",
      "2019-06-02 23:00:00             0.0  \n",
      "2019-06-03 00:00:00             0.0  \n",
      "2019-06-03 22:00:00             0.0  \n",
      "2019-06-03 23:00:00             0.0  \n",
      "...                             ...  \n",
      "2023-04-30 01:00:00             0.0  \n",
      "2023-04-30 02:00:00             0.0  \n",
      "2023-04-30 21:00:00             0.0  \n",
      "2023-04-30 22:00:00            -0.0  \n",
      "2023-04-30 23:00:00            -0.0  \n",
      "\n",
      "[39798 rows x 7 columns]\n"
     ]
    }
   ],
   "source": [
    "# Check number of rows with all values equal to 0\n",
    "print(train[(train == 0).all(axis=1)])"
   ]
  },
  {
   "cell_type": "code",
   "execution_count": 20,
   "metadata": {},
   "outputs": [
    {
     "data": {
      "text/plain": [
       "(92951, 7)"
      ]
     },
     "execution_count": 20,
     "metadata": {},
     "output_type": "execute_result"
    }
   ],
   "source": [
    "train.shape"
   ]
  },
  {
   "cell_type": "code",
   "execution_count": 21,
   "metadata": {},
   "outputs": [
    {
     "data": {
      "application/vnd.jupyter.widget-view+json": {
       "model_id": "ab36c716c48d43d596b72c4f279aec8c",
       "version_major": 2,
       "version_minor": 0
      },
      "text/plain": [
       "                                             |          | [  0%]   00:00 -> (? left)"
      ]
     },
     "metadata": {},
     "output_type": "display_data"
    }
   ],
   "source": [
    "report = sv.analyze(source=train, target_feat='pv_measurement')"
   ]
  },
  {
   "cell_type": "code",
   "execution_count": 22,
   "metadata": {},
   "outputs": [
    {
     "name": "stdout",
     "output_type": "stream",
     "text": [
      "Report SWEETVIZ_REPORT.html was generated! NOTEBOOK/COLAB USERS: the web browser MAY not pop up, regardless, the report IS saved in your notebook/colab files.\n"
     ]
    },
    {
     "name": "stderr",
     "output_type": "stream",
     "text": [
      "/snap/core20/current/lib/x86_64-linux-gnu/libstdc++.so.6: version `GLIBCXX_3.4.29' not found (required by /lib/x86_64-linux-gnu/libproxy.so.1)\n",
      "Failed to load module: /home/stinky/snap/code/common/.cache/gio-modules/libgiolibproxy.so\n",
      "/snap/core20/current/lib/x86_64-linux-gnu/libstdc++.so.6: version `GLIBCXX_3.4.29' not found (required by /lib/x86_64-linux-gnu/libproxy.so.1)\n",
      "Failed to load module: /home/stinky/snap/code/common/.cache/gio-modules/libgiolibproxy.so\n"
     ]
    },
    {
     "name": "stdout",
     "output_type": "stream",
     "text": [
      "Opening in existing browser session.\n"
     ]
    }
   ],
   "source": [
    "report.show_html()"
   ]
  },
  {
   "cell_type": "code",
   "execution_count": 23,
   "metadata": {},
   "outputs": [
    {
     "name": "stdout",
     "output_type": "stream",
     "text": [
      "pv_measurement           1.000000\n",
      "direct_rad:W             0.623036\n",
      "direct_rad_1h:J          0.613723\n",
      "clear_sky_rad:W          0.602105\n",
      "clear_sky_energy_1h:J    0.593617\n",
      "diffuse_rad:W            0.524993\n",
      "diffuse_rad_1h:J         0.520342\n",
      "Name: pv_measurement, dtype: float64\n"
     ]
    }
   ],
   "source": [
    "correlation_matrix = train.corr()\n",
    "print(correlation_matrix['pv_measurement'].sort_values(ascending=False))"
   ]
  },
  {
   "cell_type": "code",
   "execution_count": 24,
   "metadata": {},
   "outputs": [
    {
     "name": "stderr",
     "output_type": "stream",
     "text": [
      "/tmp/ipykernel_14018/3216274763.py:1: FutureWarning: this method is deprecated in favour of `Styler.format(precision=..)`\n",
      "  correlation_matrix.style.background_gradient(cmap='coolwarm').set_precision(2)\n"
     ]
    },
    {
     "data": {
      "text/html": [
       "<style type=\"text/css\">\n",
       "#T_aea4c_row0_col0, #T_aea4c_row1_col1, #T_aea4c_row2_col2, #T_aea4c_row3_col3, #T_aea4c_row4_col4, #T_aea4c_row5_col5, #T_aea4c_row6_col6 {\n",
       "  background-color: #b40426;\n",
       "  color: #f1f1f1;\n",
       "}\n",
       "#T_aea4c_row0_col1, #T_aea4c_row1_col0 {\n",
       "  background-color: #ba162b;\n",
       "  color: #f1f1f1;\n",
       "}\n",
       "#T_aea4c_row0_col2 {\n",
       "  background-color: #eb7d62;\n",
       "  color: #f1f1f1;\n",
       "}\n",
       "#T_aea4c_row0_col3 {\n",
       "  background-color: #e67259;\n",
       "  color: #f1f1f1;\n",
       "}\n",
       "#T_aea4c_row0_col4, #T_aea4c_row5_col0 {\n",
       "  background-color: #bad0f8;\n",
       "  color: #000000;\n",
       "}\n",
       "#T_aea4c_row0_col5, #T_aea4c_row1_col4 {\n",
       "  background-color: #c0d4f5;\n",
       "  color: #000000;\n",
       "}\n",
       "#T_aea4c_row0_col6 {\n",
       "  background-color: #6b8df0;\n",
       "  color: #f1f1f1;\n",
       "}\n",
       "#T_aea4c_row1_col2 {\n",
       "  background-color: #e8765c;\n",
       "  color: #f1f1f1;\n",
       "}\n",
       "#T_aea4c_row1_col3 {\n",
       "  background-color: #e97a5f;\n",
       "  color: #f1f1f1;\n",
       "}\n",
       "#T_aea4c_row1_col5 {\n",
       "  background-color: #bed2f6;\n",
       "  color: #000000;\n",
       "}\n",
       "#T_aea4c_row1_col6 {\n",
       "  background-color: #7093f3;\n",
       "  color: #f1f1f1;\n",
       "}\n",
       "#T_aea4c_row2_col0 {\n",
       "  background-color: #f08b6e;\n",
       "  color: #f1f1f1;\n",
       "}\n",
       "#T_aea4c_row2_col1 {\n",
       "  background-color: #ee8669;\n",
       "  color: #f1f1f1;\n",
       "}\n",
       "#T_aea4c_row2_col3, #T_aea4c_row3_col2 {\n",
       "  background-color: #bd1f2d;\n",
       "  color: #f1f1f1;\n",
       "}\n",
       "#T_aea4c_row2_col4, #T_aea4c_row2_col5, #T_aea4c_row3_col4, #T_aea4c_row3_col6, #T_aea4c_row6_col0, #T_aea4c_row6_col1, #T_aea4c_row6_col2, #T_aea4c_row6_col3 {\n",
       "  background-color: #3b4cc0;\n",
       "  color: #f1f1f1;\n",
       "}\n",
       "#T_aea4c_row2_col6 {\n",
       "  background-color: #3d50c3;\n",
       "  color: #f1f1f1;\n",
       "}\n",
       "#T_aea4c_row3_col0 {\n",
       "  background-color: #ec7f63;\n",
       "  color: #f1f1f1;\n",
       "}\n",
       "#T_aea4c_row3_col1 {\n",
       "  background-color: #f08a6c;\n",
       "  color: #f1f1f1;\n",
       "}\n",
       "#T_aea4c_row3_col5 {\n",
       "  background-color: #3e51c5;\n",
       "  color: #f1f1f1;\n",
       "}\n",
       "#T_aea4c_row4_col0 {\n",
       "  background-color: #b1cbfc;\n",
       "  color: #000000;\n",
       "}\n",
       "#T_aea4c_row4_col1, #T_aea4c_row5_col1 {\n",
       "  background-color: #b2ccfb;\n",
       "  color: #000000;\n",
       "}\n",
       "#T_aea4c_row4_col2 {\n",
       "  background-color: #5a78e4;\n",
       "  color: #f1f1f1;\n",
       "}\n",
       "#T_aea4c_row4_col3, #T_aea4c_row5_col2 {\n",
       "  background-color: #5d7ce6;\n",
       "  color: #f1f1f1;\n",
       "}\n",
       "#T_aea4c_row4_col5, #T_aea4c_row5_col4 {\n",
       "  background-color: #be242e;\n",
       "  color: #f1f1f1;\n",
       "}\n",
       "#T_aea4c_row4_col6 {\n",
       "  background-color: #80a3fa;\n",
       "  color: #f1f1f1;\n",
       "}\n",
       "#T_aea4c_row5_col3 {\n",
       "  background-color: #6384eb;\n",
       "  color: #f1f1f1;\n",
       "}\n",
       "#T_aea4c_row5_col6 {\n",
       "  background-color: #799cf8;\n",
       "  color: #f1f1f1;\n",
       "}\n",
       "#T_aea4c_row6_col4 {\n",
       "  background-color: #5e7de7;\n",
       "  color: #f1f1f1;\n",
       "}\n",
       "#T_aea4c_row6_col5 {\n",
       "  background-color: #5470de;\n",
       "  color: #f1f1f1;\n",
       "}\n",
       "</style>\n",
       "<table id=\"T_aea4c\">\n",
       "  <thead>\n",
       "    <tr>\n",
       "      <th class=\"blank level0\" >&nbsp;</th>\n",
       "      <th id=\"T_aea4c_level0_col0\" class=\"col_heading level0 col0\" >clear_sky_energy_1h:J</th>\n",
       "      <th id=\"T_aea4c_level0_col1\" class=\"col_heading level0 col1\" >clear_sky_rad:W</th>\n",
       "      <th id=\"T_aea4c_level0_col2\" class=\"col_heading level0 col2\" >diffuse_rad:W</th>\n",
       "      <th id=\"T_aea4c_level0_col3\" class=\"col_heading level0 col3\" >diffuse_rad_1h:J</th>\n",
       "      <th id=\"T_aea4c_level0_col4\" class=\"col_heading level0 col4\" >direct_rad:W</th>\n",
       "      <th id=\"T_aea4c_level0_col5\" class=\"col_heading level0 col5\" >direct_rad_1h:J</th>\n",
       "      <th id=\"T_aea4c_level0_col6\" class=\"col_heading level0 col6\" >pv_measurement</th>\n",
       "    </tr>\n",
       "  </thead>\n",
       "  <tbody>\n",
       "    <tr>\n",
       "      <th id=\"T_aea4c_level0_row0\" class=\"row_heading level0 row0\" >clear_sky_energy_1h:J</th>\n",
       "      <td id=\"T_aea4c_row0_col0\" class=\"data row0 col0\" >1.00</td>\n",
       "      <td id=\"T_aea4c_row0_col1\" class=\"data row0 col1\" >0.99</td>\n",
       "      <td id=\"T_aea4c_row0_col2\" class=\"data row0 col2\" >0.91</td>\n",
       "      <td id=\"T_aea4c_row0_col3\" class=\"data row0 col3\" >0.92</td>\n",
       "      <td id=\"T_aea4c_row0_col4\" class=\"data row0 col4\" >0.74</td>\n",
       "      <td id=\"T_aea4c_row0_col5\" class=\"data row0 col5\" >0.75</td>\n",
       "      <td id=\"T_aea4c_row0_col6\" class=\"data row0 col6\" >0.59</td>\n",
       "    </tr>\n",
       "    <tr>\n",
       "      <th id=\"T_aea4c_level0_row1\" class=\"row_heading level0 row1\" >clear_sky_rad:W</th>\n",
       "      <td id=\"T_aea4c_row1_col0\" class=\"data row1 col0\" >0.99</td>\n",
       "      <td id=\"T_aea4c_row1_col1\" class=\"data row1 col1\" >1.00</td>\n",
       "      <td id=\"T_aea4c_row1_col2\" class=\"data row1 col2\" >0.92</td>\n",
       "      <td id=\"T_aea4c_row1_col3\" class=\"data row1 col3\" >0.91</td>\n",
       "      <td id=\"T_aea4c_row1_col4\" class=\"data row1 col4\" >0.74</td>\n",
       "      <td id=\"T_aea4c_row1_col5\" class=\"data row1 col5\" >0.74</td>\n",
       "      <td id=\"T_aea4c_row1_col6\" class=\"data row1 col6\" >0.60</td>\n",
       "    </tr>\n",
       "    <tr>\n",
       "      <th id=\"T_aea4c_level0_row2\" class=\"row_heading level0 row2\" >diffuse_rad:W</th>\n",
       "      <td id=\"T_aea4c_row2_col0\" class=\"data row2 col0\" >0.91</td>\n",
       "      <td id=\"T_aea4c_row2_col1\" class=\"data row2 col1\" >0.92</td>\n",
       "      <td id=\"T_aea4c_row2_col2\" class=\"data row2 col2\" >1.00</td>\n",
       "      <td id=\"T_aea4c_row2_col3\" class=\"data row2 col3\" >0.99</td>\n",
       "      <td id=\"T_aea4c_row2_col4\" class=\"data row2 col4\" >0.57</td>\n",
       "      <td id=\"T_aea4c_row2_col5\" class=\"data row2 col5\" >0.58</td>\n",
       "      <td id=\"T_aea4c_row2_col6\" class=\"data row2 col6\" >0.52</td>\n",
       "    </tr>\n",
       "    <tr>\n",
       "      <th id=\"T_aea4c_level0_row3\" class=\"row_heading level0 row3\" >diffuse_rad_1h:J</th>\n",
       "      <td id=\"T_aea4c_row3_col0\" class=\"data row3 col0\" >0.92</td>\n",
       "      <td id=\"T_aea4c_row3_col1\" class=\"data row3 col1\" >0.91</td>\n",
       "      <td id=\"T_aea4c_row3_col2\" class=\"data row3 col2\" >0.99</td>\n",
       "      <td id=\"T_aea4c_row3_col3\" class=\"data row3 col3\" >1.00</td>\n",
       "      <td id=\"T_aea4c_row3_col4\" class=\"data row3 col4\" >0.57</td>\n",
       "      <td id=\"T_aea4c_row3_col5\" class=\"data row3 col5\" >0.58</td>\n",
       "      <td id=\"T_aea4c_row3_col6\" class=\"data row3 col6\" >0.52</td>\n",
       "    </tr>\n",
       "    <tr>\n",
       "      <th id=\"T_aea4c_level0_row4\" class=\"row_heading level0 row4\" >direct_rad:W</th>\n",
       "      <td id=\"T_aea4c_row4_col0\" class=\"data row4 col0\" >0.74</td>\n",
       "      <td id=\"T_aea4c_row4_col1\" class=\"data row4 col1\" >0.74</td>\n",
       "      <td id=\"T_aea4c_row4_col2\" class=\"data row4 col2\" >0.57</td>\n",
       "      <td id=\"T_aea4c_row4_col3\" class=\"data row4 col3\" >0.57</td>\n",
       "      <td id=\"T_aea4c_row4_col4\" class=\"data row4 col4\" >1.00</td>\n",
       "      <td id=\"T_aea4c_row4_col5\" class=\"data row4 col5\" >0.99</td>\n",
       "      <td id=\"T_aea4c_row4_col6\" class=\"data row4 col6\" >0.62</td>\n",
       "    </tr>\n",
       "    <tr>\n",
       "      <th id=\"T_aea4c_level0_row5\" class=\"row_heading level0 row5\" >direct_rad_1h:J</th>\n",
       "      <td id=\"T_aea4c_row5_col0\" class=\"data row5 col0\" >0.75</td>\n",
       "      <td id=\"T_aea4c_row5_col1\" class=\"data row5 col1\" >0.74</td>\n",
       "      <td id=\"T_aea4c_row5_col2\" class=\"data row5 col2\" >0.58</td>\n",
       "      <td id=\"T_aea4c_row5_col3\" class=\"data row5 col3\" >0.58</td>\n",
       "      <td id=\"T_aea4c_row5_col4\" class=\"data row5 col4\" >0.99</td>\n",
       "      <td id=\"T_aea4c_row5_col5\" class=\"data row5 col5\" >1.00</td>\n",
       "      <td id=\"T_aea4c_row5_col6\" class=\"data row5 col6\" >0.61</td>\n",
       "    </tr>\n",
       "    <tr>\n",
       "      <th id=\"T_aea4c_level0_row6\" class=\"row_heading level0 row6\" >pv_measurement</th>\n",
       "      <td id=\"T_aea4c_row6_col0\" class=\"data row6 col0\" >0.59</td>\n",
       "      <td id=\"T_aea4c_row6_col1\" class=\"data row6 col1\" >0.60</td>\n",
       "      <td id=\"T_aea4c_row6_col2\" class=\"data row6 col2\" >0.52</td>\n",
       "      <td id=\"T_aea4c_row6_col3\" class=\"data row6 col3\" >0.52</td>\n",
       "      <td id=\"T_aea4c_row6_col4\" class=\"data row6 col4\" >0.62</td>\n",
       "      <td id=\"T_aea4c_row6_col5\" class=\"data row6 col5\" >0.61</td>\n",
       "      <td id=\"T_aea4c_row6_col6\" class=\"data row6 col6\" >1.00</td>\n",
       "    </tr>\n",
       "  </tbody>\n",
       "</table>\n"
      ],
      "text/plain": [
       "<pandas.io.formats.style.Styler at 0x7f78dcac6530>"
      ]
     },
     "execution_count": 24,
     "metadata": {},
     "output_type": "execute_result"
    }
   ],
   "source": [
    "\n",
    "correlation_matrix.style.background_gradient(cmap='coolwarm').set_precision(2)"
   ]
  },
  {
   "cell_type": "code",
   "execution_count": 25,
   "metadata": {},
   "outputs": [
    {
     "data": {
      "image/png": "[encoded data removed]",
      "text/plain": [
       "<Figure size 480x480 with 1 Axes>"
      ]
     },
     "metadata": {},
     "output_type": "display_data"
    }
   ],
   "source": [
    "plt.matshow(correlation_matrix)\n",
    "plt.show()"
   ]
  },
  {
   "cell_type": "code",
   "execution_count": 26,
   "metadata": {},
   "outputs": [
    {
     "data": {
      "text/plain": [
       "<AxesSubplot:>"
      ]
     },
     "execution_count": 26,
     "metadata": {},
     "output_type": "execute_result"
    },
    {
     "data": {
      "image/png": "[encoded data removed]",
      "text/plain": [
       "<Figure size 640x480 with 2 Axes>"
      ]
     },
     "metadata": {},
     "output_type": "display_data"
    }
   ],
   "source": [
    "import seaborn as sns\n",
    "sns.heatmap(correlation_matrix, xticklabels=correlation_matrix.columns, yticklabels=correlation_matrix.columns)"
   ]
  }
 ],
 "metadata": {
  "kernelspec": {
   "display_name": "Python 3",
   "language": "python",
   "name": "python3"
  },
  "language_info": {
   "codemirror_mode": {
    "name": "ipython",
    "version": 3
   },
   "file_extension": ".py",
   "mimetype": "text/x-python",
   "name": "python",
   "nbconvert_exporter": "python",
   "pygments_lexer": "ipython3",
   "version": "3.10.12"
  }
 },
 "nbformat": 4,
 "nbformat_minor": 2
}
