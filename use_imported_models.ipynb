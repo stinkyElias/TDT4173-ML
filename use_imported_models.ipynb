{
 "cells": [
  {
   "cell_type": "code",
   "execution_count": 21,
   "metadata": {},
   "outputs": [
    {
     "name": "stdout",
     "output_type": "stream",
     "text": [
      "The autoreload extension is already loaded. To reload it, use:\n",
      "  %reload_ext autoreload\n"
     ]
    }
   ],
   "source": [
    "%load_ext autoreload"
   ]
  },
  {
   "cell_type": "code",
   "execution_count": 34,
   "metadata": {},
   "outputs": [
    {
     "name": "stdout",
     "output_type": "stream",
     "text": [
      "Columns containing missing values:\n",
      "['date_calc', 'absolute_humidity_2m:gm3', 'air_density_2m:kgm3', 'ceiling_height_agl:m', 'clear_sky_energy_1h:J', 'clear_sky_rad:W', 'cloud_base_agl:m', 'dew_or_rime:idx', 'dew_point_2m:K', 'diffuse_rad:W', 'diffuse_rad_1h:J', 'direct_rad:W', 'direct_rad_1h:J', 'effective_cloud_cover:p', 'elevation:m', 'fresh_snow_12h:cm', 'fresh_snow_1h:cm', 'fresh_snow_24h:cm', 'fresh_snow_3h:cm', 'fresh_snow_6h:cm', 'is_day:idx', 'is_in_shadow:idx', 'msl_pressure:hPa', 'precip_5min:mm', 'precip_type_5min:idx', 'pressure_100m:hPa', 'pressure_50m:hPa', 'prob_rime:p', 'rain_water:kgm2', 'relative_humidity_1000hPa:p', 'sfc_pressure:hPa', 'snow_density:kgm3', 'snow_depth:cm', 'snow_drift:idx', 'snow_melt_10min:mm', 'snow_water:kgm2', 'sun_azimuth:d', 'sun_elevation:d', 'super_cooled_liquid_water:kgm2', 't_1000hPa:K', 'total_cloud_cover:p', 'visibility:m', 'wind_speed_10m:ms', 'wind_speed_u_10m:ms', 'wind_speed_v_10m:ms', 'wind_speed_w_1000hPa:ms']\n"
     ]
    }
   ],
   "source": [
    "%autoreload\n",
    "\n",
    "import h2o\n",
    "import pandas as pd\n",
    "import create_data as create\n",
    "import create_delivery_file as delivery\n",
    "import save_model as save\n",
    "\n",
    "path_to_models = '/home/stinky/Documents/ntnu/ml/models/'\n",
    "\n",
    "data = create.CreateTrainingData()\n",
    "train = data.create_training_data_with_mean_features()\n",
    "test_mean = create.create_test_data(use_mean_values=True)\n",
    "target = create.create_target_data()\n",
    "\n",
    "# # Print column names containing missing values\n",
    "print('Columns containing missing values:')\n",
    "print(test_mean.columns[test_mean.isnull().any()].tolist())\n",
    "\n",
    "# test_mean.head()\n"
   ]
  },
  {
   "cell_type": "code",
   "execution_count": 23,
   "metadata": {},
   "outputs": [
    {
     "name": "stdout",
     "output_type": "stream",
     "text": [
      "Checking whether there is an H2O instance running at http://localhost:54321. connected.\n"
     ]
    },
    {
     "data": {
      "text/html": [
       "\n",
       "<style>\n",
       "\n",
       "#h2o-table-2.h2o-container {\n",
       "  overflow-x: auto;\n",
       "}\n",
       "#h2o-table-2 .h2o-table {\n",
       "  /* width: 100%; */\n",
       "  margin-top: 1em;\n",
       "  margin-bottom: 1em;\n",
       "}\n",
       "#h2o-table-2 .h2o-table caption {\n",
       "  white-space: nowrap;\n",
       "  caption-side: top;\n",
       "  text-align: left;\n",
       "  /* margin-left: 1em; */\n",
       "  margin: 0;\n",
       "  font-size: larger;\n",
       "}\n",
       "#h2o-table-2 .h2o-table thead {\n",
       "  white-space: nowrap; \n",
       "  position: sticky;\n",
       "  top: 0;\n",
       "  box-shadow: 0 -1px inset;\n",
       "}\n",
       "#h2o-table-2 .h2o-table tbody {\n",
       "  overflow: auto;\n",
       "}\n",
       "#h2o-table-2 .h2o-table th,\n",
       "#h2o-table-2 .h2o-table td {\n",
       "  text-align: right;\n",
       "  /* border: 1px solid; */\n",
       "}\n",
       "#h2o-table-2 .h2o-table tr:nth-child(even) {\n",
       "  /* background: #F5F5F5 */\n",
       "}\n",
       "\n",
       "</style>      \n",
       "<div id=\"h2o-table-2\" class=\"h2o-container\">\n",
       "  <table class=\"h2o-table\">\n",
       "    <caption></caption>\n",
       "    <thead></thead>\n",
       "    <tbody><tr><td>H2O_cluster_uptime:</td>\n",
       "<td>3 hours 54 mins</td></tr>\n",
       "<tr><td>H2O_cluster_timezone:</td>\n",
       "<td>Europe/Oslo</td></tr>\n",
       "<tr><td>H2O_data_parsing_timezone:</td>\n",
       "<td>UTC</td></tr>\n",
       "<tr><td>H2O_cluster_version:</td>\n",
       "<td>3.42.0.4</td></tr>\n",
       "<tr><td>H2O_cluster_version_age:</td>\n",
       "<td>23 days</td></tr>\n",
       "<tr><td>H2O_cluster_name:</td>\n",
       "<td>H2O_from_python_stinky_po5nhg</td></tr>\n",
       "<tr><td>H2O_cluster_total_nodes:</td>\n",
       "<td>1</td></tr>\n",
       "<tr><td>H2O_cluster_free_memory:</td>\n",
       "<td>1.334 Gb</td></tr>\n",
       "<tr><td>H2O_cluster_total_cores:</td>\n",
       "<td>4</td></tr>\n",
       "<tr><td>H2O_cluster_allowed_cores:</td>\n",
       "<td>4</td></tr>\n",
       "<tr><td>H2O_cluster_status:</td>\n",
       "<td>locked, healthy</td></tr>\n",
       "<tr><td>H2O_connection_url:</td>\n",
       "<td>http://localhost:54321</td></tr>\n",
       "<tr><td>H2O_connection_proxy:</td>\n",
       "<td>{\"http\": null, \"https\": null}</td></tr>\n",
       "<tr><td>H2O_internal_security:</td>\n",
       "<td>False</td></tr>\n",
       "<tr><td>Python_version:</td>\n",
       "<td>3.10.12 final</td></tr></tbody>\n",
       "  </table>\n",
       "</div>\n"
      ],
      "text/plain": [
       "--------------------------  -----------------------------\n",
       "H2O_cluster_uptime:         3 hours 54 mins\n",
       "H2O_cluster_timezone:       Europe/Oslo\n",
       "H2O_data_parsing_timezone:  UTC\n",
       "H2O_cluster_version:        3.42.0.4\n",
       "H2O_cluster_version_age:    23 days\n",
       "H2O_cluster_name:           H2O_from_python_stinky_po5nhg\n",
       "H2O_cluster_total_nodes:    1\n",
       "H2O_cluster_free_memory:    1.334 Gb\n",
       "H2O_cluster_total_cores:    4\n",
       "H2O_cluster_allowed_cores:  4\n",
       "H2O_cluster_status:         locked, healthy\n",
       "H2O_connection_url:         http://localhost:54321\n",
       "H2O_connection_proxy:       {\"http\": null, \"https\": null}\n",
       "H2O_internal_security:      False\n",
       "Python_version:             3.10.12 final\n",
       "--------------------------  -----------------------------"
      ]
     },
     "metadata": {},
     "output_type": "display_data"
    }
   ],
   "source": [
    "h2o.init()"
   ]
  },
  {
   "cell_type": "code",
   "execution_count": 24,
   "metadata": {},
   "outputs": [],
   "source": [
    "# train = train[train['pv_measurement'].isna() == False]\n",
    "\n",
    "# X_train = h2o.H2OFrame(train)\n",
    "# y = 'pv_measurement'\n",
    "\n",
    "# X = X_train.columns\n",
    "# X.remove(y)\n",
    "\n",
    "# test_pd = test_mean[X]\n",
    "# test_h2o = h2o.H2OFrame(test_pd)\n",
    "# test_mean = test_mean.drop(columns=['absolute_humidity_2m:gm3'], axis=1, inplace=True)\n",
    "test_mean = h2o.H2OFrame(test_mean)"
   ]
  },
  {
   "cell_type": "code",
   "execution_count": 25,
   "metadata": {},
   "outputs": [],
   "source": [
    "autoML = h2o.load_model(f'{path_to_models}h2o_mean')"
   ]
  },
  {
   "cell_type": "code",
   "execution_count": 26,
   "metadata": {},
   "outputs": [
    {
     "ename": "AssertionError",
     "evalue": "",
     "output_type": "error",
     "traceback": [
      "\u001b[0;31m---------------------------------------------------------------------------\u001b[0m",
      "\u001b[0;31mAssertionError\u001b[0m                            Traceback (most recent call last)",
      "\u001b[1;32m/home/stinky/Documents/ntnu/ml/TDT4173-ML/use_imported_models.ipynb Cell 6\u001b[0m line \u001b[0;36m1\n\u001b[0;32m----> <a href='vscode-notebook-cell:/home/stinky/Documents/ntnu/ml/TDT4173-ML/use_imported_models.ipynb#W5sZmlsZQ%3D%3D?line=0'>1</a>\u001b[0m pred \u001b[39m=\u001b[39m autoML\u001b[39m.\u001b[39;49mpredict(test_mean)\n",
      "File \u001b[0;32m~/.local/lib/python3.10/site-packages/h2o/model/model_base.py:319\u001b[0m, in \u001b[0;36mModelBase.predict\u001b[0;34m(self, test_data, custom_metric, custom_metric_func)\u001b[0m\n\u001b[1;32m    317\u001b[0m     eval_func_ref \u001b[39m=\u001b[39m h2o\u001b[39m.\u001b[39mupload_custom_metric(custom_metric)\n\u001b[1;32m    318\u001b[0m \u001b[39mif\u001b[39;00m \u001b[39mnot\u001b[39;00m \u001b[39misinstance\u001b[39m(test_data, h2o\u001b[39m.\u001b[39mH2OFrame): \u001b[39mraise\u001b[39;00m \u001b[39mValueError\u001b[39;00m(\u001b[39m\"\u001b[39m\u001b[39mtest_data must be an instance of H2OFrame\u001b[39m\u001b[39m\"\u001b[39m)\n\u001b[0;32m--> 319\u001b[0m j \u001b[39m=\u001b[39m H2OJob(h2o\u001b[39m.\u001b[39mapi(\u001b[39m\"\u001b[39m\u001b[39mPOST /4/Predictions/models/\u001b[39m\u001b[39m%s\u001b[39;00m\u001b[39m/frames/\u001b[39m\u001b[39m%s\u001b[39;00m\u001b[39m\"\u001b[39m \u001b[39m%\u001b[39m (\u001b[39mself\u001b[39m\u001b[39m.\u001b[39mmodel_id, test_data\u001b[39m.\u001b[39;49mframe_id), data \u001b[39m=\u001b[39m {\u001b[39m'\u001b[39m\u001b[39mcustom_metric_func\u001b[39m\u001b[39m'\u001b[39m: custom_metric_func}),\n\u001b[1;32m    320\u001b[0m            \u001b[39mself\u001b[39m\u001b[39m.\u001b[39m_model_json[\u001b[39m\"\u001b[39m\u001b[39malgo\u001b[39m\u001b[39m\"\u001b[39m] \u001b[39m+\u001b[39m \u001b[39m\"\u001b[39m\u001b[39m prediction\u001b[39m\u001b[39m\"\u001b[39m)\n\u001b[1;32m    321\u001b[0m j\u001b[39m.\u001b[39mpoll()\n\u001b[1;32m    322\u001b[0m \u001b[39mreturn\u001b[39;00m h2o\u001b[39m.\u001b[39mget_frame(j\u001b[39m.\u001b[39mdest_key)\n",
      "File \u001b[0;32m~/.local/lib/python3.10/site-packages/h2o/frame.py:403\u001b[0m, in \u001b[0;36mH2OFrame.frame_id\u001b[0;34m(self)\u001b[0m\n\u001b[1;32m    391\u001b[0m \u001b[39m@property\u001b[39m\n\u001b[1;32m    392\u001b[0m \u001b[39mdef\u001b[39;00m \u001b[39mframe_id\u001b[39m(\u001b[39mself\u001b[39m):\n\u001b[1;32m    393\u001b[0m     \u001b[39m\"\"\"\u001b[39;00m\n\u001b[1;32m    394\u001b[0m \u001b[39m    Internal id of the frame (str).\u001b[39;00m\n\u001b[1;32m    395\u001b[0m \n\u001b[0;32m   (...)\u001b[0m\n\u001b[1;32m    401\u001b[0m \u001b[39m    >>> print(iris.frame_id)\u001b[39;00m\n\u001b[1;32m    402\u001b[0m \u001b[39m    \"\"\"\u001b[39;00m\n\u001b[0;32m--> 403\u001b[0m     \u001b[39mreturn\u001b[39;00m \u001b[39mself\u001b[39;49m\u001b[39m.\u001b[39;49m_frame()\u001b[39m.\u001b[39m_ex\u001b[39m.\u001b[39m_cache\u001b[39m.\u001b[39m_id\n",
      "File \u001b[0;32m~/.local/lib/python3.10/site-packages/h2o/frame.py:569\u001b[0m, in \u001b[0;36mH2OFrame._frame\u001b[0;34m(self, rows, rows_offset, cols, cols_offset, fill_cache)\u001b[0m\n\u001b[1;32m    568\u001b[0m \u001b[39mdef\u001b[39;00m \u001b[39m_frame\u001b[39m(\u001b[39mself\u001b[39m, rows\u001b[39m=\u001b[39m\u001b[39m10\u001b[39m, rows_offset\u001b[39m=\u001b[39m\u001b[39m0\u001b[39m, cols\u001b[39m=\u001b[39m\u001b[39m-\u001b[39m\u001b[39m1\u001b[39m, cols_offset\u001b[39m=\u001b[39m\u001b[39m0\u001b[39m, fill_cache\u001b[39m=\u001b[39m\u001b[39mFalse\u001b[39;00m):\n\u001b[0;32m--> 569\u001b[0m     \u001b[39mself\u001b[39;49m\u001b[39m.\u001b[39;49m_ex\u001b[39m.\u001b[39;49m_eager_frame()\n\u001b[1;32m    570\u001b[0m     \u001b[39mif\u001b[39;00m fill_cache:\n\u001b[1;32m    571\u001b[0m         \u001b[39mself\u001b[39m\u001b[39m.\u001b[39m_ex\u001b[39m.\u001b[39m_cache\u001b[39m.\u001b[39mfill(rows\u001b[39m=\u001b[39mrows, rows_offset\u001b[39m=\u001b[39mrows_offset, cols\u001b[39m=\u001b[39mcols, cols_offset\u001b[39m=\u001b[39mcols_offset)\n",
      "File \u001b[0;32m~/.local/lib/python3.10/site-packages/h2o/expr.py:90\u001b[0m, in \u001b[0;36mExprNode._eager_frame\u001b[0;34m(self)\u001b[0m\n\u001b[1;32m     88\u001b[0m \u001b[39mif\u001b[39;00m \u001b[39mnot\u001b[39;00m \u001b[39mself\u001b[39m\u001b[39m.\u001b[39m_cache\u001b[39m.\u001b[39mis_empty(): \u001b[39mreturn\u001b[39;00m\n\u001b[1;32m     89\u001b[0m \u001b[39mif\u001b[39;00m \u001b[39mself\u001b[39m\u001b[39m.\u001b[39m_cache\u001b[39m.\u001b[39m_id \u001b[39mis\u001b[39;00m \u001b[39mnot\u001b[39;00m \u001b[39mNone\u001b[39;00m: \u001b[39mreturn\u001b[39;00m  \u001b[39m# Data already computed under ID, but not cached locally\u001b[39;00m\n\u001b[0;32m---> 90\u001b[0m \u001b[39mself\u001b[39;49m\u001b[39m.\u001b[39;49m_eval_driver(\u001b[39m'\u001b[39;49m\u001b[39mframe\u001b[39;49m\u001b[39m'\u001b[39;49m)\n",
      "File \u001b[0;32m~/.local/lib/python3.10/site-packages/h2o/expr.py:113\u001b[0m, in \u001b[0;36mExprNode._eval_driver\u001b[0;34m(self, top)\u001b[0m\n\u001b[1;32m    106\u001b[0m \u001b[39mdef\u001b[39;00m \u001b[39m_eval_driver\u001b[39m(\u001b[39mself\u001b[39m, top):\n\u001b[1;32m    107\u001b[0m     \u001b[39m\"\"\"\u001b[39;00m\n\u001b[1;32m    108\u001b[0m \u001b[39m    :param top: if this is a top expression (providing a final result),\u001b[39;00m\n\u001b[1;32m    109\u001b[0m \u001b[39m        then specifies the expected result type (accepted values = ['frame', 'scalar']),\u001b[39;00m\n\u001b[1;32m    110\u001b[0m \u001b[39m        or None if no object creation is expected.\u001b[39;00m\n\u001b[1;32m    111\u001b[0m \u001b[39m    :return: self expr\u001b[39;00m\n\u001b[1;32m    112\u001b[0m \u001b[39m    \"\"\"\u001b[39;00m\n\u001b[0;32m--> 113\u001b[0m     exec_str \u001b[39m=\u001b[39m \u001b[39mself\u001b[39;49m\u001b[39m.\u001b[39;49m_get_ast_str(top)\n\u001b[1;32m    114\u001b[0m     res \u001b[39m=\u001b[39m ExprNode\u001b[39m.\u001b[39mrapids(exec_str)\n\u001b[1;32m    115\u001b[0m     \u001b[39mif\u001b[39;00m \u001b[39m'\u001b[39m\u001b[39mscalar\u001b[39m\u001b[39m'\u001b[39m \u001b[39min\u001b[39;00m res:\n",
      "File \u001b[0;32m~/.local/lib/python3.10/site-packages/h2o/expr.py:150\u001b[0m, in \u001b[0;36mExprNode._get_ast_str\u001b[0;34m(self, top)\u001b[0m\n\u001b[1;32m    148\u001b[0m \u001b[39mif\u001b[39;00m \u001b[39mself\u001b[39m\u001b[39m.\u001b[39m_cache\u001b[39m.\u001b[39m_id \u001b[39mis\u001b[39;00m \u001b[39mnot\u001b[39;00m \u001b[39mNone\u001b[39;00m:\n\u001b[1;32m    149\u001b[0m     \u001b[39mreturn\u001b[39;00m \u001b[39mself\u001b[39m\u001b[39m.\u001b[39m_cache\u001b[39m.\u001b[39m_id  \u001b[39m# Data already computed under ID, but not cached\u001b[39;00m\n\u001b[0;32m--> 150\u001b[0m \u001b[39massert\u001b[39;00m \u001b[39misinstance\u001b[39m(\u001b[39mself\u001b[39m\u001b[39m.\u001b[39m_children,\u001b[39mtuple\u001b[39m)\n\u001b[1;32m    151\u001b[0m exec_str \u001b[39m=\u001b[39m \u001b[39m\"\u001b[39m\u001b[39m(\u001b[39m\u001b[39m{}\u001b[39;00m\u001b[39m \u001b[39m\u001b[39m{}\u001b[39;00m\u001b[39m)\u001b[39m\u001b[39m\"\u001b[39m\u001b[39m.\u001b[39mformat(\u001b[39mself\u001b[39m\u001b[39m.\u001b[39m_op, \u001b[39m\"\u001b[39m\u001b[39m \u001b[39m\u001b[39m\"\u001b[39m\u001b[39m.\u001b[39mjoin([ExprNode\u001b[39m.\u001b[39m_arg_to_expr(ast) \u001b[39mfor\u001b[39;00m ast \u001b[39min\u001b[39;00m \u001b[39mself\u001b[39m\u001b[39m.\u001b[39m_children]))\n\u001b[1;32m    153\u001b[0m \u001b[39mdef\u001b[39;00m \u001b[39mis_ast_expr\u001b[39m(ref):\n",
      "\u001b[0;31mAssertionError\u001b[0m: "
     ]
    }
   ],
   "source": [
    "pred = autoML.predict(test_mean)"
   ]
  },
  {
   "cell_type": "code",
   "execution_count": null,
   "metadata": {},
   "outputs": [],
   "source": [
    "file = delivery.CreateDelivery(pred, 'mean_features_in_training_and_test')\n",
    "file.create_delivery_file()"
   ]
  }
 ],
 "metadata": {
  "kernelspec": {
   "display_name": "Python 3",
   "language": "python",
   "name": "python3"
  },
  "language_info": {
   "codemirror_mode": {
    "name": "ipython",
    "version": 3
   },
   "file_extension": ".py",
   "mimetype": "text/x-python",
   "name": "python",
   "nbconvert_exporter": "python",
   "pygments_lexer": "ipython3",
   "version": "3.10.12"
  }
 },
 "nbformat": 4,
 "nbformat_minor": 2
}
