{
 "cells": [
  {
   "cell_type": "code",
   "execution_count": 22,
   "metadata": {},
   "outputs": [
    {
     "name": "stdout",
     "output_type": "stream",
     "text": [
      "The autoreload extension is already loaded. To reload it, use:\n",
      "  %reload_ext autoreload\n"
     ]
    }
   ],
   "source": [
    "%load_ext autoreload"
   ]
  },
  {
   "cell_type": "code",
   "execution_count": 32,
   "metadata": {},
   "outputs": [],
   "source": [
    "%autoreload \n",
    "import sys\n",
    "sys.path.append('../')\n",
    "\n",
    "import numpy as np\n",
    "import pandas as pd\n",
    "\n",
    "from pycaret.regression import *"
   ]
  },
  {
   "cell_type": "markdown",
   "metadata": {},
   "source": [
    "# Import data"
   ]
  },
  {
   "cell_type": "code",
   "execution_count": 47,
   "metadata": {},
   "outputs": [],
   "source": [
    "df = pd.read_csv('../data_feature_enigineering/df_selected_preprocessed_mean.csv')\n",
    "df = df.drop(columns=['date_forecast'])"
   ]
  },
  {
   "cell_type": "code",
   "execution_count": 48,
   "metadata": {},
   "outputs": [
    {
     "data": {
      "text/plain": [
       "direct_rad:W                   0\n",
       "sun_elevation:d                0\n",
       "visibility:m                   0\n",
       "pressure_100m:hPa              0\n",
       "relative_humidity_1000hPa:p    0\n",
       "day_of_year                    0\n",
       "air_density_2m:kgm3            0\n",
       "ceiling_height_agl:m           0\n",
       "wind_speed_u_10m:ms            0\n",
       "wind_speed_v_10m:ms            0\n",
       "sun_azimuth:d                  0\n",
       "day                            0\n",
       "wind_speed_10m:ms              0\n",
       "effective_cloud_cover:p        0\n",
       "day_of_week                    0\n",
       "fresh_snow_24h:cm              0\n",
       "fresh_snow_3h:cm               0\n",
       "building                       0\n",
       "pv_measurement                 0\n",
       "dtype: int64"
      ]
     },
     "execution_count": 48,
     "metadata": {},
     "output_type": "execute_result"
    }
   ],
   "source": [
    "# show nan values\n",
    "df.isnull().sum()"
   ]
  },
  {
   "cell_type": "markdown",
   "metadata": {},
   "source": [
    "# PyCaret setup"
   ]
  },
  {
   "cell_type": "code",
   "execution_count": 49,
   "metadata": {},
   "outputs": [
    {
     "data": {
      "text/html": [
       "<style type=\"text/css\">\n",
       "</style>\n",
       "<table id=\"T_8479b\">\n",
       "  <thead>\n",
       "    <tr>\n",
       "      <th class=\"blank level0\" >&nbsp;</th>\n",
       "      <th id=\"T_8479b_level0_col0\" class=\"col_heading level0 col0\" >Description</th>\n",
       "      <th id=\"T_8479b_level0_col1\" class=\"col_heading level0 col1\" >Value</th>\n",
       "    </tr>\n",
       "  </thead>\n",
       "  <tbody>\n",
       "    <tr>\n",
       "      <th id=\"T_8479b_level0_row0\" class=\"row_heading level0 row0\" >0</th>\n",
       "      <td id=\"T_8479b_row0_col0\" class=\"data row0 col0\" >Session id</td>\n",
       "      <td id=\"T_8479b_row0_col1\" class=\"data row0 col1\" >3</td>\n",
       "    </tr>\n",
       "    <tr>\n",
       "      <th id=\"T_8479b_level0_row1\" class=\"row_heading level0 row1\" >1</th>\n",
       "      <td id=\"T_8479b_row1_col0\" class=\"data row1 col0\" >Target</td>\n",
       "      <td id=\"T_8479b_row1_col1\" class=\"data row1 col1\" >pv_measurement</td>\n",
       "    </tr>\n",
       "    <tr>\n",
       "      <th id=\"T_8479b_level0_row2\" class=\"row_heading level0 row2\" >2</th>\n",
       "      <td id=\"T_8479b_row2_col0\" class=\"data row2 col0\" >Target type</td>\n",
       "      <td id=\"T_8479b_row2_col1\" class=\"data row2 col1\" >Regression</td>\n",
       "    </tr>\n",
       "    <tr>\n",
       "      <th id=\"T_8479b_level0_row3\" class=\"row_heading level0 row3\" >3</th>\n",
       "      <td id=\"T_8479b_row3_col0\" class=\"data row3 col0\" >Original data shape</td>\n",
       "      <td id=\"T_8479b_row3_col1\" class=\"data row3 col1\" >(92951, 19)</td>\n",
       "    </tr>\n",
       "    <tr>\n",
       "      <th id=\"T_8479b_level0_row4\" class=\"row_heading level0 row4\" >4</th>\n",
       "      <td id=\"T_8479b_row4_col0\" class=\"data row4 col0\" >Transformed data shape</td>\n",
       "      <td id=\"T_8479b_row4_col1\" class=\"data row4 col1\" >(92951, 19)</td>\n",
       "    </tr>\n",
       "    <tr>\n",
       "      <th id=\"T_8479b_level0_row5\" class=\"row_heading level0 row5\" >5</th>\n",
       "      <td id=\"T_8479b_row5_col0\" class=\"data row5 col0\" >Transformed train set shape</td>\n",
       "      <td id=\"T_8479b_row5_col1\" class=\"data row5 col1\" >(65065, 19)</td>\n",
       "    </tr>\n",
       "    <tr>\n",
       "      <th id=\"T_8479b_level0_row6\" class=\"row_heading level0 row6\" >6</th>\n",
       "      <td id=\"T_8479b_row6_col0\" class=\"data row6 col0\" >Transformed test set shape</td>\n",
       "      <td id=\"T_8479b_row6_col1\" class=\"data row6 col1\" >(27886, 19)</td>\n",
       "    </tr>\n",
       "    <tr>\n",
       "      <th id=\"T_8479b_level0_row7\" class=\"row_heading level0 row7\" >7</th>\n",
       "      <td id=\"T_8479b_row7_col0\" class=\"data row7 col0\" >Numeric features</td>\n",
       "      <td id=\"T_8479b_row7_col1\" class=\"data row7 col1\" >17</td>\n",
       "    </tr>\n",
       "    <tr>\n",
       "      <th id=\"T_8479b_level0_row8\" class=\"row_heading level0 row8\" >8</th>\n",
       "      <td id=\"T_8479b_row8_col0\" class=\"data row8 col0\" >Categorical features</td>\n",
       "      <td id=\"T_8479b_row8_col1\" class=\"data row8 col1\" >1</td>\n",
       "    </tr>\n",
       "  </tbody>\n",
       "</table>\n"
      ],
      "text/plain": [
       "<pandas.io.formats.style.Styler at 0x7f9a0f282940>"
      ]
     },
     "metadata": {},
     "output_type": "display_data"
    }
   ],
   "source": [
    "s = setup(df, target = 'pv_measurement', categorical_features=['building'], session_id=3, preprocess=False, )"
   ]
  },
  {
   "cell_type": "markdown",
   "metadata": {},
   "source": [
    "## Want to compare different tree models as they work well with this kinda problem"
   ]
  },
  {
   "cell_type": "code",
   "execution_count": 50,
   "metadata": {},
   "outputs": [
    {
     "data": {
      "text/html": [],
      "text/plain": [
       "<IPython.core.display.HTML object>"
      ]
     },
     "metadata": {},
     "output_type": "display_data"
    },
    {
     "data": {
      "text/html": [
       "<style type=\"text/css\">\n",
       "#T_d9e39 th {\n",
       "  text-align: left;\n",
       "}\n",
       "#T_d9e39_row0_col0, #T_d9e39_row0_col1, #T_d9e39_row0_col5, #T_d9e39_row0_col6, #T_d9e39_row1_col0, #T_d9e39_row1_col1, #T_d9e39_row1_col2, #T_d9e39_row1_col3, #T_d9e39_row1_col4, #T_d9e39_row1_col5, #T_d9e39_row1_col6, #T_d9e39_row2_col0, #T_d9e39_row2_col2, #T_d9e39_row2_col3, #T_d9e39_row2_col4, #T_d9e39_row2_col6, #T_d9e39_row3_col0, #T_d9e39_row3_col1, #T_d9e39_row3_col2, #T_d9e39_row3_col3, #T_d9e39_row3_col4, #T_d9e39_row3_col5, #T_d9e39_row3_col6, #T_d9e39_row4_col0, #T_d9e39_row4_col1, #T_d9e39_row4_col2, #T_d9e39_row4_col3, #T_d9e39_row4_col4, #T_d9e39_row4_col5, #T_d9e39_row4_col6, #T_d9e39_row5_col0, #T_d9e39_row5_col1, #T_d9e39_row5_col2, #T_d9e39_row5_col3, #T_d9e39_row5_col4, #T_d9e39_row5_col5, #T_d9e39_row5_col6, #T_d9e39_row6_col0, #T_d9e39_row6_col1, #T_d9e39_row6_col2, #T_d9e39_row6_col3, #T_d9e39_row6_col4, #T_d9e39_row6_col5, #T_d9e39_row6_col6, #T_d9e39_row7_col0, #T_d9e39_row7_col1, #T_d9e39_row7_col2, #T_d9e39_row7_col3, #T_d9e39_row7_col4, #T_d9e39_row7_col5, #T_d9e39_row7_col6, #T_d9e39_row8_col0, #T_d9e39_row8_col1, #T_d9e39_row8_col2, #T_d9e39_row8_col3, #T_d9e39_row8_col4, #T_d9e39_row8_col5 {\n",
       "  text-align: left;\n",
       "}\n",
       "#T_d9e39_row0_col2, #T_d9e39_row0_col3, #T_d9e39_row0_col4, #T_d9e39_row2_col1, #T_d9e39_row2_col5, #T_d9e39_row8_col6 {\n",
       "  text-align: left;\n",
       "  background-color: yellow;\n",
       "}\n",
       "#T_d9e39_row0_col7, #T_d9e39_row2_col7, #T_d9e39_row3_col7, #T_d9e39_row4_col7, #T_d9e39_row5_col7, #T_d9e39_row6_col7, #T_d9e39_row7_col7, #T_d9e39_row8_col7 {\n",
       "  text-align: left;\n",
       "  background-color: lightgrey;\n",
       "}\n",
       "#T_d9e39_row1_col7 {\n",
       "  text-align: left;\n",
       "  background-color: yellow;\n",
       "  background-color: lightgrey;\n",
       "}\n",
       "</style>\n",
       "<table id=\"T_d9e39\">\n",
       "  <thead>\n",
       "    <tr>\n",
       "      <th class=\"blank level0\" >&nbsp;</th>\n",
       "      <th id=\"T_d9e39_level0_col0\" class=\"col_heading level0 col0\" >Model</th>\n",
       "      <th id=\"T_d9e39_level0_col1\" class=\"col_heading level0 col1\" >MAE</th>\n",
       "      <th id=\"T_d9e39_level0_col2\" class=\"col_heading level0 col2\" >MSE</th>\n",
       "      <th id=\"T_d9e39_level0_col3\" class=\"col_heading level0 col3\" >RMSE</th>\n",
       "      <th id=\"T_d9e39_level0_col4\" class=\"col_heading level0 col4\" >R2</th>\n",
       "      <th id=\"T_d9e39_level0_col5\" class=\"col_heading level0 col5\" >RMSLE</th>\n",
       "      <th id=\"T_d9e39_level0_col6\" class=\"col_heading level0 col6\" >MAPE</th>\n",
       "      <th id=\"T_d9e39_level0_col7\" class=\"col_heading level0 col7\" >TT (Sec)</th>\n",
       "    </tr>\n",
       "  </thead>\n",
       "  <tbody>\n",
       "    <tr>\n",
       "      <th id=\"T_d9e39_level0_row0\" class=\"row_heading level0 row0\" >catboost</th>\n",
       "      <td id=\"T_d9e39_row0_col0\" class=\"data row0 col0\" >CatBoost Regressor</td>\n",
       "      <td id=\"T_d9e39_row0_col1\" class=\"data row0 col1\" >90.0495</td>\n",
       "      <td id=\"T_d9e39_row0_col2\" class=\"data row0 col2\" >62411.9970</td>\n",
       "      <td id=\"T_d9e39_row0_col3\" class=\"data row0 col3\" >249.6996</td>\n",
       "      <td id=\"T_d9e39_row0_col4\" class=\"data row0 col4\" >0.8945</td>\n",
       "      <td id=\"T_d9e39_row0_col5\" class=\"data row0 col5\" >1.7398</td>\n",
       "      <td id=\"T_d9e39_row0_col6\" class=\"data row0 col6\" >2.4388</td>\n",
       "      <td id=\"T_d9e39_row0_col7\" class=\"data row0 col7\" >7.2320</td>\n",
       "    </tr>\n",
       "    <tr>\n",
       "      <th id=\"T_d9e39_level0_row1\" class=\"row_heading level0 row1\" >xgboost</th>\n",
       "      <td id=\"T_d9e39_row1_col0\" class=\"data row1 col0\" >Extreme Gradient Boosting</td>\n",
       "      <td id=\"T_d9e39_row1_col1\" class=\"data row1 col1\" >93.5342</td>\n",
       "      <td id=\"T_d9e39_row1_col2\" class=\"data row1 col2\" >66268.1855</td>\n",
       "      <td id=\"T_d9e39_row1_col3\" class=\"data row1 col3\" >257.3089</td>\n",
       "      <td id=\"T_d9e39_row1_col4\" class=\"data row1 col4\" >0.8881</td>\n",
       "      <td id=\"T_d9e39_row1_col5\" class=\"data row1 col5\" >1.6781</td>\n",
       "      <td id=\"T_d9e39_row1_col6\" class=\"data row1 col6\" >4.5776</td>\n",
       "      <td id=\"T_d9e39_row1_col7\" class=\"data row1 col7\" >0.1850</td>\n",
       "    </tr>\n",
       "    <tr>\n",
       "      <th id=\"T_d9e39_level0_row2\" class=\"row_heading level0 row2\" >et</th>\n",
       "      <td id=\"T_d9e39_row2_col0\" class=\"data row2 col0\" >Extra Trees Regressor</td>\n",
       "      <td id=\"T_d9e39_row2_col1\" class=\"data row2 col1\" >86.0562</td>\n",
       "      <td id=\"T_d9e39_row2_col2\" class=\"data row2 col2\" >66793.2800</td>\n",
       "      <td id=\"T_d9e39_row2_col3\" class=\"data row2 col3\" >258.2828</td>\n",
       "      <td id=\"T_d9e39_row2_col4\" class=\"data row2 col4\" >0.8872</td>\n",
       "      <td id=\"T_d9e39_row2_col5\" class=\"data row2 col5\" >0.9308</td>\n",
       "      <td id=\"T_d9e39_row2_col6\" class=\"data row2 col6\" >2.0094</td>\n",
       "      <td id=\"T_d9e39_row2_col7\" class=\"data row2 col7\" >3.0620</td>\n",
       "    </tr>\n",
       "    <tr>\n",
       "      <th id=\"T_d9e39_level0_row3\" class=\"row_heading level0 row3\" >lightgbm</th>\n",
       "      <td id=\"T_d9e39_row3_col0\" class=\"data row3 col0\" >Light Gradient Boosting Machine</td>\n",
       "      <td id=\"T_d9e39_row3_col1\" class=\"data row3 col1\" >91.4516</td>\n",
       "      <td id=\"T_d9e39_row3_col2\" class=\"data row3 col2\" >67456.5182</td>\n",
       "      <td id=\"T_d9e39_row3_col3\" class=\"data row3 col3\" >259.5959</td>\n",
       "      <td id=\"T_d9e39_row3_col4\" class=\"data row3 col4\" >0.8860</td>\n",
       "      <td id=\"T_d9e39_row3_col5\" class=\"data row3 col5\" >1.4380</td>\n",
       "      <td id=\"T_d9e39_row3_col6\" class=\"data row3 col6\" >3.1145</td>\n",
       "      <td id=\"T_d9e39_row3_col7\" class=\"data row3 col7\" >195.5470</td>\n",
       "    </tr>\n",
       "    <tr>\n",
       "      <th id=\"T_d9e39_level0_row4\" class=\"row_heading level0 row4\" >rf</th>\n",
       "      <td id=\"T_d9e39_row4_col0\" class=\"data row4 col0\" >Random Forest Regressor</td>\n",
       "      <td id=\"T_d9e39_row4_col1\" class=\"data row4 col1\" >87.6967</td>\n",
       "      <td id=\"T_d9e39_row4_col2\" class=\"data row4 col2\" >68385.1113</td>\n",
       "      <td id=\"T_d9e39_row4_col3\" class=\"data row4 col3\" >261.3260</td>\n",
       "      <td id=\"T_d9e39_row4_col4\" class=\"data row4 col4\" >0.8845</td>\n",
       "      <td id=\"T_d9e39_row4_col5\" class=\"data row4 col5\" >0.9845</td>\n",
       "      <td id=\"T_d9e39_row4_col6\" class=\"data row4 col6\" >2.1144</td>\n",
       "      <td id=\"T_d9e39_row4_col7\" class=\"data row4 col7\" >9.8340</td>\n",
       "    </tr>\n",
       "    <tr>\n",
       "      <th id=\"T_d9e39_level0_row5\" class=\"row_heading level0 row5\" >gbr</th>\n",
       "      <td id=\"T_d9e39_row5_col0\" class=\"data row5 col0\" >Gradient Boosting Regressor</td>\n",
       "      <td id=\"T_d9e39_row5_col1\" class=\"data row5 col1\" >109.1628</td>\n",
       "      <td id=\"T_d9e39_row5_col2\" class=\"data row5 col2\" >81983.0105</td>\n",
       "      <td id=\"T_d9e39_row5_col3\" class=\"data row5 col3\" >286.1873</td>\n",
       "      <td id=\"T_d9e39_row5_col4\" class=\"data row5 col4\" >0.8615</td>\n",
       "      <td id=\"T_d9e39_row5_col5\" class=\"data row5 col5\" >1.9726</td>\n",
       "      <td id=\"T_d9e39_row5_col6\" class=\"data row5 col6\" >2.9284</td>\n",
       "      <td id=\"T_d9e39_row5_col7\" class=\"data row5 col7\" >3.0340</td>\n",
       "    </tr>\n",
       "    <tr>\n",
       "      <th id=\"T_d9e39_level0_row6\" class=\"row_heading level0 row6\" >ada</th>\n",
       "      <td id=\"T_d9e39_row6_col0\" class=\"data row6 col0\" >AdaBoost Regressor</td>\n",
       "      <td id=\"T_d9e39_row6_col1\" class=\"data row6 col1\" >169.4108</td>\n",
       "      <td id=\"T_d9e39_row6_col2\" class=\"data row6 col2\" >127862.8648</td>\n",
       "      <td id=\"T_d9e39_row6_col3\" class=\"data row6 col3\" >357.2364</td>\n",
       "      <td id=\"T_d9e39_row6_col4\" class=\"data row6 col4\" >0.7841</td>\n",
       "      <td id=\"T_d9e39_row6_col5\" class=\"data row6 col5\" >2.6466</td>\n",
       "      <td id=\"T_d9e39_row6_col6\" class=\"data row6 col6\" >10.1219</td>\n",
       "      <td id=\"T_d9e39_row6_col7\" class=\"data row6 col7\" >1.0270</td>\n",
       "    </tr>\n",
       "    <tr>\n",
       "      <th id=\"T_d9e39_level0_row7\" class=\"row_heading level0 row7\" >mlp</th>\n",
       "      <td id=\"T_d9e39_row7_col0\" class=\"data row7 col0\" >MLP Regressor</td>\n",
       "      <td id=\"T_d9e39_row7_col1\" class=\"data row7 col1\" >170.0252</td>\n",
       "      <td id=\"T_d9e39_row7_col2\" class=\"data row7 col2\" >133992.7331</td>\n",
       "      <td id=\"T_d9e39_row7_col3\" class=\"data row7 col3\" >364.2854</td>\n",
       "      <td id=\"T_d9e39_row7_col4\" class=\"data row7 col4\" >0.7738</td>\n",
       "      <td id=\"T_d9e39_row7_col5\" class=\"data row7 col5\" >2.8601</td>\n",
       "      <td id=\"T_d9e39_row7_col6\" class=\"data row7 col6\" >19.0269</td>\n",
       "      <td id=\"T_d9e39_row7_col7\" class=\"data row7 col7\" >6.5750</td>\n",
       "    </tr>\n",
       "    <tr>\n",
       "      <th id=\"T_d9e39_level0_row8\" class=\"row_heading level0 row8\" >dt</th>\n",
       "      <td id=\"T_d9e39_row8_col0\" class=\"data row8 col0\" >Decision Tree Regressor</td>\n",
       "      <td id=\"T_d9e39_row8_col1\" class=\"data row8 col1\" >116.9701</td>\n",
       "      <td id=\"T_d9e39_row8_col2\" class=\"data row8 col2\" >137235.2674</td>\n",
       "      <td id=\"T_d9e39_row8_col3\" class=\"data row8 col3\" >370.2612</td>\n",
       "      <td id=\"T_d9e39_row8_col4\" class=\"data row8 col4\" >0.7679</td>\n",
       "      <td id=\"T_d9e39_row8_col5\" class=\"data row8 col5\" >1.0053</td>\n",
       "      <td id=\"T_d9e39_row8_col6\" class=\"data row8 col6\" >1.3874</td>\n",
       "      <td id=\"T_d9e39_row8_col7\" class=\"data row8 col7\" >0.2950</td>\n",
       "    </tr>\n",
       "  </tbody>\n",
       "</table>\n"
      ],
      "text/plain": [
       "<pandas.io.formats.style.Styler at 0x7f9a58883e50>"
      ]
     },
     "metadata": {},
     "output_type": "display_data"
    },
    {
     "data": {
      "text/html": [],
      "text/plain": [
       "<IPython.core.display.HTML object>"
      ]
     },
     "metadata": {},
     "output_type": "display_data"
    }
   ],
   "source": [
    "compared_models = compare_models(include = ['dt', 'rf', 'et', 'gbr', 'xgboost', 'lightgbm', 'catboost', 'mlp', 'ada'], n_select=5)"
   ]
  },
  {
   "cell_type": "code",
   "execution_count": 54,
   "metadata": {},
   "outputs": [
    {
     "data": {
      "text/plain": [
       "[<catboost.core.CatBoostRegressor at 0x7f99ee62d670>,\n",
       " XGBRegressor(base_score=None, booster='gbtree', callbacks=None,\n",
       "              colsample_bylevel=None, colsample_bynode=None,\n",
       "              colsample_bytree=None, device=None, early_stopping_rounds=None,\n",
       "              enable_categorical=False, eval_metric=None, feature_types=None,\n",
       "              gamma=None, grow_policy=None, importance_type=None,\n",
       "              interaction_constraints=None, learning_rate=None, max_bin=None,\n",
       "              max_cat_threshold=None, max_cat_to_onehot=None,\n",
       "              max_delta_step=None, max_depth=None, max_leaves=None,\n",
       "              min_child_weight=None, missing=nan, monotone_constraints=None,\n",
       "              multi_strategy=None, n_estimators=None, n_jobs=-1,\n",
       "              num_parallel_tree=None, random_state=3, ...),\n",
       " ExtraTreesRegressor(n_jobs=-1, random_state=3),\n",
       " LGBMRegressor(n_jobs=-1, random_state=3),\n",
       " RandomForestRegressor(n_jobs=-1, random_state=3)]"
      ]
     },
     "execution_count": 54,
     "metadata": {},
     "output_type": "execute_result"
    }
   ],
   "source": [
    "compared_models"
   ]
  },
  {
   "cell_type": "code",
   "execution_count": 55,
   "metadata": {},
   "outputs": [],
   "source": [
    "# save the most promising models\n",
    "catboost = compared_models[0]\n",
    "extra_trees = compared_models[2]"
   ]
  },
  {
   "cell_type": "code",
   "execution_count": 57,
   "metadata": {},
   "outputs": [
    {
     "name": "stdout",
     "output_type": "stream",
     "text": [
      "Transformation Pipeline and Model Successfully Saved\n",
      "Transformation Pipeline and Model Successfully Saved\n"
     ]
    },
    {
     "data": {
      "text/plain": [
       "(Pipeline(memory=Memory(location=None),\n",
       "          steps=[('clean_column_names',\n",
       "                  TransformerWrapper(transformer=CleanColumnNames())),\n",
       "                 ('trained_model',\n",
       "                  ExtraTreesRegressor(n_jobs=-1, random_state=3))]),\n",
       " '/home/henrikraa/models/02H_pycaret_basic_extra_trees_mean_FE_1.pkl')"
      ]
     },
     "execution_count": 57,
     "metadata": {},
     "output_type": "execute_result"
    }
   ],
   "source": [
    "save_model(catboost, '/home/henrikraa/models/02H_pycaret_basic_catboost_mean_FE_1')\n",
    "save_model(extra_trees, '/home/henrikraa/models/02H_pycaret_basic_extra_trees_mean_FE_1')"
   ]
  },
  {
   "cell_type": "code",
   "execution_count": 59,
   "metadata": {},
   "outputs": [
    {
     "data": {
      "text/html": [
       "<div>\n",
       "<style scoped>\n",
       "    .dataframe tbody tr th:only-of-type {\n",
       "        vertical-align: middle;\n",
       "    }\n",
       "\n",
       "    .dataframe tbody tr th {\n",
       "        vertical-align: top;\n",
       "    }\n",
       "\n",
       "    .dataframe thead th {\n",
       "        text-align: right;\n",
       "    }\n",
       "</style>\n",
       "<table border=\"1\" class=\"dataframe\">\n",
       "  <thead>\n",
       "    <tr style=\"text-align: right;\">\n",
       "      <th></th>\n",
       "      <th></th>\n",
       "      <th></th>\n",
       "    </tr>\n",
       "    <tr>\n",
       "      <th></th>\n",
       "      <th></th>\n",
       "      <th></th>\n",
       "    </tr>\n",
       "  </thead>\n",
       "  <tbody>\n",
       "    <tr>\n",
       "      <th>Initiated</th>\n",
       "      <td>. . . . . . . . . . . . . . . . . .</td>\n",
       "      <td>22:26:26</td>\n",
       "    </tr>\n",
       "    <tr>\n",
       "      <th>Status</th>\n",
       "      <td>. . . . . . . . . . . . . . . . . .</td>\n",
       "      <td>Compiling Final Results</td>\n",
       "    </tr>\n",
       "    <tr>\n",
       "      <th>Estimator</th>\n",
       "      <td>. . . . . . . . . . . . . . . . . .</td>\n",
       "      <td>Extra Trees Regressor</td>\n",
       "    </tr>\n",
       "  </tbody>\n",
       "</table>\n",
       "</div>"
      ],
      "text/plain": [
       "                                                                       \n",
       "                                                                       \n",
       "Initiated  . . . . . . . . . . . . . . . . . .                 22:26:26\n",
       "Status     . . . . . . . . . . . . . . . . . .  Compiling Final Results\n",
       "Estimator  . . . . . . . . . . . . . . . . . .    Extra Trees Regressor"
      ]
     },
     "metadata": {},
     "output_type": "display_data"
    },
    {
     "data": {
      "text/html": [],
      "text/plain": [
       "<IPython.core.display.HTML object>"
      ]
     },
     "metadata": {},
     "output_type": "display_data"
    },
    {
     "data": {
      "text/html": [],
      "text/plain": [
       "<IPython.core.display.HTML object>"
      ]
     },
     "metadata": {},
     "output_type": "display_data"
    },
    {
     "name": "stderr",
     "output_type": "stream",
     "text": [
      "[I 2023-11-02 22:26:26,744] Searching the best hyperparameters using 65065 samples...\n",
      "[I 2023-11-03 02:35:33,267] Finished hyperparameter search!\n"
     ]
    }
   ],
   "source": [
    "tuned_extra_trees = tune_model(extra_trees, optimize='MAE', search_library = 'optuna', return_tuner=True)"
   ]
  }
 ],
 "metadata": {
  "kernelspec": {
   "display_name": "base",
   "language": "python",
   "name": "python3"
  },
  "language_info": {
   "codemirror_mode": {
    "name": "ipython",
    "version": 3
   },
   "file_extension": ".py",
   "mimetype": "text/x-python",
   "name": "python",
   "nbconvert_exporter": "python",
   "pygments_lexer": "ipython3",
   "version": "3.9.0"
  }
 },
 "nbformat": 4,
 "nbformat_minor": 2
}
